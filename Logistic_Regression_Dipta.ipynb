{
 "cells": [
  {
   "cell_type": "code",
   "execution_count": 1,
   "metadata": {},
   "outputs": [],
   "source": [
    "import numpy as np\n",
    "import pandas as pd"
   ]
  },
  {
   "cell_type": "code",
   "execution_count": 2,
   "metadata": {},
   "outputs": [],
   "source": [
    "import matplotlib.pyplot as plt\n",
    "import seaborn as sns\n",
    "%matplotlib inline"
   ]
  },
  {
   "cell_type": "code",
   "execution_count": 3,
   "metadata": {},
   "outputs": [],
   "source": [
    "df_train = pd.read_csv(\"train.csv\")\n",
    "df_test = pd.read_csv(\"test.csv\")"
   ]
  },
  {
   "cell_type": "code",
   "execution_count": 4,
   "metadata": {},
   "outputs": [
    {
     "data": {
      "text/plain": [
       "Index(['Dates', 'Category', 'Descript', 'DayOfWeek', 'PdDistrict',\n",
       "       'Resolution', 'Address', 'X', 'Y', 'Id'],\n",
       "      dtype='object')"
      ]
     },
     "execution_count": 4,
     "metadata": {},
     "output_type": "execute_result"
    }
   ],
   "source": [
    "df_train.columns"
   ]
  },
  {
   "cell_type": "code",
   "execution_count": 5,
   "metadata": {},
   "outputs": [],
   "source": [
    "df_train.drop(columns = \"Id\",axis = 1 ,inplace = True)"
   ]
  },
  {
   "cell_type": "code",
   "execution_count": 6,
   "metadata": {},
   "outputs": [],
   "source": [
    "df_test.drop(columns = \"Id\", axis = 1 , inplace = True)"
   ]
  },
  {
   "cell_type": "code",
   "execution_count": 7,
   "metadata": {},
   "outputs": [
    {
     "data": {
      "text/plain": [
       "array(['SEX OFFENSES FORCIBLE', 'LIQUOR LAWS', 'FRAUD', 'ROBBERY',\n",
       "       'OTHER OFFENSES', 'WARRANTS', 'BURGLARY', 'SUSPICIOUS OCC',\n",
       "       'DRUG/NARCOTIC', 'LARCENY/THEFT', 'VANDALISM', 'ASSAULT',\n",
       "       'VEHICLE THEFT', 'MISSING PERSON', 'NON-CRIMINAL', 'DRUNKENNESS',\n",
       "       'WEAPON LAWS', 'SECONDARY CODES', 'FORGERY/COUNTERFEITING',\n",
       "       'DRIVING UNDER THE INFLUENCE', 'PROSTITUTION', 'TRESPASS',\n",
       "       'RECOVERED VEHICLE', 'STOLEN PROPERTY', 'EMBEZZLEMENT',\n",
       "       'DISORDERLY CONDUCT', 'ARSON', 'KIDNAPPING', 'RUNAWAY', 'BRIBERY',\n",
       "       'LOITERING', 'FAMILY OFFENSES', 'EXTORTION', 'BAD CHECKS',\n",
       "       'GAMBLING', 'SUICIDE'], dtype=object)"
      ]
     },
     "execution_count": 7,
     "metadata": {},
     "output_type": "execute_result"
    }
   ],
   "source": [
    "df_train['Category'].unique()"
   ]
  },
  {
   "cell_type": "code",
   "execution_count": 8,
   "metadata": {},
   "outputs": [
    {
     "data": {
      "text/plain": [
       "array(['NONE', 'DISTRICT ATTORNEY REFUSES TO PROSECUTE', 'ARREST, BOOKED',\n",
       "       'COMPLAINANT REFUSES TO PROSECUTE', 'UNFOUNDED', 'ARREST, CITED',\n",
       "       'CLEARED-CONTACT JUVENILE FOR MORE INFO', 'EXCEPTIONAL CLEARANCE',\n",
       "       'JUVENILE BOOKED', 'JUVENILE ADMONISHED',\n",
       "       'PROSECUTED BY OUTSIDE AGENCY', 'NOT PROSECUTED', 'JUVENILE CITED',\n",
       "       'PSYCHOPATHIC CASE', 'LOCATED', 'JUVENILE DIVERTED'], dtype=object)"
      ]
     },
     "execution_count": 8,
     "metadata": {},
     "output_type": "execute_result"
    }
   ],
   "source": [
    "df_train[df_train['Category'] == 'SEX OFFENSES FORCIBLE' ]['Resolution'].unique()"
   ]
  },
  {
   "cell_type": "code",
   "execution_count": 9,
   "metadata": {},
   "outputs": [],
   "source": [
    "df_train.drop(columns = 'Descript',axis=1, inplace = True)\n",
    "df_test.drop(columns = 'Descript' , axis = 1, inplace = True)"
   ]
  },
  {
   "cell_type": "code",
   "execution_count": 10,
   "metadata": {},
   "outputs": [
    {
     "data": {
      "text/plain": [
       "Index(['Dates', 'Category', 'DayOfWeek', 'PdDistrict', 'Resolution', 'Address',\n",
       "       'X', 'Y'],\n",
       "      dtype='object')"
      ]
     },
     "execution_count": 10,
     "metadata": {},
     "output_type": "execute_result"
    }
   ],
   "source": [
    "df_train.columns"
   ]
  },
  {
   "cell_type": "code",
   "execution_count": 11,
   "metadata": {},
   "outputs": [
    {
     "data": {
      "text/plain": [
       "0    2013-06-28 17:40:00\n",
       "1    2004-02-19 02:46:00\n",
       "2    2007-11-14 00:01:00\n",
       "3    2007-12-27 18:30:00\n",
       "4    2012-09-09 17:02:00\n",
       "Name: Dates, dtype: object"
      ]
     },
     "execution_count": 11,
     "metadata": {},
     "output_type": "execute_result"
    }
   ],
   "source": [
    "df_train['Dates'].head()"
   ]
  },
  {
   "cell_type": "code",
   "execution_count": 12,
   "metadata": {},
   "outputs": [],
   "source": [
    "df_train['Dates'] = pd.to_datetime(df_train['Dates'])\n",
    "df_test['Dates'] = pd.to_datetime(df_train['Dates'])"
   ]
  },
  {
   "cell_type": "code",
   "execution_count": 13,
   "metadata": {},
   "outputs": [],
   "source": [
    "df_train['Year'] = df_train['Dates'].dt.year\n",
    "df_train['Month'] = df_train['Dates'].dt.month\n",
    "df_train['HourOfDay'] = df_train['Dates'].dt.hour"
   ]
  },
  {
   "cell_type": "code",
   "execution_count": 14,
   "metadata": {},
   "outputs": [],
   "source": [
    "df_train.drop(columns = 'Dates', axis =1 , inplace = True)\n"
   ]
  },
  {
   "cell_type": "code",
   "execution_count": 15,
   "metadata": {},
   "outputs": [],
   "source": [
    "df_test['Year'] = df_test['Dates'].dt.year\n",
    "df_test['Month'] = df_test['Dates'].dt.month\n",
    "df_test['HourOfDay'] = df_test['Dates'].dt.hour"
   ]
  },
  {
   "cell_type": "code",
   "execution_count": 16,
   "metadata": {},
   "outputs": [],
   "source": [
    "df_test.drop(columns = 'Dates', axis =1 , inplace = True)"
   ]
  },
  {
   "cell_type": "code",
   "execution_count": 17,
   "metadata": {},
   "outputs": [
    {
     "data": {
      "text/plain": [
       "<matplotlib.axes._subplots.AxesSubplot at 0x218fc8d3dd8>"
      ]
     },
     "execution_count": 17,
     "metadata": {},
     "output_type": "execute_result"
    },
    {
     "data": {
      "image/png": "[encoded data removed]",
      "text/plain": [
       "<Figure size 432x288 with 1 Axes>"
      ]
     },
     "metadata": {},
     "output_type": "display_data"
    }
   ],
   "source": [
    "sns.countplot(df_train['HourOfDay'])"
   ]
  },
  {
   "cell_type": "code",
   "execution_count": 18,
   "metadata": {},
   "outputs": [],
   "source": [
    "df_train['Month']=df_train['Month'].apply(lambda x : 'MonthLow' if x== 12 else ('MonthMed' if x in (2,6,7,8,9,11) else 'MonthHigh'))\n",
    "\n",
    "\n",
    "df_train['HourofDay']=df_train['HourOfDay'].apply(lambda x : 'Morning' if (x >= 1) & (x <=7) else ('Day' if x > 7 & x <=18 else 'Evening'))"
   ]
  },
  {
   "cell_type": "code",
   "execution_count": 19,
   "metadata": {},
   "outputs": [
    {
     "data": {
      "text/html": [
       "<div>\n",
       "<style scoped>\n",
       "    .dataframe tbody tr th:only-of-type {\n",
       "        vertical-align: middle;\n",
       "    }\n",
       "\n",
       "    .dataframe tbody tr th {\n",
       "        vertical-align: top;\n",
       "    }\n",
       "\n",
       "    .dataframe thead th {\n",
       "        text-align: right;\n",
       "    }\n",
       "</style>\n",
       "<table border=\"1\" class=\"dataframe\">\n",
       "  <thead>\n",
       "    <tr style=\"text-align: right;\">\n",
       "      <th></th>\n",
       "      <th>Category</th>\n",
       "      <th>DayOfWeek</th>\n",
       "      <th>PdDistrict</th>\n",
       "      <th>Resolution</th>\n",
       "      <th>Address</th>\n",
       "      <th>X</th>\n",
       "      <th>Y</th>\n",
       "      <th>Year</th>\n",
       "      <th>Month</th>\n",
       "      <th>HourOfDay</th>\n",
       "      <th>HourofDay</th>\n",
       "    </tr>\n",
       "  </thead>\n",
       "  <tbody>\n",
       "    <tr>\n",
       "      <th>0</th>\n",
       "      <td>SEX OFFENSES FORCIBLE</td>\n",
       "      <td>Friday</td>\n",
       "      <td>MISSION</td>\n",
       "      <td>NONE</td>\n",
       "      <td>2100 Block of MISSION ST</td>\n",
       "      <td>-122.419331</td>\n",
       "      <td>37.762264</td>\n",
       "      <td>2013</td>\n",
       "      <td>MonthMed</td>\n",
       "      <td>17</td>\n",
       "      <td>Day</td>\n",
       "    </tr>\n",
       "    <tr>\n",
       "      <th>1</th>\n",
       "      <td>LIQUOR LAWS</td>\n",
       "      <td>Thursday</td>\n",
       "      <td>SOUTHERN</td>\n",
       "      <td>ARREST, BOOKED</td>\n",
       "      <td>1000 Block of MARKET ST</td>\n",
       "      <td>-122.411340</td>\n",
       "      <td>37.781271</td>\n",
       "      <td>2004</td>\n",
       "      <td>MonthMed</td>\n",
       "      <td>2</td>\n",
       "      <td>Morning</td>\n",
       "    </tr>\n",
       "    <tr>\n",
       "      <th>2</th>\n",
       "      <td>FRAUD</td>\n",
       "      <td>Wednesday</td>\n",
       "      <td>SOUTHERN</td>\n",
       "      <td>NONE</td>\n",
       "      <td>800 Block of BRYANT ST</td>\n",
       "      <td>-122.403405</td>\n",
       "      <td>37.775421</td>\n",
       "      <td>2007</td>\n",
       "      <td>MonthMed</td>\n",
       "      <td>0</td>\n",
       "      <td>Evening</td>\n",
       "    </tr>\n",
       "    <tr>\n",
       "      <th>3</th>\n",
       "      <td>ROBBERY</td>\n",
       "      <td>Thursday</td>\n",
       "      <td>BAYVIEW</td>\n",
       "      <td>DISTRICT ATTORNEY REFUSES TO PROSECUTE</td>\n",
       "      <td>2400 Block of SAN BRUNO AV</td>\n",
       "      <td>-122.404715</td>\n",
       "      <td>37.730161</td>\n",
       "      <td>2007</td>\n",
       "      <td>MonthLow</td>\n",
       "      <td>18</td>\n",
       "      <td>Day</td>\n",
       "    </tr>\n",
       "    <tr>\n",
       "      <th>4</th>\n",
       "      <td>OTHER OFFENSES</td>\n",
       "      <td>Sunday</td>\n",
       "      <td>SOUTHERN</td>\n",
       "      <td>ARREST, BOOKED</td>\n",
       "      <td>4TH ST / STEVENSON ST</td>\n",
       "      <td>-122.405239</td>\n",
       "      <td>37.785265</td>\n",
       "      <td>2012</td>\n",
       "      <td>MonthMed</td>\n",
       "      <td>17</td>\n",
       "      <td>Day</td>\n",
       "    </tr>\n",
       "  </tbody>\n",
       "</table>\n",
       "</div>"
      ],
      "text/plain": [
       "                Category  DayOfWeek PdDistrict  \\\n",
       "0  SEX OFFENSES FORCIBLE     Friday    MISSION   \n",
       "1            LIQUOR LAWS   Thursday   SOUTHERN   \n",
       "2                  FRAUD  Wednesday   SOUTHERN   \n",
       "3                ROBBERY   Thursday    BAYVIEW   \n",
       "4         OTHER OFFENSES     Sunday   SOUTHERN   \n",
       "\n",
       "                               Resolution                     Address  \\\n",
       "0                                    NONE    2100 Block of MISSION ST   \n",
       "1                          ARREST, BOOKED     1000 Block of MARKET ST   \n",
       "2                                    NONE      800 Block of BRYANT ST   \n",
       "3  DISTRICT ATTORNEY REFUSES TO PROSECUTE  2400 Block of SAN BRUNO AV   \n",
       "4                          ARREST, BOOKED       4TH ST / STEVENSON ST   \n",
       "\n",
       "            X          Y  Year     Month  HourOfDay HourofDay  \n",
       "0 -122.419331  37.762264  2013  MonthMed         17       Day  \n",
       "1 -122.411340  37.781271  2004  MonthMed          2   Morning  \n",
       "2 -122.403405  37.775421  2007  MonthMed          0   Evening  \n",
       "3 -122.404715  37.730161  2007  MonthLow         18       Day  \n",
       "4 -122.405239  37.785265  2012  MonthMed         17       Day  "
      ]
     },
     "execution_count": 19,
     "metadata": {},
     "output_type": "execute_result"
    }
   ],
   "source": [
    "df_train.head()"
   ]
  },
  {
   "cell_type": "code",
   "execution_count": 20,
   "metadata": {},
   "outputs": [],
   "source": [
    "df_test['Month']=df_test['Month'].apply(lambda x : 'MonthLow' if x== 12 else ('MonthMed' if x in (2,6,7,8,9,11) else 'MonthHigh'))\n",
    "\n",
    "\n",
    "df_test['HourofDay']=df_test['HourOfDay'].apply(lambda x : 'Morning' if (x >= 1) & (x <=7) else ('Day' if x > 7 & x <=18 else 'Evening'))"
   ]
  },
  {
   "cell_type": "code",
   "execution_count": 21,
   "metadata": {},
   "outputs": [],
   "source": [
    "week_dict={\n",
    "    \"Monday\":1,\n",
    "    \"Tuesday\":2,\n",
    "    \"Wednesday\":3,\n",
    "    \"Thursday\":4,\n",
    "    \"Friday\":5,\n",
    "    \"Saturday\":6,\n",
    "    \"Sunday\":7\n",
    "}\n",
    "df_train['DayOfWeek']=df_train['DayOfWeek'].replace(week_dict)\n",
    "df_test['DayOfWeek']=df_test['DayOfWeek'].replace(week_dict)"
   ]
  },
  {
   "cell_type": "code",
   "execution_count": 22,
   "metadata": {},
   "outputs": [
    {
     "data": {
      "text/html": [
       "<div>\n",
       "<style scoped>\n",
       "    .dataframe tbody tr th:only-of-type {\n",
       "        vertical-align: middle;\n",
       "    }\n",
       "\n",
       "    .dataframe tbody tr th {\n",
       "        vertical-align: top;\n",
       "    }\n",
       "\n",
       "    .dataframe thead th {\n",
       "        text-align: right;\n",
       "    }\n",
       "</style>\n",
       "<table border=\"1\" class=\"dataframe\">\n",
       "  <thead>\n",
       "    <tr style=\"text-align: right;\">\n",
       "      <th></th>\n",
       "      <th>Category</th>\n",
       "      <th>DayOfWeek</th>\n",
       "      <th>PdDistrict</th>\n",
       "      <th>Resolution</th>\n",
       "      <th>Address</th>\n",
       "      <th>X</th>\n",
       "      <th>Y</th>\n",
       "      <th>Year</th>\n",
       "      <th>Month</th>\n",
       "      <th>HourOfDay</th>\n",
       "      <th>HourofDay</th>\n",
       "    </tr>\n",
       "  </thead>\n",
       "  <tbody>\n",
       "    <tr>\n",
       "      <th>0</th>\n",
       "      <td>SEX OFFENSES FORCIBLE</td>\n",
       "      <td>5</td>\n",
       "      <td>MISSION</td>\n",
       "      <td>NONE</td>\n",
       "      <td>2100 Block of MISSION ST</td>\n",
       "      <td>-122.419331</td>\n",
       "      <td>37.762264</td>\n",
       "      <td>2013</td>\n",
       "      <td>MonthMed</td>\n",
       "      <td>17</td>\n",
       "      <td>Day</td>\n",
       "    </tr>\n",
       "    <tr>\n",
       "      <th>1</th>\n",
       "      <td>LIQUOR LAWS</td>\n",
       "      <td>4</td>\n",
       "      <td>SOUTHERN</td>\n",
       "      <td>ARREST, BOOKED</td>\n",
       "      <td>1000 Block of MARKET ST</td>\n",
       "      <td>-122.411340</td>\n",
       "      <td>37.781271</td>\n",
       "      <td>2004</td>\n",
       "      <td>MonthMed</td>\n",
       "      <td>2</td>\n",
       "      <td>Morning</td>\n",
       "    </tr>\n",
       "    <tr>\n",
       "      <th>2</th>\n",
       "      <td>FRAUD</td>\n",
       "      <td>3</td>\n",
       "      <td>SOUTHERN</td>\n",
       "      <td>NONE</td>\n",
       "      <td>800 Block of BRYANT ST</td>\n",
       "      <td>-122.403405</td>\n",
       "      <td>37.775421</td>\n",
       "      <td>2007</td>\n",
       "      <td>MonthMed</td>\n",
       "      <td>0</td>\n",
       "      <td>Evening</td>\n",
       "    </tr>\n",
       "    <tr>\n",
       "      <th>3</th>\n",
       "      <td>ROBBERY</td>\n",
       "      <td>4</td>\n",
       "      <td>BAYVIEW</td>\n",
       "      <td>DISTRICT ATTORNEY REFUSES TO PROSECUTE</td>\n",
       "      <td>2400 Block of SAN BRUNO AV</td>\n",
       "      <td>-122.404715</td>\n",
       "      <td>37.730161</td>\n",
       "      <td>2007</td>\n",
       "      <td>MonthLow</td>\n",
       "      <td>18</td>\n",
       "      <td>Day</td>\n",
       "    </tr>\n",
       "    <tr>\n",
       "      <th>4</th>\n",
       "      <td>OTHER OFFENSES</td>\n",
       "      <td>7</td>\n",
       "      <td>SOUTHERN</td>\n",
       "      <td>ARREST, BOOKED</td>\n",
       "      <td>4TH ST / STEVENSON ST</td>\n",
       "      <td>-122.405239</td>\n",
       "      <td>37.785265</td>\n",
       "      <td>2012</td>\n",
       "      <td>MonthMed</td>\n",
       "      <td>17</td>\n",
       "      <td>Day</td>\n",
       "    </tr>\n",
       "  </tbody>\n",
       "</table>\n",
       "</div>"
      ],
      "text/plain": [
       "                Category  DayOfWeek PdDistrict  \\\n",
       "0  SEX OFFENSES FORCIBLE          5    MISSION   \n",
       "1            LIQUOR LAWS          4   SOUTHERN   \n",
       "2                  FRAUD          3   SOUTHERN   \n",
       "3                ROBBERY          4    BAYVIEW   \n",
       "4         OTHER OFFENSES          7   SOUTHERN   \n",
       "\n",
       "                               Resolution                     Address  \\\n",
       "0                                    NONE    2100 Block of MISSION ST   \n",
       "1                          ARREST, BOOKED     1000 Block of MARKET ST   \n",
       "2                                    NONE      800 Block of BRYANT ST   \n",
       "3  DISTRICT ATTORNEY REFUSES TO PROSECUTE  2400 Block of SAN BRUNO AV   \n",
       "4                          ARREST, BOOKED       4TH ST / STEVENSON ST   \n",
       "\n",
       "            X          Y  Year     Month  HourOfDay HourofDay  \n",
       "0 -122.419331  37.762264  2013  MonthMed         17       Day  \n",
       "1 -122.411340  37.781271  2004  MonthMed          2   Morning  \n",
       "2 -122.403405  37.775421  2007  MonthMed          0   Evening  \n",
       "3 -122.404715  37.730161  2007  MonthLow         18       Day  \n",
       "4 -122.405239  37.785265  2012  MonthMed         17       Day  "
      ]
     },
     "execution_count": 22,
     "metadata": {},
     "output_type": "execute_result"
    }
   ],
   "source": [
    "df_train.head()"
   ]
  },
  {
   "cell_type": "code",
   "execution_count": 23,
   "metadata": {},
   "outputs": [],
   "source": [
    "df_train['Intersection']=df_train['Address'].apply(lambda x : 1 if '/' in x else 0)\n",
    "\n",
    "df_train['Block']=df_train['Address'].apply(lambda x : 1 if 'Block' in x else 0)\n",
    "\n",
    "df_train['StreetSuffix']=df_train['Address'].apply(lambda x : x.split(' ')[-1] if len(x.split(' ')[-1])==2 else 0) "
   ]
  },
  {
   "cell_type": "code",
   "execution_count": 24,
   "metadata": {},
   "outputs": [
    {
     "data": {
      "text/html": [
       "<div>\n",
       "<style scoped>\n",
       "    .dataframe tbody tr th:only-of-type {\n",
       "        vertical-align: middle;\n",
       "    }\n",
       "\n",
       "    .dataframe tbody tr th {\n",
       "        vertical-align: top;\n",
       "    }\n",
       "\n",
       "    .dataframe thead th {\n",
       "        text-align: right;\n",
       "    }\n",
       "</style>\n",
       "<table border=\"1\" class=\"dataframe\">\n",
       "  <thead>\n",
       "    <tr style=\"text-align: right;\">\n",
       "      <th></th>\n",
       "      <th>Category</th>\n",
       "      <th>DayOfWeek</th>\n",
       "      <th>PdDistrict</th>\n",
       "      <th>Resolution</th>\n",
       "      <th>Address</th>\n",
       "      <th>X</th>\n",
       "      <th>Y</th>\n",
       "      <th>Year</th>\n",
       "      <th>Month</th>\n",
       "      <th>HourOfDay</th>\n",
       "      <th>HourofDay</th>\n",
       "      <th>Intersection</th>\n",
       "      <th>Block</th>\n",
       "      <th>StreetSuffix</th>\n",
       "    </tr>\n",
       "  </thead>\n",
       "  <tbody>\n",
       "    <tr>\n",
       "      <th>0</th>\n",
       "      <td>SEX OFFENSES FORCIBLE</td>\n",
       "      <td>5</td>\n",
       "      <td>MISSION</td>\n",
       "      <td>NONE</td>\n",
       "      <td>2100 Block of MISSION ST</td>\n",
       "      <td>-122.419331</td>\n",
       "      <td>37.762264</td>\n",
       "      <td>2013</td>\n",
       "      <td>MonthMed</td>\n",
       "      <td>17</td>\n",
       "      <td>Day</td>\n",
       "      <td>0</td>\n",
       "      <td>1</td>\n",
       "      <td>ST</td>\n",
       "    </tr>\n",
       "    <tr>\n",
       "      <th>1</th>\n",
       "      <td>LIQUOR LAWS</td>\n",
       "      <td>4</td>\n",
       "      <td>SOUTHERN</td>\n",
       "      <td>ARREST, BOOKED</td>\n",
       "      <td>1000 Block of MARKET ST</td>\n",
       "      <td>-122.411340</td>\n",
       "      <td>37.781271</td>\n",
       "      <td>2004</td>\n",
       "      <td>MonthMed</td>\n",
       "      <td>2</td>\n",
       "      <td>Morning</td>\n",
       "      <td>0</td>\n",
       "      <td>1</td>\n",
       "      <td>ST</td>\n",
       "    </tr>\n",
       "    <tr>\n",
       "      <th>2</th>\n",
       "      <td>FRAUD</td>\n",
       "      <td>3</td>\n",
       "      <td>SOUTHERN</td>\n",
       "      <td>NONE</td>\n",
       "      <td>800 Block of BRYANT ST</td>\n",
       "      <td>-122.403405</td>\n",
       "      <td>37.775421</td>\n",
       "      <td>2007</td>\n",
       "      <td>MonthMed</td>\n",
       "      <td>0</td>\n",
       "      <td>Evening</td>\n",
       "      <td>0</td>\n",
       "      <td>1</td>\n",
       "      <td>ST</td>\n",
       "    </tr>\n",
       "    <tr>\n",
       "      <th>3</th>\n",
       "      <td>ROBBERY</td>\n",
       "      <td>4</td>\n",
       "      <td>BAYVIEW</td>\n",
       "      <td>DISTRICT ATTORNEY REFUSES TO PROSECUTE</td>\n",
       "      <td>2400 Block of SAN BRUNO AV</td>\n",
       "      <td>-122.404715</td>\n",
       "      <td>37.730161</td>\n",
       "      <td>2007</td>\n",
       "      <td>MonthLow</td>\n",
       "      <td>18</td>\n",
       "      <td>Day</td>\n",
       "      <td>0</td>\n",
       "      <td>1</td>\n",
       "      <td>AV</td>\n",
       "    </tr>\n",
       "    <tr>\n",
       "      <th>4</th>\n",
       "      <td>OTHER OFFENSES</td>\n",
       "      <td>7</td>\n",
       "      <td>SOUTHERN</td>\n",
       "      <td>ARREST, BOOKED</td>\n",
       "      <td>4TH ST / STEVENSON ST</td>\n",
       "      <td>-122.405239</td>\n",
       "      <td>37.785265</td>\n",
       "      <td>2012</td>\n",
       "      <td>MonthMed</td>\n",
       "      <td>17</td>\n",
       "      <td>Day</td>\n",
       "      <td>1</td>\n",
       "      <td>0</td>\n",
       "      <td>ST</td>\n",
       "    </tr>\n",
       "  </tbody>\n",
       "</table>\n",
       "</div>"
      ],
      "text/plain": [
       "                Category  DayOfWeek PdDistrict  \\\n",
       "0  SEX OFFENSES FORCIBLE          5    MISSION   \n",
       "1            LIQUOR LAWS          4   SOUTHERN   \n",
       "2                  FRAUD          3   SOUTHERN   \n",
       "3                ROBBERY          4    BAYVIEW   \n",
       "4         OTHER OFFENSES          7   SOUTHERN   \n",
       "\n",
       "                               Resolution                     Address  \\\n",
       "0                                    NONE    2100 Block of MISSION ST   \n",
       "1                          ARREST, BOOKED     1000 Block of MARKET ST   \n",
       "2                                    NONE      800 Block of BRYANT ST   \n",
       "3  DISTRICT ATTORNEY REFUSES TO PROSECUTE  2400 Block of SAN BRUNO AV   \n",
       "4                          ARREST, BOOKED       4TH ST / STEVENSON ST   \n",
       "\n",
       "            X          Y  Year     Month  HourOfDay HourofDay  Intersection  \\\n",
       "0 -122.419331  37.762264  2013  MonthMed         17       Day             0   \n",
       "1 -122.411340  37.781271  2004  MonthMed          2   Morning             0   \n",
       "2 -122.403405  37.775421  2007  MonthMed          0   Evening             0   \n",
       "3 -122.404715  37.730161  2007  MonthLow         18       Day             0   \n",
       "4 -122.405239  37.785265  2012  MonthMed         17       Day             1   \n",
       "\n",
       "   Block StreetSuffix  \n",
       "0      1           ST  \n",
       "1      1           ST  \n",
       "2      1           ST  \n",
       "3      1           AV  \n",
       "4      0           ST  "
      ]
     },
     "execution_count": 24,
     "metadata": {},
     "output_type": "execute_result"
    }
   ],
   "source": [
    "df_train.head()\n"
   ]
  },
  {
   "cell_type": "code",
   "execution_count": 25,
   "metadata": {},
   "outputs": [],
   "source": [
    "df_test['Intersection']=df_test['Address'].apply(lambda x : 1 if '/' in x else 0)\n",
    "\n",
    "df_test['Block']=df_test['Address'].apply(lambda x : 1 if 'Block' in x else 0)\n",
    "\n",
    "df_test['StreetSuffix']=df_test['Address'].apply(lambda x : x.split(' ')[-1] if len(x.split(' ')[-1])==2 else 0) "
   ]
  },
  {
   "cell_type": "code",
   "execution_count": 26,
   "metadata": {},
   "outputs": [],
   "source": [
    "df_train=df_train.drop(['Address'],axis=1)\n",
    "df_test=df_test.drop(['Address'],axis=1)"
   ]
  },
  {
   "cell_type": "code",
   "execution_count": 27,
   "metadata": {},
   "outputs": [
    {
     "data": {
      "text/html": [
       "<div>\n",
       "<style scoped>\n",
       "    .dataframe tbody tr th:only-of-type {\n",
       "        vertical-align: middle;\n",
       "    }\n",
       "\n",
       "    .dataframe tbody tr th {\n",
       "        vertical-align: top;\n",
       "    }\n",
       "\n",
       "    .dataframe thead th {\n",
       "        text-align: right;\n",
       "    }\n",
       "</style>\n",
       "<table border=\"1\" class=\"dataframe\">\n",
       "  <thead>\n",
       "    <tr style=\"text-align: right;\">\n",
       "      <th></th>\n",
       "      <th>Category</th>\n",
       "      <th>DayOfWeek</th>\n",
       "      <th>PdDistrict</th>\n",
       "      <th>Resolution</th>\n",
       "      <th>X</th>\n",
       "      <th>Y</th>\n",
       "      <th>Year</th>\n",
       "      <th>Month</th>\n",
       "      <th>HourOfDay</th>\n",
       "      <th>HourofDay</th>\n",
       "      <th>Intersection</th>\n",
       "      <th>Block</th>\n",
       "      <th>StreetSuffix</th>\n",
       "    </tr>\n",
       "  </thead>\n",
       "  <tbody>\n",
       "    <tr>\n",
       "      <th>0</th>\n",
       "      <td>SEX OFFENSES FORCIBLE</td>\n",
       "      <td>5</td>\n",
       "      <td>MISSION</td>\n",
       "      <td>NONE</td>\n",
       "      <td>-122.419331</td>\n",
       "      <td>37.762264</td>\n",
       "      <td>2013</td>\n",
       "      <td>MonthMed</td>\n",
       "      <td>17</td>\n",
       "      <td>Day</td>\n",
       "      <td>0</td>\n",
       "      <td>1</td>\n",
       "      <td>ST</td>\n",
       "    </tr>\n",
       "    <tr>\n",
       "      <th>1</th>\n",
       "      <td>LIQUOR LAWS</td>\n",
       "      <td>4</td>\n",
       "      <td>SOUTHERN</td>\n",
       "      <td>ARREST, BOOKED</td>\n",
       "      <td>-122.411340</td>\n",
       "      <td>37.781271</td>\n",
       "      <td>2004</td>\n",
       "      <td>MonthMed</td>\n",
       "      <td>2</td>\n",
       "      <td>Morning</td>\n",
       "      <td>0</td>\n",
       "      <td>1</td>\n",
       "      <td>ST</td>\n",
       "    </tr>\n",
       "    <tr>\n",
       "      <th>2</th>\n",
       "      <td>FRAUD</td>\n",
       "      <td>3</td>\n",
       "      <td>SOUTHERN</td>\n",
       "      <td>NONE</td>\n",
       "      <td>-122.403405</td>\n",
       "      <td>37.775421</td>\n",
       "      <td>2007</td>\n",
       "      <td>MonthMed</td>\n",
       "      <td>0</td>\n",
       "      <td>Evening</td>\n",
       "      <td>0</td>\n",
       "      <td>1</td>\n",
       "      <td>ST</td>\n",
       "    </tr>\n",
       "    <tr>\n",
       "      <th>3</th>\n",
       "      <td>ROBBERY</td>\n",
       "      <td>4</td>\n",
       "      <td>BAYVIEW</td>\n",
       "      <td>DISTRICT ATTORNEY REFUSES TO PROSECUTE</td>\n",
       "      <td>-122.404715</td>\n",
       "      <td>37.730161</td>\n",
       "      <td>2007</td>\n",
       "      <td>MonthLow</td>\n",
       "      <td>18</td>\n",
       "      <td>Day</td>\n",
       "      <td>0</td>\n",
       "      <td>1</td>\n",
       "      <td>AV</td>\n",
       "    </tr>\n",
       "    <tr>\n",
       "      <th>4</th>\n",
       "      <td>OTHER OFFENSES</td>\n",
       "      <td>7</td>\n",
       "      <td>SOUTHERN</td>\n",
       "      <td>ARREST, BOOKED</td>\n",
       "      <td>-122.405239</td>\n",
       "      <td>37.785265</td>\n",
       "      <td>2012</td>\n",
       "      <td>MonthMed</td>\n",
       "      <td>17</td>\n",
       "      <td>Day</td>\n",
       "      <td>1</td>\n",
       "      <td>0</td>\n",
       "      <td>ST</td>\n",
       "    </tr>\n",
       "  </tbody>\n",
       "</table>\n",
       "</div>"
      ],
      "text/plain": [
       "                Category  DayOfWeek PdDistrict  \\\n",
       "0  SEX OFFENSES FORCIBLE          5    MISSION   \n",
       "1            LIQUOR LAWS          4   SOUTHERN   \n",
       "2                  FRAUD          3   SOUTHERN   \n",
       "3                ROBBERY          4    BAYVIEW   \n",
       "4         OTHER OFFENSES          7   SOUTHERN   \n",
       "\n",
       "                               Resolution           X          Y  Year  \\\n",
       "0                                    NONE -122.419331  37.762264  2013   \n",
       "1                          ARREST, BOOKED -122.411340  37.781271  2004   \n",
       "2                                    NONE -122.403405  37.775421  2007   \n",
       "3  DISTRICT ATTORNEY REFUSES TO PROSECUTE -122.404715  37.730161  2007   \n",
       "4                          ARREST, BOOKED -122.405239  37.785265  2012   \n",
       "\n",
       "      Month  HourOfDay HourofDay  Intersection  Block StreetSuffix  \n",
       "0  MonthMed         17       Day             0      1           ST  \n",
       "1  MonthMed          2   Morning             0      1           ST  \n",
       "2  MonthMed          0   Evening             0      1           ST  \n",
       "3  MonthLow         18       Day             0      1           AV  \n",
       "4  MonthMed         17       Day             1      0           ST  "
      ]
     },
     "execution_count": 27,
     "metadata": {},
     "output_type": "execute_result"
    }
   ],
   "source": [
    "df_train.head()"
   ]
  },
  {
   "cell_type": "code",
   "execution_count": 28,
   "metadata": {},
   "outputs": [],
   "source": [
    "df_train['Y']=df_train['Y'].apply(lambda x : x if 37.82 > x else 37.82 )\n",
    "\n",
    "df_train['X']=df_train['X'].apply(lambda x : x if -122.3 > x else -122.3 )"
   ]
  },
  {
   "cell_type": "code",
   "execution_count": 29,
   "metadata": {},
   "outputs": [],
   "source": [
    "df_test['Y']=df_train['Y'].apply(lambda x : x if 37.82 > x else 37.82 )\n",
    "\n",
    "df_test['X']=df_train['X'].apply(lambda x : x if -122.3 > x else -122.3 )"
   ]
  },
  {
   "cell_type": "code",
   "execution_count": 30,
   "metadata": {},
   "outputs": [],
   "source": [
    "from sklearn.cluster import KMeans "
   ]
  },
  {
   "cell_type": "code",
   "execution_count": 31,
   "metadata": {},
   "outputs": [],
   "source": [
    "dataXY_train = df_train[['X','Y']]\n",
    "\n",
    "dataXY_test = df_test[['X','Y']]"
   ]
  },
  {
   "cell_type": "code",
   "execution_count": 32,
   "metadata": {},
   "outputs": [
    {
     "data": {
      "text/plain": [
       "KMeans(algorithm='auto', copy_x=True, init='k-means++', max_iter=300,\n",
       "    n_clusters=5, n_init=10, n_jobs=None, precompute_distances='auto',\n",
       "    random_state=None, tol=0.0001, verbose=0)"
      ]
     },
     "execution_count": 32,
     "metadata": {},
     "output_type": "execute_result"
    }
   ],
   "source": [
    "kmeans=KMeans(n_clusters=5)\n",
    "\n",
    "kmeans.fit(dataXY_train)"
   ]
  },
  {
   "cell_type": "code",
   "execution_count": 33,
   "metadata": {},
   "outputs": [],
   "source": [
    "df_train['LocCluster']=kmeans.labels_\n",
    "\n",
    "df_train = df_train.drop(['X','Y'], axis=1)"
   ]
  },
  {
   "cell_type": "code",
   "execution_count": 34,
   "metadata": {},
   "outputs": [
    {
     "data": {
      "text/html": [
       "<div>\n",
       "<style scoped>\n",
       "    .dataframe tbody tr th:only-of-type {\n",
       "        vertical-align: middle;\n",
       "    }\n",
       "\n",
       "    .dataframe tbody tr th {\n",
       "        vertical-align: top;\n",
       "    }\n",
       "\n",
       "    .dataframe thead th {\n",
       "        text-align: right;\n",
       "    }\n",
       "</style>\n",
       "<table border=\"1\" class=\"dataframe\">\n",
       "  <thead>\n",
       "    <tr style=\"text-align: right;\">\n",
       "      <th></th>\n",
       "      <th>Category</th>\n",
       "      <th>DayOfWeek</th>\n",
       "      <th>PdDistrict</th>\n",
       "      <th>Resolution</th>\n",
       "      <th>Year</th>\n",
       "      <th>Month</th>\n",
       "      <th>HourOfDay</th>\n",
       "      <th>HourofDay</th>\n",
       "      <th>Intersection</th>\n",
       "      <th>Block</th>\n",
       "      <th>StreetSuffix</th>\n",
       "      <th>LocCluster</th>\n",
       "    </tr>\n",
       "  </thead>\n",
       "  <tbody>\n",
       "    <tr>\n",
       "      <th>0</th>\n",
       "      <td>SEX OFFENSES FORCIBLE</td>\n",
       "      <td>5</td>\n",
       "      <td>MISSION</td>\n",
       "      <td>NONE</td>\n",
       "      <td>2013</td>\n",
       "      <td>MonthMed</td>\n",
       "      <td>17</td>\n",
       "      <td>Day</td>\n",
       "      <td>0</td>\n",
       "      <td>1</td>\n",
       "      <td>ST</td>\n",
       "      <td>0</td>\n",
       "    </tr>\n",
       "    <tr>\n",
       "      <th>1</th>\n",
       "      <td>LIQUOR LAWS</td>\n",
       "      <td>4</td>\n",
       "      <td>SOUTHERN</td>\n",
       "      <td>ARREST, BOOKED</td>\n",
       "      <td>2004</td>\n",
       "      <td>MonthMed</td>\n",
       "      <td>2</td>\n",
       "      <td>Morning</td>\n",
       "      <td>0</td>\n",
       "      <td>1</td>\n",
       "      <td>ST</td>\n",
       "      <td>3</td>\n",
       "    </tr>\n",
       "    <tr>\n",
       "      <th>2</th>\n",
       "      <td>FRAUD</td>\n",
       "      <td>3</td>\n",
       "      <td>SOUTHERN</td>\n",
       "      <td>NONE</td>\n",
       "      <td>2007</td>\n",
       "      <td>MonthMed</td>\n",
       "      <td>0</td>\n",
       "      <td>Evening</td>\n",
       "      <td>0</td>\n",
       "      <td>1</td>\n",
       "      <td>ST</td>\n",
       "      <td>3</td>\n",
       "    </tr>\n",
       "    <tr>\n",
       "      <th>3</th>\n",
       "      <td>ROBBERY</td>\n",
       "      <td>4</td>\n",
       "      <td>BAYVIEW</td>\n",
       "      <td>DISTRICT ATTORNEY REFUSES TO PROSECUTE</td>\n",
       "      <td>2007</td>\n",
       "      <td>MonthLow</td>\n",
       "      <td>18</td>\n",
       "      <td>Day</td>\n",
       "      <td>0</td>\n",
       "      <td>1</td>\n",
       "      <td>AV</td>\n",
       "      <td>1</td>\n",
       "    </tr>\n",
       "    <tr>\n",
       "      <th>4</th>\n",
       "      <td>OTHER OFFENSES</td>\n",
       "      <td>7</td>\n",
       "      <td>SOUTHERN</td>\n",
       "      <td>ARREST, BOOKED</td>\n",
       "      <td>2012</td>\n",
       "      <td>MonthMed</td>\n",
       "      <td>17</td>\n",
       "      <td>Day</td>\n",
       "      <td>1</td>\n",
       "      <td>0</td>\n",
       "      <td>ST</td>\n",
       "      <td>3</td>\n",
       "    </tr>\n",
       "  </tbody>\n",
       "</table>\n",
       "</div>"
      ],
      "text/plain": [
       "                Category  DayOfWeek PdDistrict  \\\n",
       "0  SEX OFFENSES FORCIBLE          5    MISSION   \n",
       "1            LIQUOR LAWS          4   SOUTHERN   \n",
       "2                  FRAUD          3   SOUTHERN   \n",
       "3                ROBBERY          4    BAYVIEW   \n",
       "4         OTHER OFFENSES          7   SOUTHERN   \n",
       "\n",
       "                               Resolution  Year     Month  HourOfDay  \\\n",
       "0                                    NONE  2013  MonthMed         17   \n",
       "1                          ARREST, BOOKED  2004  MonthMed          2   \n",
       "2                                    NONE  2007  MonthMed          0   \n",
       "3  DISTRICT ATTORNEY REFUSES TO PROSECUTE  2007  MonthLow         18   \n",
       "4                          ARREST, BOOKED  2012  MonthMed         17   \n",
       "\n",
       "  HourofDay  Intersection  Block StreetSuffix  LocCluster  \n",
       "0       Day             0      1           ST           0  \n",
       "1   Morning             0      1           ST           3  \n",
       "2   Evening             0      1           ST           3  \n",
       "3       Day             0      1           AV           1  \n",
       "4       Day             1      0           ST           3  "
      ]
     },
     "execution_count": 34,
     "metadata": {},
     "output_type": "execute_result"
    }
   ],
   "source": [
    "df_train.head()"
   ]
  },
  {
   "cell_type": "code",
   "execution_count": 36,
   "metadata": {},
   "outputs": [
    {
     "data": {
      "text/plain": [
       "KMeans(algorithm='auto', copy_x=True, init='k-means++', max_iter=300,\n",
       "    n_clusters=5, n_init=10, n_jobs=None, precompute_distances='auto',\n",
       "    random_state=None, tol=0.0001, verbose=0)"
      ]
     },
     "execution_count": 36,
     "metadata": {},
     "output_type": "execute_result"
    }
   ],
   "source": [
    "kmeans=KMeans(n_clusters=5)\n",
    "\n",
    "kmeans.fit(dataXY_test)"
   ]
  },
  {
   "cell_type": "code",
   "execution_count": 37,
   "metadata": {},
   "outputs": [],
   "source": [
    "df_test['LocCluster']=kmeans.labels_\n",
    "\n",
    "df_test = df_test.drop(['X','Y'], axis=1)"
   ]
  },
  {
   "cell_type": "code",
   "execution_count": 38,
   "metadata": {},
   "outputs": [],
   "source": [
    "df_train.drop(columns = 'Resolution',axis = 1, inplace = True)\n",
    "Y = df_train['Category']\n",
    "\n",
    "df_train.drop(columns = 'Category', axis = 1, inplace = True)\n",
    "df_test.drop(columns = 'Resolution',axis = 1, inplace = True)"
   ]
  },
  {
   "cell_type": "code",
   "execution_count": 39,
   "metadata": {},
   "outputs": [],
   "source": [
    "df_train = pd.get_dummies(df_train)"
   ]
  },
  {
   "cell_type": "code",
   "execution_count": 40,
   "metadata": {},
   "outputs": [],
   "source": [
    "df_test = pd.get_dummies(df_test)"
   ]
  },
  {
   "cell_type": "code",
   "execution_count": 41,
   "metadata": {},
   "outputs": [],
   "source": [
    "df_train=pd.get_dummies(df_train,prefix=['Intersection' , 'Block', 'LocCluster' ],columns=['Intersection' , 'Block', 'LocCluster' ])\n",
    "\n",
    "df_test=pd.get_dummies(df_test,prefix=['Intersection' , 'Block', 'LocCluster' ],columns=['Intersection' , 'Block', 'LocCluster' ])"
   ]
  },
  {
   "cell_type": "code",
   "execution_count": 42,
   "metadata": {},
   "outputs": [
    {
     "data": {
      "text/html": [
       "<div>\n",
       "<style scoped>\n",
       "    .dataframe tbody tr th:only-of-type {\n",
       "        vertical-align: middle;\n",
       "    }\n",
       "\n",
       "    .dataframe tbody tr th {\n",
       "        vertical-align: top;\n",
       "    }\n",
       "\n",
       "    .dataframe thead th {\n",
       "        text-align: right;\n",
       "    }\n",
       "</style>\n",
       "<table border=\"1\" class=\"dataframe\">\n",
       "  <thead>\n",
       "    <tr style=\"text-align: right;\">\n",
       "      <th></th>\n",
       "      <th>DayOfWeek</th>\n",
       "      <th>Year</th>\n",
       "      <th>HourOfDay</th>\n",
       "      <th>PdDistrict_BAYVIEW</th>\n",
       "      <th>PdDistrict_CENTRAL</th>\n",
       "      <th>PdDistrict_INGLESIDE</th>\n",
       "      <th>PdDistrict_MISSION</th>\n",
       "      <th>PdDistrict_NORTHERN</th>\n",
       "      <th>PdDistrict_PARK</th>\n",
       "      <th>PdDistrict_RICHMOND</th>\n",
       "      <th>...</th>\n",
       "      <th>StreetSuffix_WY</th>\n",
       "      <th>Intersection_0</th>\n",
       "      <th>Intersection_1</th>\n",
       "      <th>Block_0</th>\n",
       "      <th>Block_1</th>\n",
       "      <th>LocCluster_0</th>\n",
       "      <th>LocCluster_1</th>\n",
       "      <th>LocCluster_2</th>\n",
       "      <th>LocCluster_3</th>\n",
       "      <th>LocCluster_4</th>\n",
       "    </tr>\n",
       "  </thead>\n",
       "  <tbody>\n",
       "    <tr>\n",
       "      <th>0</th>\n",
       "      <td>5</td>\n",
       "      <td>2013</td>\n",
       "      <td>17</td>\n",
       "      <td>0</td>\n",
       "      <td>0</td>\n",
       "      <td>0</td>\n",
       "      <td>1</td>\n",
       "      <td>0</td>\n",
       "      <td>0</td>\n",
       "      <td>0</td>\n",
       "      <td>...</td>\n",
       "      <td>0</td>\n",
       "      <td>1</td>\n",
       "      <td>0</td>\n",
       "      <td>0</td>\n",
       "      <td>1</td>\n",
       "      <td>1</td>\n",
       "      <td>0</td>\n",
       "      <td>0</td>\n",
       "      <td>0</td>\n",
       "      <td>0</td>\n",
       "    </tr>\n",
       "    <tr>\n",
       "      <th>1</th>\n",
       "      <td>4</td>\n",
       "      <td>2004</td>\n",
       "      <td>2</td>\n",
       "      <td>0</td>\n",
       "      <td>0</td>\n",
       "      <td>0</td>\n",
       "      <td>0</td>\n",
       "      <td>0</td>\n",
       "      <td>0</td>\n",
       "      <td>0</td>\n",
       "      <td>...</td>\n",
       "      <td>0</td>\n",
       "      <td>1</td>\n",
       "      <td>0</td>\n",
       "      <td>0</td>\n",
       "      <td>1</td>\n",
       "      <td>0</td>\n",
       "      <td>0</td>\n",
       "      <td>0</td>\n",
       "      <td>1</td>\n",
       "      <td>0</td>\n",
       "    </tr>\n",
       "    <tr>\n",
       "      <th>2</th>\n",
       "      <td>3</td>\n",
       "      <td>2007</td>\n",
       "      <td>0</td>\n",
       "      <td>0</td>\n",
       "      <td>0</td>\n",
       "      <td>0</td>\n",
       "      <td>0</td>\n",
       "      <td>0</td>\n",
       "      <td>0</td>\n",
       "      <td>0</td>\n",
       "      <td>...</td>\n",
       "      <td>0</td>\n",
       "      <td>1</td>\n",
       "      <td>0</td>\n",
       "      <td>0</td>\n",
       "      <td>1</td>\n",
       "      <td>0</td>\n",
       "      <td>0</td>\n",
       "      <td>0</td>\n",
       "      <td>1</td>\n",
       "      <td>0</td>\n",
       "    </tr>\n",
       "    <tr>\n",
       "      <th>3</th>\n",
       "      <td>4</td>\n",
       "      <td>2007</td>\n",
       "      <td>18</td>\n",
       "      <td>1</td>\n",
       "      <td>0</td>\n",
       "      <td>0</td>\n",
       "      <td>0</td>\n",
       "      <td>0</td>\n",
       "      <td>0</td>\n",
       "      <td>0</td>\n",
       "      <td>...</td>\n",
       "      <td>0</td>\n",
       "      <td>1</td>\n",
       "      <td>0</td>\n",
       "      <td>0</td>\n",
       "      <td>1</td>\n",
       "      <td>0</td>\n",
       "      <td>1</td>\n",
       "      <td>0</td>\n",
       "      <td>0</td>\n",
       "      <td>0</td>\n",
       "    </tr>\n",
       "    <tr>\n",
       "      <th>4</th>\n",
       "      <td>7</td>\n",
       "      <td>2012</td>\n",
       "      <td>17</td>\n",
       "      <td>0</td>\n",
       "      <td>0</td>\n",
       "      <td>0</td>\n",
       "      <td>0</td>\n",
       "      <td>0</td>\n",
       "      <td>0</td>\n",
       "      <td>0</td>\n",
       "      <td>...</td>\n",
       "      <td>0</td>\n",
       "      <td>0</td>\n",
       "      <td>1</td>\n",
       "      <td>1</td>\n",
       "      <td>0</td>\n",
       "      <td>0</td>\n",
       "      <td>0</td>\n",
       "      <td>0</td>\n",
       "      <td>1</td>\n",
       "      <td>0</td>\n",
       "    </tr>\n",
       "  </tbody>\n",
       "</table>\n",
       "<p>5 rows × 46 columns</p>\n",
       "</div>"
      ],
      "text/plain": [
       "   DayOfWeek  Year  HourOfDay  PdDistrict_BAYVIEW  PdDistrict_CENTRAL  \\\n",
       "0          5  2013         17                   0                   0   \n",
       "1          4  2004          2                   0                   0   \n",
       "2          3  2007          0                   0                   0   \n",
       "3          4  2007         18                   1                   0   \n",
       "4          7  2012         17                   0                   0   \n",
       "\n",
       "   PdDistrict_INGLESIDE  PdDistrict_MISSION  PdDistrict_NORTHERN  \\\n",
       "0                     0                   1                    0   \n",
       "1                     0                   0                    0   \n",
       "2                     0                   0                    0   \n",
       "3                     0                   0                    0   \n",
       "4                     0                   0                    0   \n",
       "\n",
       "   PdDistrict_PARK  PdDistrict_RICHMOND      ...       StreetSuffix_WY  \\\n",
       "0                0                    0      ...                     0   \n",
       "1                0                    0      ...                     0   \n",
       "2                0                    0      ...                     0   \n",
       "3                0                    0      ...                     0   \n",
       "4                0                    0      ...                     0   \n",
       "\n",
       "   Intersection_0  Intersection_1  Block_0  Block_1  LocCluster_0  \\\n",
       "0               1               0        0        1             1   \n",
       "1               1               0        0        1             0   \n",
       "2               1               0        0        1             0   \n",
       "3               1               0        0        1             0   \n",
       "4               0               1        1        0             0   \n",
       "\n",
       "   LocCluster_1  LocCluster_2  LocCluster_3  LocCluster_4  \n",
       "0             0             0             0             0  \n",
       "1             0             0             1             0  \n",
       "2             0             0             1             0  \n",
       "3             1             0             0             0  \n",
       "4             0             0             1             0  \n",
       "\n",
       "[5 rows x 46 columns]"
      ]
     },
     "execution_count": 42,
     "metadata": {},
     "output_type": "execute_result"
    }
   ],
   "source": [
    "df_train.head()"
   ]
  },
  {
   "cell_type": "code",
   "execution_count": 43,
   "metadata": {},
   "outputs": [],
   "source": [
    "df_train=pd.get_dummies(df_train,prefix=['DayOfWeek'],columns=['DayOfWeek'])\n",
    "\n",
    "df_test=pd.get_dummies(df_test,prefix=['DayOfWeek'],columns=['DayOfWeek'])"
   ]
  },
  {
   "cell_type": "code",
   "execution_count": 44,
   "metadata": {},
   "outputs": [
    {
     "data": {
      "text/html": [
       "<div>\n",
       "<style scoped>\n",
       "    .dataframe tbody tr th:only-of-type {\n",
       "        vertical-align: middle;\n",
       "    }\n",
       "\n",
       "    .dataframe tbody tr th {\n",
       "        vertical-align: top;\n",
       "    }\n",
       "\n",
       "    .dataframe thead th {\n",
       "        text-align: right;\n",
       "    }\n",
       "</style>\n",
       "<table border=\"1\" class=\"dataframe\">\n",
       "  <thead>\n",
       "    <tr style=\"text-align: right;\">\n",
       "      <th></th>\n",
       "      <th>Year</th>\n",
       "      <th>HourOfDay</th>\n",
       "      <th>PdDistrict_BAYVIEW</th>\n",
       "      <th>PdDistrict_CENTRAL</th>\n",
       "      <th>PdDistrict_INGLESIDE</th>\n",
       "      <th>PdDistrict_MISSION</th>\n",
       "      <th>PdDistrict_NORTHERN</th>\n",
       "      <th>PdDistrict_PARK</th>\n",
       "      <th>PdDistrict_RICHMOND</th>\n",
       "      <th>PdDistrict_SOUTHERN</th>\n",
       "      <th>...</th>\n",
       "      <th>LocCluster_2</th>\n",
       "      <th>LocCluster_3</th>\n",
       "      <th>LocCluster_4</th>\n",
       "      <th>DayOfWeek_1</th>\n",
       "      <th>DayOfWeek_2</th>\n",
       "      <th>DayOfWeek_3</th>\n",
       "      <th>DayOfWeek_4</th>\n",
       "      <th>DayOfWeek_5</th>\n",
       "      <th>DayOfWeek_6</th>\n",
       "      <th>DayOfWeek_7</th>\n",
       "    </tr>\n",
       "  </thead>\n",
       "  <tbody>\n",
       "    <tr>\n",
       "      <th>0</th>\n",
       "      <td>2013</td>\n",
       "      <td>17</td>\n",
       "      <td>0</td>\n",
       "      <td>0</td>\n",
       "      <td>0</td>\n",
       "      <td>1</td>\n",
       "      <td>0</td>\n",
       "      <td>0</td>\n",
       "      <td>0</td>\n",
       "      <td>0</td>\n",
       "      <td>...</td>\n",
       "      <td>0</td>\n",
       "      <td>0</td>\n",
       "      <td>0</td>\n",
       "      <td>0</td>\n",
       "      <td>0</td>\n",
       "      <td>0</td>\n",
       "      <td>0</td>\n",
       "      <td>1</td>\n",
       "      <td>0</td>\n",
       "      <td>0</td>\n",
       "    </tr>\n",
       "    <tr>\n",
       "      <th>1</th>\n",
       "      <td>2004</td>\n",
       "      <td>2</td>\n",
       "      <td>0</td>\n",
       "      <td>0</td>\n",
       "      <td>0</td>\n",
       "      <td>0</td>\n",
       "      <td>0</td>\n",
       "      <td>0</td>\n",
       "      <td>0</td>\n",
       "      <td>1</td>\n",
       "      <td>...</td>\n",
       "      <td>0</td>\n",
       "      <td>1</td>\n",
       "      <td>0</td>\n",
       "      <td>0</td>\n",
       "      <td>0</td>\n",
       "      <td>0</td>\n",
       "      <td>1</td>\n",
       "      <td>0</td>\n",
       "      <td>0</td>\n",
       "      <td>0</td>\n",
       "    </tr>\n",
       "    <tr>\n",
       "      <th>2</th>\n",
       "      <td>2007</td>\n",
       "      <td>0</td>\n",
       "      <td>0</td>\n",
       "      <td>0</td>\n",
       "      <td>0</td>\n",
       "      <td>0</td>\n",
       "      <td>0</td>\n",
       "      <td>0</td>\n",
       "      <td>0</td>\n",
       "      <td>1</td>\n",
       "      <td>...</td>\n",
       "      <td>0</td>\n",
       "      <td>1</td>\n",
       "      <td>0</td>\n",
       "      <td>0</td>\n",
       "      <td>0</td>\n",
       "      <td>1</td>\n",
       "      <td>0</td>\n",
       "      <td>0</td>\n",
       "      <td>0</td>\n",
       "      <td>0</td>\n",
       "    </tr>\n",
       "    <tr>\n",
       "      <th>3</th>\n",
       "      <td>2007</td>\n",
       "      <td>18</td>\n",
       "      <td>1</td>\n",
       "      <td>0</td>\n",
       "      <td>0</td>\n",
       "      <td>0</td>\n",
       "      <td>0</td>\n",
       "      <td>0</td>\n",
       "      <td>0</td>\n",
       "      <td>0</td>\n",
       "      <td>...</td>\n",
       "      <td>0</td>\n",
       "      <td>0</td>\n",
       "      <td>0</td>\n",
       "      <td>0</td>\n",
       "      <td>0</td>\n",
       "      <td>0</td>\n",
       "      <td>1</td>\n",
       "      <td>0</td>\n",
       "      <td>0</td>\n",
       "      <td>0</td>\n",
       "    </tr>\n",
       "    <tr>\n",
       "      <th>4</th>\n",
       "      <td>2012</td>\n",
       "      <td>17</td>\n",
       "      <td>0</td>\n",
       "      <td>0</td>\n",
       "      <td>0</td>\n",
       "      <td>0</td>\n",
       "      <td>0</td>\n",
       "      <td>0</td>\n",
       "      <td>0</td>\n",
       "      <td>1</td>\n",
       "      <td>...</td>\n",
       "      <td>0</td>\n",
       "      <td>1</td>\n",
       "      <td>0</td>\n",
       "      <td>0</td>\n",
       "      <td>0</td>\n",
       "      <td>0</td>\n",
       "      <td>0</td>\n",
       "      <td>0</td>\n",
       "      <td>0</td>\n",
       "      <td>1</td>\n",
       "    </tr>\n",
       "  </tbody>\n",
       "</table>\n",
       "<p>5 rows × 52 columns</p>\n",
       "</div>"
      ],
      "text/plain": [
       "   Year  HourOfDay  PdDistrict_BAYVIEW  PdDistrict_CENTRAL  \\\n",
       "0  2013         17                   0                   0   \n",
       "1  2004          2                   0                   0   \n",
       "2  2007          0                   0                   0   \n",
       "3  2007         18                   1                   0   \n",
       "4  2012         17                   0                   0   \n",
       "\n",
       "   PdDistrict_INGLESIDE  PdDistrict_MISSION  PdDistrict_NORTHERN  \\\n",
       "0                     0                   1                    0   \n",
       "1                     0                   0                    0   \n",
       "2                     0                   0                    0   \n",
       "3                     0                   0                    0   \n",
       "4                     0                   0                    0   \n",
       "\n",
       "   PdDistrict_PARK  PdDistrict_RICHMOND  PdDistrict_SOUTHERN     ...       \\\n",
       "0                0                    0                    0     ...        \n",
       "1                0                    0                    1     ...        \n",
       "2                0                    0                    1     ...        \n",
       "3                0                    0                    0     ...        \n",
       "4                0                    0                    1     ...        \n",
       "\n",
       "   LocCluster_2  LocCluster_3  LocCluster_4  DayOfWeek_1  DayOfWeek_2  \\\n",
       "0             0             0             0            0            0   \n",
       "1             0             1             0            0            0   \n",
       "2             0             1             0            0            0   \n",
       "3             0             0             0            0            0   \n",
       "4             0             1             0            0            0   \n",
       "\n",
       "   DayOfWeek_3  DayOfWeek_4  DayOfWeek_5  DayOfWeek_6  DayOfWeek_7  \n",
       "0            0            0            1            0            0  \n",
       "1            0            1            0            0            0  \n",
       "2            1            0            0            0            0  \n",
       "3            0            1            0            0            0  \n",
       "4            0            0            0            0            1  \n",
       "\n",
       "[5 rows x 52 columns]"
      ]
     },
     "execution_count": 44,
     "metadata": {},
     "output_type": "execute_result"
    }
   ],
   "source": [
    "df_train.head()"
   ]
  },
  {
   "cell_type": "code",
   "execution_count": 45,
   "metadata": {},
   "outputs": [],
   "source": [
    "#MODELLING\n",
    "\n",
    "\n"
   ]
  },
  {
   "cell_type": "code",
   "execution_count": 326,
   "metadata": {},
   "outputs": [],
   "source": [
    "#X_train = df_train"
   ]
  },
  {
   "cell_type": "code",
   "execution_count": 327,
   "metadata": {},
   "outputs": [],
   "source": [
    "#X_test = df_test"
   ]
  },
  {
   "cell_type": "code",
   "execution_count": 328,
   "metadata": {},
   "outputs": [],
   "source": [
    "#print(X_train.shape)\n",
    "#print(X_test.shape)"
   ]
  },
  {
   "cell_type": "code",
   "execution_count": 329,
   "metadata": {
    "scrolled": true
   },
   "outputs": [],
   "source": [
    "\n",
    "#col = X_train.columns\n",
    "#col2 = X_test.columns\n",
    "\n",
    "\n",
    "#print(col2[20:40])"
   ]
  },
  {
   "cell_type": "code",
   "execution_count": 330,
   "metadata": {},
   "outputs": [],
   "source": [
    "#YAHI PE HAI CHUDAP!\n",
    "\n",
    "#col[20:40]"
   ]
  },
  {
   "cell_type": "code",
   "execution_count": 331,
   "metadata": {},
   "outputs": [],
   "source": [
    "#X_test.insert(loc=25,column='StreetSuffix_EX',value = 0)"
   ]
  },
  {
   "cell_type": "code",
   "execution_count": 332,
   "metadata": {},
   "outputs": [],
   "source": [
    "#X_test.insert(loc=31,column='StreetSuffix_RW',value = 0)"
   ]
  },
  {
   "cell_type": "code",
   "execution_count": 333,
   "metadata": {},
   "outputs": [],
   "source": [
    "#X_test.insert(loc=34,column='StreetSuffix_WK',value = 0)"
   ]
  },
  {
   "cell_type": "code",
   "execution_count": 334,
   "metadata": {},
   "outputs": [],
   "source": [
    "#print(X_train.shape)\n",
    "#print(X_test.shape)\n",
    "\n"
   ]
  },
  {
   "cell_type": "code",
   "execution_count": 335,
   "metadata": {},
   "outputs": [],
   "source": [
    "#LOGISTIC REGRESSION"
   ]
  },
  {
   "cell_type": "code",
   "execution_count": 47,
   "metadata": {},
   "outputs": [],
   "source": [
    "from sklearn.model_selection import train_test_split"
   ]
  },
  {
   "cell_type": "code",
   "execution_count": null,
   "metadata": {},
   "outputs": [],
   "source": []
  },
  {
   "cell_type": "code",
   "execution_count": null,
   "metadata": {},
   "outputs": [],
   "source": []
  },
  {
   "cell_type": "code",
   "execution_count": 48,
   "metadata": {},
   "outputs": [],
   "source": [
    "X = df_train"
   ]
  },
  {
   "cell_type": "code",
   "execution_count": 49,
   "metadata": {},
   "outputs": [],
   "source": [
    "X_train,X_test,Y_train,Y_test = train_test_split(X, Y ,test_size=0.33 , random_state=25)"
   ]
  },
  {
   "cell_type": "code",
   "execution_count": 50,
   "metadata": {},
   "outputs": [
    {
     "data": {
      "text/plain": [
       "(581474, 52)"
      ]
     },
     "execution_count": 50,
     "metadata": {},
     "output_type": "execute_result"
    }
   ],
   "source": [
    "X_train.shape"
   ]
  },
  {
   "cell_type": "code",
   "execution_count": 55,
   "metadata": {},
   "outputs": [
    {
     "data": {
      "text/plain": [
       "0         SEX OFFENSES FORCIBLE\n",
       "1                   LIQUOR LAWS\n",
       "2                         FRAUD\n",
       "3                       ROBBERY\n",
       "4                OTHER OFFENSES\n",
       "5                      WARRANTS\n",
       "6                      BURGLARY\n",
       "7                SUSPICIOUS OCC\n",
       "8                OTHER OFFENSES\n",
       "9                 DRUG/NARCOTIC\n",
       "10                LARCENY/THEFT\n",
       "11               OTHER OFFENSES\n",
       "12                    VANDALISM\n",
       "13                      ASSAULT\n",
       "14                DRUG/NARCOTIC\n",
       "15                LARCENY/THEFT\n",
       "16                DRUG/NARCOTIC\n",
       "17                VEHICLE THEFT\n",
       "18               MISSING PERSON\n",
       "19               OTHER OFFENSES\n",
       "20                 NON-CRIMINAL\n",
       "21                      ASSAULT\n",
       "22                  DRUNKENNESS\n",
       "23                 NON-CRIMINAL\n",
       "24               OTHER OFFENSES\n",
       "25                     WARRANTS\n",
       "26                LARCENY/THEFT\n",
       "27                      ROBBERY\n",
       "28                VEHICLE THEFT\n",
       "29                LARCENY/THEFT\n",
       "                  ...          \n",
       "867843            LARCENY/THEFT\n",
       "867844           OTHER OFFENSES\n",
       "867845            DRUG/NARCOTIC\n",
       "867846           MISSING PERSON\n",
       "867847            LARCENY/THEFT\n",
       "867848            DRUG/NARCOTIC\n",
       "867849            VEHICLE THEFT\n",
       "867850                    FRAUD\n",
       "867851            DRUG/NARCOTIC\n",
       "867852            LARCENY/THEFT\n",
       "867853             NON-CRIMINAL\n",
       "867854             NON-CRIMINAL\n",
       "867855            LARCENY/THEFT\n",
       "867856           SUSPICIOUS OCC\n",
       "867857           OTHER OFFENSES\n",
       "867858               KIDNAPPING\n",
       "867859                VANDALISM\n",
       "867860            LARCENY/THEFT\n",
       "867861           OTHER OFFENSES\n",
       "867862            LARCENY/THEFT\n",
       "867863            LARCENY/THEFT\n",
       "867864           OTHER OFFENSES\n",
       "867865             NON-CRIMINAL\n",
       "867866            LARCENY/THEFT\n",
       "867867            DRUG/NARCOTIC\n",
       "867868            LARCENY/THEFT\n",
       "867869          SECONDARY CODES\n",
       "867870            LARCENY/THEFT\n",
       "867871           OTHER OFFENSES\n",
       "867872            LARCENY/THEFT\n",
       "Name: Category, Length: 867873, dtype: object"
      ]
     },
     "execution_count": 55,
     "metadata": {},
     "output_type": "execute_result"
    }
   ],
   "source": [
    "Y"
   ]
  },
  {
   "cell_type": "code",
   "execution_count": 52,
   "metadata": {},
   "outputs": [],
   "source": [
    "from sklearn.linear_model import LogisticRegression\n",
    "lr = LogisticRegression()"
   ]
  },
  {
   "cell_type": "code",
   "execution_count": 365,
   "metadata": {},
   "outputs": [],
   "source": [
    "lr = lr.fit(X,Y)"
   ]
  },
  {
   "cell_type": "code",
   "execution_count": 380,
   "metadata": {},
   "outputs": [],
   "source": [
    "y_pred=lr.predict(X)"
   ]
  },
  {
   "cell_type": "code",
   "execution_count": 381,
   "metadata": {},
   "outputs": [
    {
     "data": {
      "text/plain": [
       "(867873,)"
      ]
     },
     "execution_count": 381,
     "metadata": {},
     "output_type": "execute_result"
    }
   ],
   "source": [
    "y_pred.shape"
   ]
  },
  {
   "cell_type": "code",
   "execution_count": 382,
   "metadata": {},
   "outputs": [
    {
     "data": {
      "text/plain": [
       "array(['NON-CRIMINAL', 'MISSING PERSON', 'OTHER OFFENSES', ...,\n",
       "       'OTHER OFFENSES', 'LARCENY/THEFT', 'LARCENY/THEFT'], dtype=object)"
      ]
     },
     "execution_count": 382,
     "metadata": {},
     "output_type": "execute_result"
    }
   ],
   "source": [
    "Y_train"
   ]
  },
  {
   "cell_type": "code",
   "execution_count": 378,
   "metadata": {},
   "outputs": [],
   "source": [
    "from sklearn.metrics import accuracy_score"
   ]
  },
  {
   "cell_type": "code",
   "execution_count": 383,
   "metadata": {},
   "outputs": [
    {
     "data": {
      "text/plain": [
       "0.2310948721759981"
      ]
     },
     "execution_count": 383,
     "metadata": {},
     "output_type": "execute_result"
    }
   ],
   "source": [
    "accuracy_score(Y,y_pred)"
   ]
  },
  {
   "cell_type": "code",
   "execution_count": null,
   "metadata": {},
   "outputs": [],
   "source": [
    "cat=pd.DataFrame(Y_train.unique()).sort_values(by=[0]).reset_index().drop(['index'],axis=1)[0].to_dict()\n"
   ]
  },
  {
   "cell_type": "code",
   "execution_count": null,
   "metadata": {},
   "outputs": [],
   "source": [
    "df = pd.read_csv(\"test.csv\")\n",
    "#Idtest = df['Id']\n",
    "df.head()\n",
    "\n",
    "\n",
    "#submit = pd.DataFrame({'Id' : Idtest})"
   ]
  },
  {
   "cell_type": "code",
   "execution_count": null,
   "metadata": {},
   "outputs": [],
   "source": [
    "for key,value in cat.items():\n",
    "        submit[value]=0"
   ]
  },
  {
   "cell_type": "code",
   "execution_count": null,
   "metadata": {},
   "outputs": [],
   "source": [
    "submit.head()"
   ]
  },
  {
   "cell_type": "code",
   "execution_count": null,
   "metadata": {},
   "outputs": [],
   "source": [
    "for item in y_pred:\n",
    "    for key,value in cat.items():\n",
    "        if (item==value):\n",
    "            submit[value][key]=1"
   ]
  },
  {
   "cell_type": "code",
   "execution_count": null,
   "metadata": {},
   "outputs": [],
   "source": [
    "submit"
   ]
  },
  {
   "cell_type": "code",
   "execution_count": null,
   "metadata": {},
   "outputs": [],
   "source": [
    "submit.to_csv(\"dipta_lr1.csv\",index=False)"
   ]
  },
  {
   "cell_type": "code",
   "execution_count": null,
   "metadata": {},
   "outputs": [],
   "source": [
    "submit[submit['Id']== 47900]"
   ]
  },
  {
   "cell_type": "code",
   "execution_count": null,
   "metadata": {},
   "outputs": [],
   "source": []
  }
 ],
 "metadata": {
  "kernelspec": {
   "display_name": "Python 3",
   "language": "python",
   "name": "python3"
  },
  "language_info": {
   "codemirror_mode": {
    "name": "ipython",
    "version": 3
   },
   "file_extension": ".py",
   "mimetype": "text/x-python",
   "name": "python",
   "nbconvert_exporter": "python",
   "pygments_lexer": "ipython3",
   "version": "3.6.5"
  }
 },
 "nbformat": 4,
 "nbformat_minor": 2
}
