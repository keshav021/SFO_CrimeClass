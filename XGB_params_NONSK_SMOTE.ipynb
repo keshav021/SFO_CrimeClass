{
 "cells": [
  {
   "cell_type": "code",
   "execution_count": 30,
   "metadata": {
    "_cell_guid": "b1076dfc-b9ad-4769-8c92-a6c4dae69d19",
    "_uuid": "8f2839f25d086af736a60e9eeb907d3b93b6e0e5"
   },
   "outputs": [],
   "source": [
    "# This Python 3 environment comes with many helpful analytics libraries installed\n",
    "# It is defined by the kaggle/python docker image: https://github.com/kaggle/docker-python\n",
    "# For example, here's several helpful packages to load in \n",
    "\n",
    "import numpy as np # linear algebra\n",
    "import pandas as pd # data processing, CSV file I/O (e.g. pd.read_csv)\n"
   ]
  },
  {
   "cell_type": "code",
   "execution_count": 31,
   "metadata": {
    "_cell_guid": "79c7e3d0-c299-4dcb-8224-4455121ee9b0",
    "_uuid": "d629ff2d2480ee46fbb7e2d37f6b5fab8052498a"
   },
   "outputs": [],
   "source": [
    "import numpy as np\n",
    "import pandas as pd\n",
    "\n",
    "import matplotlib.pyplot as plt\n",
    "import seaborn as sns\n",
    "%matplotlib inline\n",
    "\n",
    "df_train = pd.read_csv(\"train.csv\")\n",
    "df_test = pd.read_csv(\"test.csv\")\n",
    "\n",
    "df_train.columns\n",
    "\n",
    "df_train.drop(columns = \"Id\",axis = 1 ,inplace = True)\n",
    "\n",
    "df_test.drop(columns = \"Id\", axis = 1 , inplace = True)\n",
    "\n",
    "df_train['Category'].unique()\n",
    "\n",
    "df_train[df_train['Category'] == 'SEX OFFENSES FORCIBLE' ]['Resolution'].unique()\n",
    "\n",
    "df_train.drop(columns = 'Descript',axis=1, inplace = True)\n",
    "df_test.drop(columns = 'Descript' , axis = 1, inplace = True)\n",
    "\n",
    "df_train.columns\n",
    "\n",
    "df_train['Dates'].head()\n",
    "\n",
    "df_train['Dates'] = pd.to_datetime(df_train['Dates'])\n",
    "df_test['Dates'] = pd.to_datetime(df_train['Dates'])\n",
    "\n",
    "df_train['Year'] = df_train['Dates'].dt.year\n",
    "df_train['Month'] = df_train['Dates'].dt.month\n",
    "df_train['HourOfDay'] = df_train['Dates'].dt.hour\n",
    "\n",
    "df_train.drop(columns = 'Dates', axis =1 , inplace = True)\n",
    "\n",
    "\n",
    "df_test['Year'] = df_test['Dates'].dt.year\n",
    "df_test['Month'] = df_test['Dates'].dt.month\n",
    "df_test['HourOfDay'] = df_test['Dates'].dt.hour\n",
    "\n",
    "df_test.drop(columns = 'Dates', axis =1 , inplace = True)\n",
    "\n",
    "\n",
    "df_train['Month']=df_train['Month'].apply(lambda x : 'MonthLow' if x== 12 else ('MonthMed' if x in (2,6,7,8,9,11) else 'MonthHigh'))\n",
    "\n",
    "df_train['PartOfDay']=df_train['HourOfDay'].apply(lambda x : 'Morning' if (x >= 5) & (x <=10) else ('Day' if x > 10 & x <=18 else 'Evening'))\n",
    "\n",
    "\n",
    "\n",
    "\n",
    "df_train.head()\n",
    "\n",
    "df_test['Month']=df_test['Month'].apply(lambda x : 'MonthLow' if x== 12 else ('MonthMed' if x in (2,6,7,8,9,11) else 'MonthHigh'))\n",
    "\n",
    "df_test['PartOfDay']=df_test['HourOfDay'].apply(lambda x : 'Morning' if (x >= 5) & (x <=10) else ('Day' if x > 10 & x <=18 else 'Evening'))\n",
    "\n",
    "\n",
    "week_dict={\n",
    "    \"Monday\":1,\n",
    "    \"Tuesday\":2,\n",
    "    \"Wednesday\":3,\n",
    "    \"Thursday\":4,\n",
    "    \"Friday\":5,\n",
    "    \"Saturday\":6,\n",
    "    \"Sunday\":7\n",
    "}\n",
    "df_train['DayOfWeek']=df_train['DayOfWeek'].replace(week_dict)\n",
    "df_test['DayOfWeek']=df_test['DayOfWeek'].replace(week_dict)\n",
    "\n",
    "df_train.head()\n",
    "\n",
    "df_train['Intersection']=df_train['Address'].apply(lambda x : 1 if '/' in x else 0)\n",
    "\n",
    "df_train['Block']=df_train['Address'].apply(lambda x : 1 if 'Block' in x else 0)\n",
    "\n",
    "df_train['StreetSuffix']=df_train['Address'].apply(lambda x : x.split(' ')[-1] if len(x.split(' ')[-1])==2 else 0) \n",
    "\n",
    "df_train.head()\n",
    "\n",
    "\n",
    "df_test['Intersection']=df_test['Address'].apply(lambda x : 1 if '/' in x else 0)\n",
    "\n",
    "df_test['Block']=df_test['Address'].apply(lambda x : 1 if 'Block' in x else 0)\n",
    "\n",
    "df_test['StreetSuffix']=df_test['Address'].apply(lambda x : x.split(' ')[-1] if len(x.split(' ')[-1])==2 else 0) \n",
    "\n",
    "df_train=df_train.drop(['Address'],axis=1)\n",
    "df_test=df_test.drop(['Address'],axis=1)\n",
    "\n",
    "df_train.head()\n",
    "\n",
    "df_train['Y']=df_train['Y'].apply(lambda x : x if 37.82 > x else 37.82 )\n",
    "\n",
    "df_train['X']=df_train['X'].apply(lambda x : x if -122.3 > x else -122.3 )\n",
    "\n",
    "df_test['Y']=df_train['Y'].apply(lambda x : x if 37.82 > x else 37.82 )\n",
    "\n",
    "df_test['X']=df_train['X'].apply(lambda x : x if -122.3 > x else -122.3 )\n",
    "\n",
    "\n",
    "\n",
    "\n",
    "df_train.drop(columns = 'Resolution',axis=1, inplace = True)\n",
    "df_test.drop(columns = 'Resolution' , axis = 1, inplace = True)\n",
    "\n",
    "df_train['WeekEnd']=df_train['DayOfWeek'].apply(lambda x : '1' if (x >= 5) else '0')\n",
    "df_test['WeekEnd']=df_train['DayOfWeek'].apply(lambda x : '1' if (x >= 5) else '0')\n",
    "\n",
    "Category_train = df_train['Category']\n",
    "\n",
    "\n",
    "from sklearn.preprocessing import LabelEncoder\n",
    "le = LabelEncoder()\n",
    "Cat = le.fit_transform(Category_train)\n",
    "\n",
    "\n",
    "df_train.drop(columns = 'Category',axis=1, inplace = True)"
   ]
  },
  {
   "cell_type": "code",
   "execution_count": 32,
   "metadata": {
    "_uuid": "498867a43120385125b7f9bb4bd55616ef49b3f5"
   },
   "outputs": [
    {
     "data": {
      "text/plain": [
       "(867873, 12)"
      ]
     },
     "execution_count": 32,
     "metadata": {},
     "output_type": "execute_result"
    }
   ],
   "source": [
    "df_train.shape"
   ]
  },
  {
   "cell_type": "code",
   "execution_count": 33,
   "metadata": {
    "_uuid": "a40508dfcf9f5d8bc1c8c65f1c13de6fd4906899"
   },
   "outputs": [
    {
     "data": {
      "text/plain": [
       "(10000, 12)"
      ]
     },
     "execution_count": 33,
     "metadata": {},
     "output_type": "execute_result"
    }
   ],
   "source": [
    "df_test.shape"
   ]
  },
  {
   "cell_type": "code",
   "execution_count": 34,
   "metadata": {
    "_uuid": "bbf776a20bae7d89eccfe91c97259e57ee9a4303"
   },
   "outputs": [
    {
     "data": {
      "text/plain": [
       "array(['ARSON', 'ASSAULT', 'BAD CHECKS', 'BRIBERY', 'BURGLARY',\n",
       "       'DISORDERLY CONDUCT', 'DRIVING UNDER THE INFLUENCE',\n",
       "       'DRUG/NARCOTIC', 'DRUNKENNESS', 'EMBEZZLEMENT', 'EXTORTION',\n",
       "       'FAMILY OFFENSES', 'FORGERY/COUNTERFEITING', 'FRAUD', 'GAMBLING',\n",
       "       'KIDNAPPING', 'LARCENY/THEFT', 'LIQUOR LAWS', 'LOITERING',\n",
       "       'MISSING PERSON', 'NON-CRIMINAL', 'OTHER OFFENSES', 'PROSTITUTION',\n",
       "       'RECOVERED VEHICLE', 'ROBBERY', 'RUNAWAY', 'SECONDARY CODES',\n",
       "       'SEX OFFENSES FORCIBLE', 'STOLEN PROPERTY', 'SUICIDE',\n",
       "       'SUSPICIOUS OCC', 'TRESPASS', 'VANDALISM', 'VEHICLE THEFT',\n",
       "       'WARRANTS', 'WEAPON LAWS'], dtype=object)"
      ]
     },
     "execution_count": 34,
     "metadata": {},
     "output_type": "execute_result"
    }
   ],
   "source": [
    "le.classes_"
   ]
  },
  {
   "cell_type": "code",
   "execution_count": 35,
   "metadata": {
    "_uuid": "11186778e532c080b20a45e024f35697e559f028"
   },
   "outputs": [
    {
     "data": {
      "text/plain": [
       "0         SEX OFFENSES FORCIBLE\n",
       "1                   LIQUOR LAWS\n",
       "2                         FRAUD\n",
       "3                       ROBBERY\n",
       "4                OTHER OFFENSES\n",
       "5                      WARRANTS\n",
       "6                      BURGLARY\n",
       "7                SUSPICIOUS OCC\n",
       "8                OTHER OFFENSES\n",
       "9                 DRUG/NARCOTIC\n",
       "10                LARCENY/THEFT\n",
       "11               OTHER OFFENSES\n",
       "12                    VANDALISM\n",
       "13                      ASSAULT\n",
       "14                DRUG/NARCOTIC\n",
       "15                LARCENY/THEFT\n",
       "16                DRUG/NARCOTIC\n",
       "17                VEHICLE THEFT\n",
       "18               MISSING PERSON\n",
       "19               OTHER OFFENSES\n",
       "20                 NON-CRIMINAL\n",
       "21                      ASSAULT\n",
       "22                  DRUNKENNESS\n",
       "23                 NON-CRIMINAL\n",
       "24               OTHER OFFENSES\n",
       "25                     WARRANTS\n",
       "26                LARCENY/THEFT\n",
       "27                      ROBBERY\n",
       "28                VEHICLE THEFT\n",
       "29                LARCENY/THEFT\n",
       "                  ...          \n",
       "867843            LARCENY/THEFT\n",
       "867844           OTHER OFFENSES\n",
       "867845            DRUG/NARCOTIC\n",
       "867846           MISSING PERSON\n",
       "867847            LARCENY/THEFT\n",
       "867848            DRUG/NARCOTIC\n",
       "867849            VEHICLE THEFT\n",
       "867850                    FRAUD\n",
       "867851            DRUG/NARCOTIC\n",
       "867852            LARCENY/THEFT\n",
       "867853             NON-CRIMINAL\n",
       "867854             NON-CRIMINAL\n",
       "867855            LARCENY/THEFT\n",
       "867856           SUSPICIOUS OCC\n",
       "867857           OTHER OFFENSES\n",
       "867858               KIDNAPPING\n",
       "867859                VANDALISM\n",
       "867860            LARCENY/THEFT\n",
       "867861           OTHER OFFENSES\n",
       "867862            LARCENY/THEFT\n",
       "867863            LARCENY/THEFT\n",
       "867864           OTHER OFFENSES\n",
       "867865             NON-CRIMINAL\n",
       "867866            LARCENY/THEFT\n",
       "867867            DRUG/NARCOTIC\n",
       "867868            LARCENY/THEFT\n",
       "867869          SECONDARY CODES\n",
       "867870            LARCENY/THEFT\n",
       "867871           OTHER OFFENSES\n",
       "867872            LARCENY/THEFT\n",
       "Name: Category, Length: 867873, dtype: object"
      ]
     },
     "execution_count": 35,
     "metadata": {},
     "output_type": "execute_result"
    }
   ],
   "source": [
    "Category_train"
   ]
  },
  {
   "cell_type": "code",
   "execution_count": 36,
   "metadata": {
    "_uuid": "5dddd3f03cd7bb0f2a781470ff281e1cb8bc7c61"
   },
   "outputs": [],
   "source": [
    "df_train = pd.get_dummies(df_train)\n",
    "\n",
    "df_test = pd.get_dummies(df_test)\n",
    "\n",
    "df_train=pd.get_dummies(df_train,prefix=['Intersection' , 'Block' ],columns=['Intersection' , 'Block'])\n",
    "\n",
    "df_test=pd.get_dummies(df_test,prefix=['Intersection' , 'Block' ],columns=['Intersection' , 'Block'])"
   ]
  },
  {
   "cell_type": "code",
   "execution_count": 37,
   "metadata": {
    "_uuid": "8ea963e5dc1736f6d7ba49ce596d6037c7d6b973"
   },
   "outputs": [
    {
     "data": {
      "text/plain": [
       "Index(['StreetSuffix_EX', 'StreetSuffix_RW', 'StreetSuffix_WK'], dtype='object')"
      ]
     },
     "execution_count": 37,
     "metadata": {},
     "output_type": "execute_result"
    }
   ],
   "source": [
    "df_train.columns.difference(df_test.columns)"
   ]
  },
  {
   "cell_type": "code",
   "execution_count": 38,
   "metadata": {
    "_uuid": "ba77c8e7a6c7faef1f55f9830830517826a47c67"
   },
   "outputs": [
    {
     "data": {
      "text/plain": [
       "'StreetSuffix_WK'"
      ]
     },
     "execution_count": 38,
     "metadata": {},
     "output_type": "execute_result"
    }
   ],
   "source": [
    "df_train.columns[37]"
   ]
  },
  {
   "cell_type": "code",
   "execution_count": 39,
   "metadata": {
    "_uuid": "2089fdb1c21882dd7300b826c6890194b5c8ec62"
   },
   "outputs": [],
   "source": [
    "df_test.insert(loc=28,column='StreetSuffix_EX',value = 0)\n",
    "\n",
    "df_test.insert(loc=34,column='StreetSuffix_RW',value = 0)\n",
    "\n",
    "df_test.insert(loc=37,column='StreetSuffix_WK',value = 0)"
   ]
  },
  {
   "cell_type": "code",
   "execution_count": 40,
   "metadata": {
    "_uuid": "caf744b3b4c624d7f698032d0c2254f9c3c96f17"
   },
   "outputs": [],
   "source": [
    "X_train = df_train\n",
    "X_test = df_test\n",
    "Y_train = Category_train"
   ]
  },
  {
   "cell_type": "code",
   "execution_count": 41,
   "metadata": {},
   "outputs": [],
   "source": [
    "from imblearn.over_sampling import SMOTE"
   ]
  },
  {
   "cell_type": "code",
   "execution_count": 43,
   "metadata": {},
   "outputs": [],
   "source": [
    "sm = SMOTE(random_state=2)"
   ]
  },
  {
   "cell_type": "code",
   "execution_count": 44,
   "metadata": {},
   "outputs": [],
   "source": [
    "X_train_res, Y_train_res = sm.fit_sample(X_train,Y_train.ravel())"
   ]
  },
  {
   "cell_type": "code",
   "execution_count": 47,
   "metadata": {},
   "outputs": [
    {
     "data": {
      "text/plain": [
       "(10000, 45)"
      ]
     },
     "execution_count": 47,
     "metadata": {},
     "output_type": "execute_result"
    }
   ],
   "source": [
    "X_test.shape"
   ]
  },
  {
   "cell_type": "code",
   "execution_count": 21,
   "metadata": {
    "_uuid": "52e381f180e674064cefa8b19de89c44805853b5"
   },
   "outputs": [],
   "source": [
    "import xgboost as XGB"
   ]
  },
  {
   "cell_type": "code",
   "execution_count": 22,
   "metadata": {
    "_uuid": "585da6edf4df4a359a904b872788fc4ba19f25c6"
   },
   "outputs": [],
   "source": [
    "Xmodel = XGB.XGBClassifier(max_delta_step = 1,max_depth= 6,eta= 1.0,num_class = 36,objective= 'multi:softprob',booster = 'gbtree').fit(X_train_res,Y_train_res)"
   ]
  },
  {
   "cell_type": "code",
   "execution_count": 23,
   "metadata": {
    "_uuid": "87a207e804b196bee3c4c79476a79f4bb732e7b1"
   },
   "outputs": [],
   "source": [
    "#XGB.fit(X_train,Y_train)"
   ]
  },
  {
   "cell_type": "code",
   "execution_count": 24,
   "metadata": {
    "_uuid": "b3ed5a7892e7007ce84b2c8b49ce5ff6fbb73026"
   },
   "outputs": [],
   "source": [
    "Y_pred = Xmodel.predict_proba(X_test)"
   ]
  },
  {
   "cell_type": "code",
   "execution_count": 26,
   "metadata": {
    "_uuid": "75d6249a13faecbf41f0213144be991174c84c93"
   },
   "outputs": [],
   "source": [
    "df = pd.read_csv(\"test.csv\")\n",
    "Idtest = df['Id']\n",
    "submit = pd.DataFrame(Y_pred,columns = le.classes_)\n",
    "submit['Id'] = Idtest\n",
    "\n",
    "\n",
    "\n",
    "submit.to_csv('dipta_result_XGB(nonsk)_SMOTE.csv', index=False)"
   ]
  },
  {
   "cell_type": "code",
   "execution_count": 27,
   "metadata": {},
   "outputs": [],
   "source": []
  },
  {
   "cell_type": "code",
   "execution_count": 28,
   "metadata": {},
   "outputs": [],
   "source": []
  },
  {
   "cell_type": "code",
   "execution_count": 29,
   "metadata": {},
   "outputs": [
    {
     "data": {
      "text/plain": [
       "2.4027831336294194"
      ]
     },
     "execution_count": 29,
     "metadata": {},
     "output_type": "execute_result"
    }
   ],
   "source": []
  },
  {
   "cell_type": "code",
   "execution_count": null,
   "metadata": {},
   "outputs": [],
   "source": []
  }
 ],
 "metadata": {
  "kernelspec": {
   "display_name": "Python 3",
   "language": "python",
   "name": "python3"
  },
  "language_info": {
   "codemirror_mode": {
    "name": "ipython",
    "version": 3
   },
   "file_extension": ".py",
   "mimetype": "text/x-python",
   "name": "python",
   "nbconvert_exporter": "python",
   "pygments_lexer": "ipython3",
   "version": "3.6.5"
  }
 },
 "nbformat": 4,
 "nbformat_minor": 1
}
