{
 "cells": [
  {
   "cell_type": "code",
   "execution_count": 137,
   "metadata": {
    "_uuid": "33b9771e2851b3826d69d35ff1b00bef5f9cb9dc"
   },
   "outputs": [],
   "source": [
    "import numpy as np\n",
    "import pandas as pd\n",
    "from sklearn.preprocessing import LabelEncoder, label_binarize, StandardScaler\n",
    "from sklearn.model_selection import train_test_split\n",
    "from sklearn.metrics import log_loss"
   ]
  },
  {
   "cell_type": "code",
   "execution_count": 138,
   "metadata": {
    "_uuid": "25392c1ec365b62e014c5a95ed9dbc4210ad8f32"
   },
   "outputs": [],
   "source": [
    "train= pd.read_csv(\"train.csv\",parse_dates=[\"Dates\"],index_col=False)"
   ]
  },
  {
   "cell_type": "code",
   "execution_count": 139,
   "metadata": {
    "_uuid": "1d107b4d4da588300fc35b1eab388af4aeb23574"
   },
   "outputs": [
    {
     "data": {
      "text/html": [
       "<div>\n",
       "<style scoped>\n",
       "    .dataframe tbody tr th:only-of-type {\n",
       "        vertical-align: middle;\n",
       "    }\n",
       "\n",
       "    .dataframe tbody tr th {\n",
       "        vertical-align: top;\n",
       "    }\n",
       "\n",
       "    .dataframe thead th {\n",
       "        text-align: right;\n",
       "    }\n",
       "</style>\n",
       "<table border=\"1\" class=\"dataframe\">\n",
       "  <thead>\n",
       "    <tr style=\"text-align: right;\">\n",
       "      <th></th>\n",
       "      <th>Dates</th>\n",
       "      <th>Category</th>\n",
       "      <th>Descript</th>\n",
       "      <th>DayOfWeek</th>\n",
       "      <th>PdDistrict</th>\n",
       "      <th>Resolution</th>\n",
       "      <th>Address</th>\n",
       "      <th>X</th>\n",
       "      <th>Y</th>\n",
       "      <th>Id</th>\n",
       "    </tr>\n",
       "  </thead>\n",
       "  <tbody>\n",
       "    <tr>\n",
       "      <th>0</th>\n",
       "      <td>2013-06-28 17:40:00</td>\n",
       "      <td>SEX OFFENSES FORCIBLE</td>\n",
       "      <td>FORCIBLE RAPE, BODILY FORCE</td>\n",
       "      <td>Friday</td>\n",
       "      <td>MISSION</td>\n",
       "      <td>NONE</td>\n",
       "      <td>2100 Block of MISSION ST</td>\n",
       "      <td>-122.419331</td>\n",
       "      <td>37.762264</td>\n",
       "      <td>141546</td>\n",
       "    </tr>\n",
       "    <tr>\n",
       "      <th>1</th>\n",
       "      <td>2004-02-19 02:46:00</td>\n",
       "      <td>LIQUOR LAWS</td>\n",
       "      <td>CONSUMING ALCOHOL IN PUBLIC VIEW</td>\n",
       "      <td>Thursday</td>\n",
       "      <td>SOUTHERN</td>\n",
       "      <td>ARREST, BOOKED</td>\n",
       "      <td>1000 Block of MARKET ST</td>\n",
       "      <td>-122.411340</td>\n",
       "      <td>37.781271</td>\n",
       "      <td>794152</td>\n",
       "    </tr>\n",
       "    <tr>\n",
       "      <th>2</th>\n",
       "      <td>2007-11-14 00:01:00</td>\n",
       "      <td>FRAUD</td>\n",
       "      <td>CREDIT CARD, THEFT BY USE OF</td>\n",
       "      <td>Wednesday</td>\n",
       "      <td>SOUTHERN</td>\n",
       "      <td>NONE</td>\n",
       "      <td>800 Block of BRYANT ST</td>\n",
       "      <td>-122.403405</td>\n",
       "      <td>37.775421</td>\n",
       "      <td>531205</td>\n",
       "    </tr>\n",
       "    <tr>\n",
       "      <th>3</th>\n",
       "      <td>2007-12-27 18:30:00</td>\n",
       "      <td>ROBBERY</td>\n",
       "      <td>ROBBERY OF A CHAIN STORE WITH A GUN</td>\n",
       "      <td>Thursday</td>\n",
       "      <td>BAYVIEW</td>\n",
       "      <td>DISTRICT ATTORNEY REFUSES TO PROSECUTE</td>\n",
       "      <td>2400 Block of SAN BRUNO AV</td>\n",
       "      <td>-122.404715</td>\n",
       "      <td>37.730161</td>\n",
       "      <td>523137</td>\n",
       "    </tr>\n",
       "    <tr>\n",
       "      <th>4</th>\n",
       "      <td>2012-09-09 17:02:00</td>\n",
       "      <td>OTHER OFFENSES</td>\n",
       "      <td>PROBATION VIOLATION</td>\n",
       "      <td>Sunday</td>\n",
       "      <td>SOUTHERN</td>\n",
       "      <td>ARREST, BOOKED</td>\n",
       "      <td>4TH ST / STEVENSON ST</td>\n",
       "      <td>-122.405239</td>\n",
       "      <td>37.785265</td>\n",
       "      <td>200968</td>\n",
       "    </tr>\n",
       "  </tbody>\n",
       "</table>\n",
       "</div>"
      ],
      "text/plain": [
       "                Dates               Category  \\\n",
       "0 2013-06-28 17:40:00  SEX OFFENSES FORCIBLE   \n",
       "1 2004-02-19 02:46:00            LIQUOR LAWS   \n",
       "2 2007-11-14 00:01:00                  FRAUD   \n",
       "3 2007-12-27 18:30:00                ROBBERY   \n",
       "4 2012-09-09 17:02:00         OTHER OFFENSES   \n",
       "\n",
       "                              Descript  DayOfWeek PdDistrict  \\\n",
       "0          FORCIBLE RAPE, BODILY FORCE     Friday    MISSION   \n",
       "1     CONSUMING ALCOHOL IN PUBLIC VIEW   Thursday   SOUTHERN   \n",
       "2         CREDIT CARD, THEFT BY USE OF  Wednesday   SOUTHERN   \n",
       "3  ROBBERY OF A CHAIN STORE WITH A GUN   Thursday    BAYVIEW   \n",
       "4                  PROBATION VIOLATION     Sunday   SOUTHERN   \n",
       "\n",
       "                               Resolution                     Address  \\\n",
       "0                                    NONE    2100 Block of MISSION ST   \n",
       "1                          ARREST, BOOKED     1000 Block of MARKET ST   \n",
       "2                                    NONE      800 Block of BRYANT ST   \n",
       "3  DISTRICT ATTORNEY REFUSES TO PROSECUTE  2400 Block of SAN BRUNO AV   \n",
       "4                          ARREST, BOOKED       4TH ST / STEVENSON ST   \n",
       "\n",
       "            X          Y      Id  \n",
       "0 -122.419331  37.762264  141546  \n",
       "1 -122.411340  37.781271  794152  \n",
       "2 -122.403405  37.775421  531205  \n",
       "3 -122.404715  37.730161  523137  \n",
       "4 -122.405239  37.785265  200968  "
      ]
     },
     "execution_count": 139,
     "metadata": {},
     "output_type": "execute_result"
    }
   ],
   "source": [
    "train.head()"
   ]
  },
  {
   "cell_type": "code",
   "execution_count": 140,
   "metadata": {
    "_uuid": "e408a4d7f52fa69c106f21c7f9a1cf814201180f"
   },
   "outputs": [],
   "source": [
    "train = train.drop([\"Descript\",\"Resolution\"],axis=1)"
   ]
  },
  {
   "cell_type": "code",
   "execution_count": 141,
   "metadata": {
    "_uuid": "12277981d60ce3d5c7b549c14b00e3bd1bbe2680"
   },
   "outputs": [],
   "source": [
    "def datesplit(data):\n",
    "    data[\"Year\"] = data[\"Dates\"].dt.year\n",
    "    data[\"Month\"] = data[\"Dates\"].dt.month\n",
    "    data[\"Day\"] = data[\"Dates\"].dt.day\n",
    "    data[\"Hour\"] = data[\"Dates\"].dt.hour\n",
    "    data[\"Minute\"] = data[\"Dates\"].dt.minute\n",
    "    return data"
   ]
  },
  {
   "cell_type": "code",
   "execution_count": 142,
   "metadata": {
    "_uuid": "f2da53b1e0aa8b9e6207572e97c307ca13b33795"
   },
   "outputs": [],
   "source": [
    "train= datesplit(train)"
   ]
  },
  {
   "cell_type": "code",
   "execution_count": 143,
   "metadata": {
    "_uuid": "5481a3f4fca188992e27c809f2d453f20d855a1a"
   },
   "outputs": [
    {
     "data": {
      "text/html": [
       "<div>\n",
       "<style scoped>\n",
       "    .dataframe tbody tr th:only-of-type {\n",
       "        vertical-align: middle;\n",
       "    }\n",
       "\n",
       "    .dataframe tbody tr th {\n",
       "        vertical-align: top;\n",
       "    }\n",
       "\n",
       "    .dataframe thead th {\n",
       "        text-align: right;\n",
       "    }\n",
       "</style>\n",
       "<table border=\"1\" class=\"dataframe\">\n",
       "  <thead>\n",
       "    <tr style=\"text-align: right;\">\n",
       "      <th></th>\n",
       "      <th>Dates</th>\n",
       "      <th>Category</th>\n",
       "      <th>DayOfWeek</th>\n",
       "      <th>PdDistrict</th>\n",
       "      <th>Address</th>\n",
       "      <th>X</th>\n",
       "      <th>Y</th>\n",
       "      <th>Id</th>\n",
       "      <th>Year</th>\n",
       "      <th>Month</th>\n",
       "      <th>Day</th>\n",
       "      <th>Hour</th>\n",
       "      <th>Minute</th>\n",
       "    </tr>\n",
       "  </thead>\n",
       "  <tbody>\n",
       "    <tr>\n",
       "      <th>0</th>\n",
       "      <td>2013-06-28 17:40:00</td>\n",
       "      <td>SEX OFFENSES FORCIBLE</td>\n",
       "      <td>Friday</td>\n",
       "      <td>MISSION</td>\n",
       "      <td>2100 Block of MISSION ST</td>\n",
       "      <td>-122.419331</td>\n",
       "      <td>37.762264</td>\n",
       "      <td>141546</td>\n",
       "      <td>2013</td>\n",
       "      <td>6</td>\n",
       "      <td>28</td>\n",
       "      <td>17</td>\n",
       "      <td>40</td>\n",
       "    </tr>\n",
       "    <tr>\n",
       "      <th>1</th>\n",
       "      <td>2004-02-19 02:46:00</td>\n",
       "      <td>LIQUOR LAWS</td>\n",
       "      <td>Thursday</td>\n",
       "      <td>SOUTHERN</td>\n",
       "      <td>1000 Block of MARKET ST</td>\n",
       "      <td>-122.411340</td>\n",
       "      <td>37.781271</td>\n",
       "      <td>794152</td>\n",
       "      <td>2004</td>\n",
       "      <td>2</td>\n",
       "      <td>19</td>\n",
       "      <td>2</td>\n",
       "      <td>46</td>\n",
       "    </tr>\n",
       "    <tr>\n",
       "      <th>2</th>\n",
       "      <td>2007-11-14 00:01:00</td>\n",
       "      <td>FRAUD</td>\n",
       "      <td>Wednesday</td>\n",
       "      <td>SOUTHERN</td>\n",
       "      <td>800 Block of BRYANT ST</td>\n",
       "      <td>-122.403405</td>\n",
       "      <td>37.775421</td>\n",
       "      <td>531205</td>\n",
       "      <td>2007</td>\n",
       "      <td>11</td>\n",
       "      <td>14</td>\n",
       "      <td>0</td>\n",
       "      <td>1</td>\n",
       "    </tr>\n",
       "    <tr>\n",
       "      <th>3</th>\n",
       "      <td>2007-12-27 18:30:00</td>\n",
       "      <td>ROBBERY</td>\n",
       "      <td>Thursday</td>\n",
       "      <td>BAYVIEW</td>\n",
       "      <td>2400 Block of SAN BRUNO AV</td>\n",
       "      <td>-122.404715</td>\n",
       "      <td>37.730161</td>\n",
       "      <td>523137</td>\n",
       "      <td>2007</td>\n",
       "      <td>12</td>\n",
       "      <td>27</td>\n",
       "      <td>18</td>\n",
       "      <td>30</td>\n",
       "    </tr>\n",
       "    <tr>\n",
       "      <th>4</th>\n",
       "      <td>2012-09-09 17:02:00</td>\n",
       "      <td>OTHER OFFENSES</td>\n",
       "      <td>Sunday</td>\n",
       "      <td>SOUTHERN</td>\n",
       "      <td>4TH ST / STEVENSON ST</td>\n",
       "      <td>-122.405239</td>\n",
       "      <td>37.785265</td>\n",
       "      <td>200968</td>\n",
       "      <td>2012</td>\n",
       "      <td>9</td>\n",
       "      <td>9</td>\n",
       "      <td>17</td>\n",
       "      <td>2</td>\n",
       "    </tr>\n",
       "  </tbody>\n",
       "</table>\n",
       "</div>"
      ],
      "text/plain": [
       "                Dates               Category  DayOfWeek PdDistrict  \\\n",
       "0 2013-06-28 17:40:00  SEX OFFENSES FORCIBLE     Friday    MISSION   \n",
       "1 2004-02-19 02:46:00            LIQUOR LAWS   Thursday   SOUTHERN   \n",
       "2 2007-11-14 00:01:00                  FRAUD  Wednesday   SOUTHERN   \n",
       "3 2007-12-27 18:30:00                ROBBERY   Thursday    BAYVIEW   \n",
       "4 2012-09-09 17:02:00         OTHER OFFENSES     Sunday   SOUTHERN   \n",
       "\n",
       "                      Address           X          Y      Id  Year  Month  \\\n",
       "0    2100 Block of MISSION ST -122.419331  37.762264  141546  2013      6   \n",
       "1     1000 Block of MARKET ST -122.411340  37.781271  794152  2004      2   \n",
       "2      800 Block of BRYANT ST -122.403405  37.775421  531205  2007     11   \n",
       "3  2400 Block of SAN BRUNO AV -122.404715  37.730161  523137  2007     12   \n",
       "4       4TH ST / STEVENSON ST -122.405239  37.785265  200968  2012      9   \n",
       "\n",
       "   Day  Hour  Minute  \n",
       "0   28    17      40  \n",
       "1   19     2      46  \n",
       "2   14     0       1  \n",
       "3   27    18      30  \n",
       "4    9    17       2  "
      ]
     },
     "execution_count": 143,
     "metadata": {},
     "output_type": "execute_result"
    }
   ],
   "source": [
    "train.head()"
   ]
  },
  {
   "cell_type": "code",
   "execution_count": 144,
   "metadata": {
    "_uuid": "53bd303fcea84f72bc383ec5d583996ab3022d01"
   },
   "outputs": [],
   "source": [
    "#train = pd.concat([train,pd.get_dummies(train.Category)], axis=1)"
   ]
  },
  {
   "cell_type": "code",
   "execution_count": 145,
   "metadata": {
    "_uuid": "71b0924308e5ed23a1613a5d26c0aaf7cf122267"
   },
   "outputs": [
    {
     "data": {
      "text/plain": [
       "(36,)"
      ]
     },
     "execution_count": 145,
     "metadata": {},
     "output_type": "execute_result"
    }
   ],
   "source": [
    "cat_encoder=LabelEncoder()\n",
    "cat_encoder.fit(train[\"Category\"])\n",
    "cat_encoder.classes_.shape"
   ]
  },
  {
   "cell_type": "code",
   "execution_count": 146,
   "metadata": {
    "_uuid": "044f231b10e3ec8b0ce179e5e12e9c86af2f31ba"
   },
   "outputs": [],
   "source": [
    "train[\"CategoryEncoded\"] = cat_encoder.transform(train[\"Category\"])"
   ]
  },
  {
   "cell_type": "code",
   "execution_count": 147,
   "metadata": {
    "_uuid": "e5965a9543489078c3d4719bd402a6e9dbea332f"
   },
   "outputs": [
    {
     "data": {
      "text/plain": [
       "0    27\n",
       "1    17\n",
       "2    13\n",
       "3    24\n",
       "4    21\n",
       "Name: CategoryEncoded, dtype: int32"
      ]
     },
     "execution_count": 147,
     "metadata": {},
     "output_type": "execute_result"
    }
   ],
   "source": [
    "train[\"CategoryEncoded\"].head()"
   ]
  },
  {
   "cell_type": "code",
   "execution_count": 148,
   "metadata": {
    "_uuid": "faad31f881a152e05b515756dd4067fb46d933a6"
   },
   "outputs": [],
   "source": [
    "train[\"Category\"] = train[\"CategoryEncoded\"]"
   ]
  },
  {
   "cell_type": "code",
   "execution_count": 149,
   "metadata": {
    "_uuid": "78b626d708cd917e6b1a1fa401e95560b666a50f"
   },
   "outputs": [],
   "source": [
    "train = pd.concat([train,pd.get_dummies(train.PdDistrict)], axis=1)\n",
    "train = pd.concat([train,pd.get_dummies(train.DayOfWeek)], axis=1)"
   ]
  },
  {
   "cell_type": "code",
   "execution_count": 150,
   "metadata": {
    "_uuid": "3ce618cb262a61af92747adf23ef1fc52a624aba"
   },
   "outputs": [],
   "source": [
    "add_encoder = LabelEncoder()"
   ]
  },
  {
   "cell_type": "code",
   "execution_count": 151,
   "metadata": {
    "_uuid": "95a42744716a4f39caee45db81aec43e72b0a3cf"
   },
   "outputs": [],
   "source": [
    "train['StreetNo'] = train['Address'].apply(lambda x: x.split(' ', 1)[0] if x.split(' ', 1)[0].isdigit() else 0)\n",
    "train[\"Intersection\"]= train[\"Address\"].apply(lambda x: 1 if \"/\" in x else 0)\n",
    "train['Address'] = train['Address'].apply(lambda x: x.split(' ', 1)[1] if x.split(' ', 1)[0].isdigit() else x)\n",
    "add_encoder.fit(train[\"Address\"])\n",
    "train[\"Address\"]= add_encoder.transform(train[\"Address\"])"
   ]
  },
  {
   "cell_type": "code",
   "execution_count": 152,
   "metadata": {
    "_uuid": "42f50d7be02ca1baeed647f74487576b35b5222f"
   },
   "outputs": [],
   "source": [
    "train[\"Morning\"] = train[\"Hour\"].apply(lambda x: 1 if x>= 6 and x < 12 else 0)\n",
    "train[\"Noon\"] = train[\"Hour\"].apply(lambda x: 1 if x>= 12 and x < 17 else 0)\n",
    "train[\"Evening\"] = train[\"Hour\"].apply(lambda x: 1 if x>= 17 and x < 20 else 0)\n",
    "train[\"Night\"] = train[\"Hour\"].apply(lambda x: 1 if x >= 20 or x < 6 else 0)\n",
    "train[\"Fall\"] = train[\"Month\"].apply(lambda x: 1 if x>=3 and x <=5 else 0)\n",
    "train[\"Winter\"] = train[\"Month\"].apply(lambda x: 1 if x>=6 and x <=8 else 0)\n",
    "train[\"Spring\"] = train[\"Month\"].apply(lambda x: 1 if x>=9 and x <=11 else 0)\n",
    "train[\"Summer\"] = train[\"Month\"].apply(lambda x: 1 if x>=12 or x <=2 else 0)"
   ]
  },
  {
   "cell_type": "code",
   "execution_count": 153,
   "metadata": {
    "_uuid": "2c33510b0436aedd63eaf8d0ce545f25c9a72938"
   },
   "outputs": [
    {
     "data": {
      "text/plain": [
       "(867873, 41)"
      ]
     },
     "execution_count": 153,
     "metadata": {},
     "output_type": "execute_result"
    }
   ],
   "source": [
    "train.shape"
   ]
  },
  {
   "cell_type": "code",
   "execution_count": 154,
   "metadata": {
    "_uuid": "2444cf4350bdebd50b6d130258ae9fd2e69d6999",
    "scrolled": true
   },
   "outputs": [
    {
     "name": "stdout",
     "output_type": "stream",
     "text": [
      "['Dates', 'Category', 'DayOfWeek', 'PdDistrict', 'Address', 'X', 'Y', 'Id', 'Year', 'Month', 'Day', 'Hour', 'Minute', 'CategoryEncoded', 'BAYVIEW', 'CENTRAL', 'INGLESIDE', 'MISSION', 'NORTHERN', 'PARK', 'RICHMOND', 'SOUTHERN', 'TARAVAL', 'TENDERLOIN', 'Friday', 'Monday', 'Saturday', 'Sunday', 'Thursday', 'Tuesday', 'Wednesday', 'StreetNo', 'Intersection', 'Morning', 'Noon', 'Evening', 'Night', 'Fall', 'Winter', 'Spring', 'Summer']\n"
     ]
    }
   ],
   "source": [
    "train_columns = list(train.columns.values)\n",
    "print(train_columns)"
   ]
  },
  {
   "cell_type": "code",
   "execution_count": 155,
   "metadata": {
    "_uuid": "a8e553373d3cdcba93eb0c18144b818037f01e65"
   },
   "outputs": [],
   "source": [
    "train = train.drop([\"CategoryEncoded\",\"DayOfWeek\"], axis=1)"
   ]
  },
  {
   "cell_type": "code",
   "execution_count": 156,
   "metadata": {
    "_uuid": "ea5dd827f85e90e24ad57d0277b39f2a15254b34"
   },
   "outputs": [],
   "source": [
    "train = train.drop([\"PdDistrict\"],axis=1)"
   ]
  },
  {
   "cell_type": "code",
   "execution_count": 157,
   "metadata": {
    "_uuid": "7b58b85c0f51e9d78a6da4403b557700a250d1bc"
   },
   "outputs": [],
   "source": [
    "train = train.drop([\"Dates\"],axis=1)"
   ]
  },
  {
   "cell_type": "code",
   "execution_count": 158,
   "metadata": {
    "_uuid": "84c2fe3c5ae05573cbfc811340c7fb54f564f547"
   },
   "outputs": [],
   "source": [
    "train['StreetNo'] = train['StreetNo'].astype(int)"
   ]
  },
  {
   "cell_type": "code",
   "execution_count": 159,
   "metadata": {
    "_uuid": "ff296168a9d9953ef99bebcba494d81d039389a0"
   },
   "outputs": [
    {
     "name": "stdout",
     "output_type": "stream",
     "text": [
      "<class 'pandas.core.frame.DataFrame'>\n",
      "RangeIndex: 867873 entries, 0 to 867872\n",
      "Data columns (total 37 columns):\n",
      "Category        867873 non-null int32\n",
      "Address         867873 non-null int32\n",
      "X               867873 non-null float64\n",
      "Y               867873 non-null float64\n",
      "Id              867873 non-null int64\n",
      "Year            867873 non-null int64\n",
      "Month           867873 non-null int64\n",
      "Day             867873 non-null int64\n",
      "Hour            867873 non-null int64\n",
      "Minute          867873 non-null int64\n",
      "BAYVIEW         867873 non-null uint8\n",
      "CENTRAL         867873 non-null uint8\n",
      "INGLESIDE       867873 non-null uint8\n",
      "MISSION         867873 non-null uint8\n",
      "NORTHERN        867873 non-null uint8\n",
      "PARK            867873 non-null uint8\n",
      "RICHMOND        867873 non-null uint8\n",
      "SOUTHERN        867873 non-null uint8\n",
      "TARAVAL         867873 non-null uint8\n",
      "TENDERLOIN      867873 non-null uint8\n",
      "Friday          867873 non-null uint8\n",
      "Monday          867873 non-null uint8\n",
      "Saturday        867873 non-null uint8\n",
      "Sunday          867873 non-null uint8\n",
      "Thursday        867873 non-null uint8\n",
      "Tuesday         867873 non-null uint8\n",
      "Wednesday       867873 non-null uint8\n",
      "StreetNo        867873 non-null int32\n",
      "Intersection    867873 non-null int64\n",
      "Morning         867873 non-null int64\n",
      "Noon            867873 non-null int64\n",
      "Evening         867873 non-null int64\n",
      "Night           867873 non-null int64\n",
      "Fall            867873 non-null int64\n",
      "Winter          867873 non-null int64\n",
      "Spring          867873 non-null int64\n",
      "Summer          867873 non-null int64\n",
      "dtypes: float64(2), int32(3), int64(15), uint8(17)\n",
      "memory usage: 136.6 MB\n"
     ]
    }
   ],
   "source": [
    "train.info()"
   ]
  },
  {
   "cell_type": "code",
   "execution_count": 160,
   "metadata": {
    "_uuid": "1dd46e414520530f8d5180aeb2842103652d8651"
   },
   "outputs": [
    {
     "name": "stderr",
     "output_type": "stream",
     "text": [
      "C:\\Users\\Dipta\\Anaconda3\\lib\\site-packages\\sklearn\\model_selection\\_split.py:2069: FutureWarning: From version 0.21, test_size will always complement train_size unless both are specified.\n",
      "  FutureWarning)\n"
     ]
    }
   ],
   "source": [
    "training,validation = train_test_split(train, train_size=0.80,random_state=51)"
   ]
  },
  {
   "cell_type": "code",
   "execution_count": 161,
   "metadata": {
    "_uuid": "9a45ff985889a4be9e863b6f2472298ee193c6eb"
   },
   "outputs": [],
   "source": [
    "#train = train.drop([\"Category\"],axis=1)"
   ]
  },
  {
   "cell_type": "code",
   "execution_count": 162,
   "metadata": {
    "_uuid": "4f1fe9940862ff82d2b9047c8b02cdadbaf85c0e"
   },
   "outputs": [],
   "source": [
    "from catboost import CatBoostClassifier"
   ]
  },
  {
   "cell_type": "code",
   "execution_count": 172,
   "metadata": {
    "_uuid": "df84307d6a54be19b27dc9f60856fe8e5d2393be"
   },
   "outputs": [],
   "source": [
    "model=CatBoostClassifier(iterations=1000, depth=5, learning_rate=0.01, loss_function='MultiClass')"
   ]
  },
  {
   "cell_type": "code",
   "execution_count": 164,
   "metadata": {
    "_uuid": "67aa0532906cd1cd4cc40da0432ffbdf7514a32d"
   },
   "outputs": [
    {
     "data": {
      "text/html": [
       "<div>\n",
       "<style scoped>\n",
       "    .dataframe tbody tr th:only-of-type {\n",
       "        vertical-align: middle;\n",
       "    }\n",
       "\n",
       "    .dataframe tbody tr th {\n",
       "        vertical-align: top;\n",
       "    }\n",
       "\n",
       "    .dataframe thead th {\n",
       "        text-align: right;\n",
       "    }\n",
       "</style>\n",
       "<table border=\"1\" class=\"dataframe\">\n",
       "  <thead>\n",
       "    <tr style=\"text-align: right;\">\n",
       "      <th></th>\n",
       "      <th>Category</th>\n",
       "      <th>Address</th>\n",
       "      <th>X</th>\n",
       "      <th>Y</th>\n",
       "      <th>Id</th>\n",
       "      <th>Year</th>\n",
       "      <th>Month</th>\n",
       "      <th>Day</th>\n",
       "      <th>Hour</th>\n",
       "      <th>Minute</th>\n",
       "      <th>...</th>\n",
       "      <th>StreetNo</th>\n",
       "      <th>Intersection</th>\n",
       "      <th>Morning</th>\n",
       "      <th>Noon</th>\n",
       "      <th>Evening</th>\n",
       "      <th>Night</th>\n",
       "      <th>Fall</th>\n",
       "      <th>Winter</th>\n",
       "      <th>Spring</th>\n",
       "      <th>Summer</th>\n",
       "    </tr>\n",
       "  </thead>\n",
       "  <tbody>\n",
       "    <tr>\n",
       "      <th>0</th>\n",
       "      <td>27</td>\n",
       "      <td>4423</td>\n",
       "      <td>-122.419331</td>\n",
       "      <td>37.762264</td>\n",
       "      <td>141546</td>\n",
       "      <td>2013</td>\n",
       "      <td>6</td>\n",
       "      <td>28</td>\n",
       "      <td>17</td>\n",
       "      <td>40</td>\n",
       "      <td>...</td>\n",
       "      <td>2100</td>\n",
       "      <td>0</td>\n",
       "      <td>0</td>\n",
       "      <td>0</td>\n",
       "      <td>1</td>\n",
       "      <td>0</td>\n",
       "      <td>0</td>\n",
       "      <td>1</td>\n",
       "      <td>0</td>\n",
       "      <td>0</td>\n",
       "    </tr>\n",
       "    <tr>\n",
       "      <th>1</th>\n",
       "      <td>17</td>\n",
       "      <td>4354</td>\n",
       "      <td>-122.411340</td>\n",
       "      <td>37.781271</td>\n",
       "      <td>794152</td>\n",
       "      <td>2004</td>\n",
       "      <td>2</td>\n",
       "      <td>19</td>\n",
       "      <td>2</td>\n",
       "      <td>46</td>\n",
       "      <td>...</td>\n",
       "      <td>1000</td>\n",
       "      <td>0</td>\n",
       "      <td>0</td>\n",
       "      <td>0</td>\n",
       "      <td>0</td>\n",
       "      <td>1</td>\n",
       "      <td>0</td>\n",
       "      <td>0</td>\n",
       "      <td>0</td>\n",
       "      <td>1</td>\n",
       "    </tr>\n",
       "    <tr>\n",
       "      <th>2</th>\n",
       "      <td>13</td>\n",
       "      <td>3493</td>\n",
       "      <td>-122.403405</td>\n",
       "      <td>37.775421</td>\n",
       "      <td>531205</td>\n",
       "      <td>2007</td>\n",
       "      <td>11</td>\n",
       "      <td>14</td>\n",
       "      <td>0</td>\n",
       "      <td>1</td>\n",
       "      <td>...</td>\n",
       "      <td>800</td>\n",
       "      <td>0</td>\n",
       "      <td>0</td>\n",
       "      <td>0</td>\n",
       "      <td>0</td>\n",
       "      <td>1</td>\n",
       "      <td>0</td>\n",
       "      <td>0</td>\n",
       "      <td>1</td>\n",
       "      <td>0</td>\n",
       "    </tr>\n",
       "    <tr>\n",
       "      <th>3</th>\n",
       "      <td>24</td>\n",
       "      <td>4773</td>\n",
       "      <td>-122.404715</td>\n",
       "      <td>37.730161</td>\n",
       "      <td>523137</td>\n",
       "      <td>2007</td>\n",
       "      <td>12</td>\n",
       "      <td>27</td>\n",
       "      <td>18</td>\n",
       "      <td>30</td>\n",
       "      <td>...</td>\n",
       "      <td>2400</td>\n",
       "      <td>0</td>\n",
       "      <td>0</td>\n",
       "      <td>0</td>\n",
       "      <td>1</td>\n",
       "      <td>0</td>\n",
       "      <td>0</td>\n",
       "      <td>0</td>\n",
       "      <td>0</td>\n",
       "      <td>1</td>\n",
       "    </tr>\n",
       "    <tr>\n",
       "      <th>4</th>\n",
       "      <td>21</td>\n",
       "      <td>1760</td>\n",
       "      <td>-122.405239</td>\n",
       "      <td>37.785265</td>\n",
       "      <td>200968</td>\n",
       "      <td>2012</td>\n",
       "      <td>9</td>\n",
       "      <td>9</td>\n",
       "      <td>17</td>\n",
       "      <td>2</td>\n",
       "      <td>...</td>\n",
       "      <td>0</td>\n",
       "      <td>1</td>\n",
       "      <td>0</td>\n",
       "      <td>0</td>\n",
       "      <td>1</td>\n",
       "      <td>0</td>\n",
       "      <td>0</td>\n",
       "      <td>0</td>\n",
       "      <td>1</td>\n",
       "      <td>0</td>\n",
       "    </tr>\n",
       "  </tbody>\n",
       "</table>\n",
       "<p>5 rows × 37 columns</p>\n",
       "</div>"
      ],
      "text/plain": [
       "   Category  Address           X          Y      Id  Year  Month  Day  Hour  \\\n",
       "0        27     4423 -122.419331  37.762264  141546  2013      6   28    17   \n",
       "1        17     4354 -122.411340  37.781271  794152  2004      2   19     2   \n",
       "2        13     3493 -122.403405  37.775421  531205  2007     11   14     0   \n",
       "3        24     4773 -122.404715  37.730161  523137  2007     12   27    18   \n",
       "4        21     1760 -122.405239  37.785265  200968  2012      9    9    17   \n",
       "\n",
       "   Minute   ...    StreetNo  Intersection  Morning  Noon  Evening  Night  \\\n",
       "0      40   ...        2100             0        0     0        1      0   \n",
       "1      46   ...        1000             0        0     0        0      1   \n",
       "2       1   ...         800             0        0     0        0      1   \n",
       "3      30   ...        2400             0        0     0        1      0   \n",
       "4       2   ...           0             1        0     0        1      0   \n",
       "\n",
       "   Fall  Winter  Spring  Summer  \n",
       "0     0       1       0       0  \n",
       "1     0       0       0       1  \n",
       "2     0       0       1       0  \n",
       "3     0       0       0       1  \n",
       "4     0       0       1       0  \n",
       "\n",
       "[5 rows x 37 columns]"
      ]
     },
     "execution_count": 164,
     "metadata": {},
     "output_type": "execute_result"
    }
   ],
   "source": [
    "train.head()"
   ]
  },
  {
   "cell_type": "code",
   "execution_count": 165,
   "metadata": {
    "_uuid": "67b74782b9c9bbe3a546d41b1f851f534616fda9"
   },
   "outputs": [],
   "source": [
    "train.columns\n",
    "features=['Address', 'X', 'Y', 'Year', 'Month', 'Day', 'Hour',\n",
    "       'Minute', 'BAYVIEW', 'CENTRAL', 'INGLESIDE', 'MISSION', 'NORTHERN',\n",
    "       'PARK', 'RICHMOND', 'SOUTHERN', 'TARAVAL', 'TENDERLOIN', 'Friday',\n",
    "       'Monday', 'Saturday', 'Sunday', 'Thursday', 'Tuesday', 'Wednesday',\n",
    "       'StreetNo', 'Intersection', 'Morning', 'Noon', 'Evening', 'Night',\n",
    "       'Fall', 'Winter', 'Spring', 'Summer']\n"
   ]
  },
  {
   "cell_type": "code",
   "execution_count": 166,
   "metadata": {},
   "outputs": [
    {
     "data": {
      "text/plain": [
       "0         27\n",
       "1         17\n",
       "2         13\n",
       "3         24\n",
       "4         21\n",
       "5         34\n",
       "6          4\n",
       "7         30\n",
       "8         21\n",
       "9          7\n",
       "10        16\n",
       "11        21\n",
       "12        32\n",
       "13         1\n",
       "14         7\n",
       "15        16\n",
       "16         7\n",
       "17        33\n",
       "18        19\n",
       "19        21\n",
       "20        20\n",
       "21         1\n",
       "22         8\n",
       "23        20\n",
       "24        21\n",
       "25        34\n",
       "26        16\n",
       "27        24\n",
       "28        33\n",
       "29        16\n",
       "          ..\n",
       "867843    16\n",
       "867844    21\n",
       "867845     7\n",
       "867846    19\n",
       "867847    16\n",
       "867848     7\n",
       "867849    33\n",
       "867850    13\n",
       "867851     7\n",
       "867852    16\n",
       "867853    20\n",
       "867854    20\n",
       "867855    16\n",
       "867856    30\n",
       "867857    21\n",
       "867858    15\n",
       "867859    32\n",
       "867860    16\n",
       "867861    21\n",
       "867862    16\n",
       "867863    16\n",
       "867864    21\n",
       "867865    20\n",
       "867866    16\n",
       "867867     7\n",
       "867868    16\n",
       "867869    26\n",
       "867870    16\n",
       "867871    21\n",
       "867872    16\n",
       "Name: Category, Length: 867873, dtype: int32"
      ]
     },
     "execution_count": 166,
     "metadata": {},
     "output_type": "execute_result"
    }
   ],
   "source": [
    "train['Category']"
   ]
  },
  {
   "cell_type": "code",
   "execution_count": 167,
   "metadata": {},
   "outputs": [],
   "source": [
    "Y_train = train['Category']"
   ]
  },
  {
   "cell_type": "code",
   "execution_count": 168,
   "metadata": {},
   "outputs": [],
   "source": [
    "X_train = train[features]"
   ]
  },
  {
   "cell_type": "code",
   "execution_count": 169,
   "metadata": {},
   "outputs": [],
   "source": [
    "import seaborn as sns"
   ]
  },
  {
   "cell_type": "code",
   "execution_count": 175,
   "metadata": {},
   "outputs": [
    {
     "data": {
      "text/plain": [
       "<matplotlib.axes._subplots.AxesSubplot at 0x199058e0cc0>"
      ]
     },
     "execution_count": 175,
     "metadata": {},
     "output_type": "execute_result"
    },
    {
     "data": {
      "image/png": "[encoded data removed]",
      "text/plain": [
       "<Figure size 432x288 with 1 Axes>"
      ]
     },
     "metadata": {},
     "output_type": "display_data"
    }
   ],
   "source": [
    "sns.countplot(Y_train)"
   ]
  },
  {
   "cell_type": "code",
   "execution_count": 171,
   "metadata": {},
   "outputs": [],
   "source": [
    "from imblearn.under_sampling import EditedNearestNeighbours\n",
    "from imblearn.over_sampling import SMOTE"
   ]
  },
  {
   "cell_type": "code",
   "execution_count": 173,
   "metadata": {},
   "outputs": [],
   "source": [
    "sm = SMOTE(sampling_strategy='minority',random_state=0)\n",
    "ed = EditedNearestNeighbours(sampling_strategy='majority',random_state=0)"
   ]
  },
  {
   "cell_type": "code",
   "execution_count": 174,
   "metadata": {},
   "outputs": [],
   "source": [
    "for i in range(0,10):\n",
    "    X_train, Y_train = sm.fit_sample(X_train,Y_train.ravel())"
   ]
  },
  {
   "cell_type": "code",
   "execution_count": null,
   "metadata": {},
   "outputs": [],
   "source": []
  },
  {
   "cell_type": "code",
   "execution_count": null,
   "metadata": {
    "_uuid": "70e84d0370c2f1b8216f7d966c80ed6bd0b4621a",
    "scrolled": true
   },
   "outputs": [
    {
     "name": "stdout",
     "output_type": "stream",
     "text": [
      "0:\tlearn: -3.5562489\ttotal: 18.3s\tremaining: 5h 4m\n",
      "1:\tlearn: -3.5302678\ttotal: 50.8s\tremaining: 7h 2m 50s\n"
     ]
    }
   ],
   "source": [
    "model_catBoost = model.fit(X_train,Y_train)"
   ]
  },
  {
   "cell_type": "code",
   "execution_count": 135,
   "metadata": {
    "_uuid": "67ffb65e80ae7927e51958d78a25071ea680378c"
   },
   "outputs": [],
   "source": [
    "ypredict=model_catBoost.predict_proba(train[features])"
   ]
  },
  {
   "cell_type": "code",
   "execution_count": null,
   "metadata": {
    "_uuid": "a69b57891c6b1f8611cfebe147ea3aae063d1c04"
   },
   "outputs": [],
   "source": [
    "ypredict.shape"
   ]
  },
  {
   "cell_type": "code",
   "execution_count": 136,
   "metadata": {
    "_uuid": "e75950bf18168cfac6295256b5b855db3160187f"
   },
   "outputs": [
    {
     "name": "stdout",
     "output_type": "stream",
     "text": [
      "2.9592542790193805\n"
     ]
    }
   ],
   "source": [
    "print(log_loss(train['Category'],ypredict))"
   ]
  },
  {
   "cell_type": "code",
   "execution_count": null,
   "metadata": {
    "_uuid": "f7dae684d70860cda58121304624ef17da50b3aa"
   },
   "outputs": [],
   "source": [
    "test=pd.read_csv(\"../input/test.csv\",parse_dates=[\"Dates\"],index_col=False)"
   ]
  },
  {
   "cell_type": "code",
   "execution_count": null,
   "metadata": {
    "_uuid": "70bde7460e18018b72869049f1daaf038b01e63d"
   },
   "outputs": [],
   "source": [
    "test.head()"
   ]
  },
  {
   "cell_type": "code",
   "execution_count": null,
   "metadata": {
    "_uuid": "a866b94c601caee086ec8909bafe12ec102d2b9b"
   },
   "outputs": [],
   "source": [
    "test = test.drop([\"Descript\",\"Resolution\"],axis=1)"
   ]
  },
  {
   "cell_type": "code",
   "execution_count": null,
   "metadata": {
    "_uuid": "d78d356b551b4aa5c539302634b5b690ed7d2dd2"
   },
   "outputs": [],
   "source": [
    "def datesplit(data):\n",
    "    data[\"Year\"] = data[\"Dates\"].dt.year\n",
    "    data[\"Month\"] = data[\"Dates\"].dt.month\n",
    "    data[\"Day\"] = data[\"Dates\"].dt.day\n",
    "    data[\"Hour\"] = data[\"Dates\"].dt.hour\n",
    "    data[\"Minute\"] = data[\"Dates\"].dt.minute\n",
    "    return data"
   ]
  },
  {
   "cell_type": "code",
   "execution_count": null,
   "metadata": {
    "_uuid": "bb291493e1abb2f873e8128bf8237386cc776666"
   },
   "outputs": [],
   "source": [
    "test= datesplit(test)"
   ]
  },
  {
   "cell_type": "code",
   "execution_count": null,
   "metadata": {
    "_uuid": "362e11e49da894fc1adf7e6ff0dc65a89e75f65a"
   },
   "outputs": [],
   "source": [
    "test = pd.concat([test,pd.get_dummies(test.PdDistrict)], axis=1)\n",
    "test = pd.concat([test,pd.get_dummies(test.DayOfWeek)], axis=1)"
   ]
  },
  {
   "cell_type": "code",
   "execution_count": null,
   "metadata": {
    "_uuid": "b6a03710f80b59101ebee6e242bb8846a39cae70"
   },
   "outputs": [],
   "source": [
    "add_encoder = LabelEncoder()"
   ]
  },
  {
   "cell_type": "code",
   "execution_count": null,
   "metadata": {
    "_uuid": "5429d6aaab10796c793d624c2698980d0d1f06c8"
   },
   "outputs": [],
   "source": [
    "test['StreetNo'] = test['Address'].apply(lambda x: x.split(' ', 1)[0] if x.split(' ', 1)[0].isdigit() else 0)\n",
    "test[\"Intersection\"]= test[\"Address\"].apply(lambda x: 1 if \"/\" in x else 0)\n",
    "test['Address'] = test['Address'].apply(lambda x: x.split(' ', 1)[1] if x.split(' ', 1)[0].isdigit() else x)\n",
    "add_encoder.fit(test[\"Address\"])\n",
    "test[\"Address\"]= add_encoder.transform(test[\"Address\"])"
   ]
  },
  {
   "cell_type": "code",
   "execution_count": null,
   "metadata": {
    "_uuid": "80ddd5838ce09a29a819684dbe1d21730e724b61"
   },
   "outputs": [],
   "source": [
    "test[\"Morning\"] = test[\"Hour\"].apply(lambda x: 1 if x>= 6 and x < 12 else 0)\n",
    "test[\"Noon\"] = test[\"Hour\"].apply(lambda x: 1 if x>= 12 and x < 17 else 0)\n",
    "test[\"Evening\"] = test[\"Hour\"].apply(lambda x: 1 if x>= 17 and x < 20 else 0)\n",
    "test[\"Night\"] = test[\"Hour\"].apply(lambda x: 1 if x >= 20 or x < 6 else 0)\n",
    "test[\"Fall\"] = test[\"Month\"].apply(lambda x: 1 if x>=3 and x <=5 else 0)\n",
    "test[\"Winter\"] = test[\"Month\"].apply(lambda x: 1 if x>=6 and x <=8 else 0)\n",
    "test[\"Spring\"] = test[\"Month\"].apply(lambda x: 1 if x>=9 and x <=11 else 0)\n",
    "test[\"Summer\"] = test[\"Month\"].apply(lambda x: 1 if x>=12 or x <=2 else 0)"
   ]
  },
  {
   "cell_type": "code",
   "execution_count": null,
   "metadata": {
    "_uuid": "13f0b6f335bf3e4694f5c11b2904268786c89a1f"
   },
   "outputs": [],
   "source": [
    "test.shape"
   ]
  },
  {
   "cell_type": "code",
   "execution_count": null,
   "metadata": {
    "_uuid": "ac0e0f24902c4c09778430838b3fad10112e76be"
   },
   "outputs": [],
   "source": [
    "test.head()"
   ]
  },
  {
   "cell_type": "code",
   "execution_count": null,
   "metadata": {
    "_uuid": "b1a472e68732401198f28d32650cfd58d3eed3a7"
   },
   "outputs": [],
   "source": [
    "test = test.drop([\"DayOfWeek\"], axis=1)"
   ]
  },
  {
   "cell_type": "code",
   "execution_count": null,
   "metadata": {
    "_uuid": "046a38c845acecbd41978d4a2758dd56c883fc8a"
   },
   "outputs": [],
   "source": [
    "test = test.drop([\"PdDistrict\",\"Dates\"],axis=1)"
   ]
  },
  {
   "cell_type": "code",
   "execution_count": null,
   "metadata": {
    "_uuid": "454a7c577368dbab4c33f84ef2cce175256b7ea0"
   },
   "outputs": [],
   "source": [
    "test.shape"
   ]
  },
  {
   "cell_type": "code",
   "execution_count": null,
   "metadata": {
    "_uuid": "cbea25f6c7566a8e3e8afcfc193fa3e14741e008"
   },
   "outputs": [],
   "source": [
    "test['StreetNo'] = test['StreetNo'].astype(int)"
   ]
  },
  {
   "cell_type": "code",
   "execution_count": null,
   "metadata": {
    "_uuid": "51de93329ae874aa0072f9dbc740a2b7029ae82d"
   },
   "outputs": [],
   "source": [
    "test.info()"
   ]
  },
  {
   "cell_type": "code",
   "execution_count": null,
   "metadata": {
    "_uuid": "17f5809dd67f8a96ebfe3d5f936b06491a354808"
   },
   "outputs": [],
   "source": [
    "test.shape"
   ]
  },
  {
   "cell_type": "code",
   "execution_count": null,
   "metadata": {
    "_uuid": "404f08a678148c376f85516782e3b944dd93938d"
   },
   "outputs": [],
   "source": [
    "test_features=[ 'Address', 'X', 'Y', 'Year', 'Month', 'Day', 'Hour',\n",
    "       'Minute', 'BAYVIEW', 'CENTRAL', 'INGLESIDE', 'MISSION', 'NORTHERN',\n",
    "       'PARK', 'RICHMOND', 'SOUTHERN', 'TARAVAL', 'TENDERLOIN', 'Friday',\n",
    "       'Monday', 'Saturday', 'Sunday', 'Thursday', 'Tuesday', 'Wednesday',\n",
    "       'StreetNo', 'Intersection', 'Morning', 'Noon', 'Evening', 'Night',\n",
    "       'Fall', 'Winter', 'Spring', 'Summer']\n"
   ]
  },
  {
   "cell_type": "code",
   "execution_count": null,
   "metadata": {
    "_uuid": "b93bdabd40c0c22e05144cf6086c4a1830944034"
   },
   "outputs": [],
   "source": [
    "ypredict=model_catBoost.predict_proba(test[test_features])"
   ]
  },
  {
   "cell_type": "code",
   "execution_count": null,
   "metadata": {
    "_uuid": "485362483b6ceae4214eb1053c40355cd100dc4e"
   },
   "outputs": [],
   "source": [
    "ypredict.shape"
   ]
  },
  {
   "cell_type": "code",
   "execution_count": null,
   "metadata": {
    "_uuid": "d26bb6ad8461537bb575caa50209aa739b8bbfec"
   },
   "outputs": [],
   "source": [
    "result=pd.DataFrame(ypredict,columns=cat_encoder.classes_)\n",
    "result['Id']=test['Id']"
   ]
  },
  {
   "cell_type": "code",
   "execution_count": null,
   "metadata": {
    "_uuid": "05b2f9cc22b1ee9d2b798e8e53e94cb7dec873c2"
   },
   "outputs": [],
   "source": [
    "result.to_csv('predictionCatBoostOct',index=False,index_label='Id')"
   ]
  },
  {
   "cell_type": "code",
   "execution_count": null,
   "metadata": {
    "_uuid": "a06e0f467f699d5e368c2912c77e7e667349db41"
   },
   "outputs": [],
   "source": []
  }
 ],
 "metadata": {
  "kernelspec": {
   "display_name": "Python 3",
   "language": "python",
   "name": "python3"
  },
  "language_info": {
   "codemirror_mode": {
    "name": "ipython",
    "version": 3
   },
   "file_extension": ".py",
   "mimetype": "text/x-python",
   "name": "python",
   "nbconvert_exporter": "python",
   "pygments_lexer": "ipython3",
   "version": "3.6.5"
  }
 },
 "nbformat": 4,
 "nbformat_minor": 1
}
