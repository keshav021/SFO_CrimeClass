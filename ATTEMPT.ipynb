{
 "cells": [
  {
   "cell_type": "code",
   "execution_count": 2,
   "metadata": {},
   "outputs": [
    {
     "name": "stdout",
     "output_type": "stream",
     "text": [
      "['Dates', 'Category', 'DayOfWeek', 'PdDistrict', 'Address', 'X', 'Y', 'Id', 'Year', 'Month', 'Day', 'Hour', 'Minute', 'CategoryEncoded', 'BAYVIEW', 'CENTRAL', 'INGLESIDE', 'MISSION', 'NORTHERN', 'PARK', 'RICHMOND', 'SOUTHERN', 'TARAVAL', 'TENDERLOIN', 'Friday', 'Monday', 'Saturday', 'Sunday', 'Thursday', 'Tuesday', 'Wednesday', 'StreetNo', 'Intersection', 'Morning', 'Noon', 'Evening', 'Night', 'Fall', 'Winter', 'Spring', 'Summer']\n",
      "<class 'pandas.core.frame.DataFrame'>\n",
      "RangeIndex: 867873 entries, 0 to 867872\n",
      "Data columns (total 37 columns):\n",
      "Category        867873 non-null int32\n",
      "Address         867873 non-null int32\n",
      "X               867873 non-null float64\n",
      "Y               867873 non-null float64\n",
      "Id              867873 non-null int64\n",
      "Year            867873 non-null int64\n",
      "Month           867873 non-null int64\n",
      "Day             867873 non-null int64\n",
      "Hour            867873 non-null int64\n",
      "Minute          867873 non-null int64\n",
      "BAYVIEW         867873 non-null uint8\n",
      "CENTRAL         867873 non-null uint8\n",
      "INGLESIDE       867873 non-null uint8\n",
      "MISSION         867873 non-null uint8\n",
      "NORTHERN        867873 non-null uint8\n",
      "PARK            867873 non-null uint8\n",
      "RICHMOND        867873 non-null uint8\n",
      "SOUTHERN        867873 non-null uint8\n",
      "TARAVAL         867873 non-null uint8\n",
      "TENDERLOIN      867873 non-null uint8\n",
      "Friday          867873 non-null uint8\n",
      "Monday          867873 non-null uint8\n",
      "Saturday        867873 non-null uint8\n",
      "Sunday          867873 non-null uint8\n",
      "Thursday        867873 non-null uint8\n",
      "Tuesday         867873 non-null uint8\n",
      "Wednesday       867873 non-null uint8\n",
      "StreetNo        867873 non-null int32\n",
      "Intersection    867873 non-null int64\n",
      "Morning         867873 non-null int64\n",
      "Noon            867873 non-null int64\n",
      "Evening         867873 non-null int64\n",
      "Night           867873 non-null int64\n",
      "Fall            867873 non-null int64\n",
      "Winter          867873 non-null int64\n",
      "Spring          867873 non-null int64\n",
      "Summer          867873 non-null int64\n",
      "dtypes: float64(2), int32(3), int64(15), uint8(17)\n",
      "memory usage: 136.6 MB\n"
     ]
    },
    {
     "name": "stderr",
     "output_type": "stream",
     "text": [
      "C:\\Users\\Dipta\\Anaconda3\\lib\\site-packages\\sklearn\\model_selection\\_split.py:2069: FutureWarning: From version 0.21, test_size will always complement train_size unless both are specified.\n",
      "  FutureWarning)\n"
     ]
    },
    {
     "name": "stdout",
     "output_type": "stream",
     "text": [
      "<class 'pandas.core.frame.DataFrame'>\n",
      "RangeIndex: 10000 entries, 0 to 9999\n",
      "Data columns (total 36 columns):\n",
      "Address         10000 non-null int32\n",
      "X               10000 non-null float64\n",
      "Y               10000 non-null float64\n",
      "Id              10000 non-null int64\n",
      "Year            10000 non-null int64\n",
      "Month           10000 non-null int64\n",
      "Day             10000 non-null int64\n",
      "Hour            10000 non-null int64\n",
      "Minute          10000 non-null int64\n",
      "BAYVIEW         10000 non-null uint8\n",
      "CENTRAL         10000 non-null uint8\n",
      "INGLESIDE       10000 non-null uint8\n",
      "MISSION         10000 non-null uint8\n",
      "NORTHERN        10000 non-null uint8\n",
      "PARK            10000 non-null uint8\n",
      "RICHMOND        10000 non-null uint8\n",
      "SOUTHERN        10000 non-null uint8\n",
      "TARAVAL         10000 non-null uint8\n",
      "TENDERLOIN      10000 non-null uint8\n",
      "Friday          10000 non-null uint8\n",
      "Monday          10000 non-null uint8\n",
      "Saturday        10000 non-null uint8\n",
      "Sunday          10000 non-null uint8\n",
      "Thursday        10000 non-null uint8\n",
      "Tuesday         10000 non-null uint8\n",
      "Wednesday       10000 non-null uint8\n",
      "StreetNo        10000 non-null int32\n",
      "Intersection    10000 non-null int64\n",
      "Morning         10000 non-null int64\n",
      "Noon            10000 non-null int64\n",
      "Evening         10000 non-null int64\n",
      "Night           10000 non-null int64\n",
      "Fall            10000 non-null int64\n",
      "Winter          10000 non-null int64\n",
      "Spring          10000 non-null int64\n",
      "Summer          10000 non-null int64\n",
      "dtypes: float64(2), int32(2), int64(15), uint8(17)\n",
      "memory usage: 1.5 MB\n"
     ]
    }
   ],
   "source": [
    "import numpy as np\n",
    "import pandas as pd\n",
    "from sklearn.preprocessing import LabelEncoder, label_binarize, StandardScaler\n",
    "from sklearn.model_selection import train_test_split\n",
    "from sklearn.metrics import log_loss\n",
    "\n",
    "train= pd.read_csv(\"train.csv\",parse_dates=[\"Dates\"],index_col=False)\n",
    "\n",
    "train.head()\n",
    "\n",
    "train = train.drop([\"Descript\",\"Resolution\"],axis=1)\n",
    "\n",
    "def datesplit(data):\n",
    "    data[\"Year\"] = data[\"Dates\"].dt.year\n",
    "    data[\"Month\"] = data[\"Dates\"].dt.month\n",
    "    data[\"Day\"] = data[\"Dates\"].dt.day\n",
    "    data[\"Hour\"] = data[\"Dates\"].dt.hour\n",
    "    data[\"Minute\"] = data[\"Dates\"].dt.minute\n",
    "    return data\n",
    "\n",
    "train= datesplit(train)\n",
    "\n",
    "train.head()\n",
    "\n",
    "#train = pd.concat([train,pd.get_dummies(train.Category)], axis=1)\n",
    "\n",
    "cat_encoder=LabelEncoder()\n",
    "cat_encoder.fit(train[\"Category\"])\n",
    "cat_encoder.classes_.shape\n",
    "\n",
    "train[\"CategoryEncoded\"] = cat_encoder.transform(train[\"Category\"])\n",
    "\n",
    "train[\"CategoryEncoded\"].head()\n",
    "\n",
    "train[\"Category\"] = train[\"CategoryEncoded\"]\n",
    "\n",
    "train = pd.concat([train,pd.get_dummies(train.PdDistrict)], axis=1)\n",
    "train = pd.concat([train,pd.get_dummies(train.DayOfWeek)], axis=1)\n",
    "\n",
    "add_encoder = LabelEncoder()\n",
    "\n",
    "train['StreetNo'] = train['Address'].apply(lambda x: x.split(' ', 1)[0] if x.split(' ', 1)[0].isdigit() else 0)\n",
    "train[\"Intersection\"]= train[\"Address\"].apply(lambda x: 1 if \"/\" in x else 0)\n",
    "train['Address'] = train['Address'].apply(lambda x: x.split(' ', 1)[1] if x.split(' ', 1)[0].isdigit() else x)\n",
    "add_encoder.fit(train[\"Address\"])\n",
    "train[\"Address\"]= add_encoder.transform(train[\"Address\"])\n",
    "\n",
    "train[\"Morning\"] = train[\"Hour\"].apply(lambda x: 1 if x>= 6 and x < 12 else 0)\n",
    "train[\"Noon\"] = train[\"Hour\"].apply(lambda x: 1 if x>= 12 and x < 17 else 0)\n",
    "train[\"Evening\"] = train[\"Hour\"].apply(lambda x: 1 if x>= 17 and x < 20 else 0)\n",
    "train[\"Night\"] = train[\"Hour\"].apply(lambda x: 1 if x >= 20 or x < 6 else 0)\n",
    "train[\"Fall\"] = train[\"Month\"].apply(lambda x: 1 if x>=3 and x <=5 else 0)\n",
    "train[\"Winter\"] = train[\"Month\"].apply(lambda x: 1 if x>=6 and x <=8 else 0)\n",
    "train[\"Spring\"] = train[\"Month\"].apply(lambda x: 1 if x>=9 and x <=11 else 0)\n",
    "train[\"Summer\"] = train[\"Month\"].apply(lambda x: 1 if x>=12 or x <=2 else 0)\n",
    "\n",
    "train.shape\n",
    "\n",
    "train_columns = list(train.columns.values)\n",
    "print(train_columns)\n",
    "\n",
    "train = train.drop([\"CategoryEncoded\",\"DayOfWeek\"], axis=1)\n",
    "\n",
    "train = train.drop([\"PdDistrict\"],axis=1)\n",
    "\n",
    "train = train.drop([\"Dates\"],axis=1)\n",
    "\n",
    "train['StreetNo'] = train['StreetNo'].astype(int)\n",
    "\n",
    "train.info()\n",
    "\n",
    "training,validation = train_test_split(train, train_size=0.80,random_state=51)\n",
    "\n",
    "#train = train.drop([\"Category\"],axis=1)\n",
    "\n",
    "train.head()\n",
    "\n",
    "train.columns\n",
    "features=[ 'Address', 'X', 'Y', 'Year', 'Month', 'Day', 'Hour',\n",
    "       'Minute', 'BAYVIEW', 'CENTRAL', 'INGLESIDE', 'MISSION', 'NORTHERN',\n",
    "       'PARK', 'RICHMOND', 'SOUTHERN', 'TARAVAL', 'TENDERLOIN', 'Friday',\n",
    "       'Monday', 'Saturday', 'Sunday', 'Thursday', 'Tuesday', 'Wednesday',\n",
    "       'StreetNo', 'Intersection', 'Morning', 'Noon', 'Evening', 'Night',\n",
    "       'Fall', 'Winter', 'Spring', 'Summer']\n",
    "\n",
    "\n",
    "test=pd.read_csv(\"test.csv\",parse_dates=[\"Dates\"],index_col=False)\n",
    "\n",
    "test.head()\n",
    "\n",
    "test = test.drop([\"Descript\",\"Resolution\"],axis=1)\n",
    "\n",
    "def datesplit(data):\n",
    "    data[\"Year\"] = data[\"Dates\"].dt.year\n",
    "    data[\"Month\"] = data[\"Dates\"].dt.month\n",
    "    data[\"Day\"] = data[\"Dates\"].dt.day\n",
    "    data[\"Hour\"] = data[\"Dates\"].dt.hour\n",
    "    data[\"Minute\"] = data[\"Dates\"].dt.minute\n",
    "    return data\n",
    "\n",
    "test= datesplit(test)\n",
    "\n",
    "test = pd.concat([test,pd.get_dummies(test.PdDistrict)], axis=1)\n",
    "test = pd.concat([test,pd.get_dummies(test.DayOfWeek)], axis=1)\n",
    "\n",
    "add_encoder = LabelEncoder()\n",
    "\n",
    "test['StreetNo'] = test['Address'].apply(lambda x: x.split(' ', 1)[0] if x.split(' ', 1)[0].isdigit() else 0)\n",
    "test[\"Intersection\"]= test[\"Address\"].apply(lambda x: 1 if \"/\" in x else 0)\n",
    "test['Address'] = test['Address'].apply(lambda x: x.split(' ', 1)[1] if x.split(' ', 1)[0].isdigit() else x)\n",
    "add_encoder.fit(test[\"Address\"])\n",
    "test[\"Address\"]= add_encoder.transform(test[\"Address\"])\n",
    "\n",
    "test[\"Morning\"] = test[\"Hour\"].apply(lambda x: 1 if x>= 6 and x < 12 else 0)\n",
    "test[\"Noon\"] = test[\"Hour\"].apply(lambda x: 1 if x>= 12 and x < 17 else 0)\n",
    "test[\"Evening\"] = test[\"Hour\"].apply(lambda x: 1 if x>= 17 and x < 20 else 0)\n",
    "test[\"Night\"] = test[\"Hour\"].apply(lambda x: 1 if x >= 20 or x < 6 else 0)\n",
    "test[\"Fall\"] = test[\"Month\"].apply(lambda x: 1 if x>=3 and x <=5 else 0)\n",
    "test[\"Winter\"] = test[\"Month\"].apply(lambda x: 1 if x>=6 and x <=8 else 0)\n",
    "test[\"Spring\"] = test[\"Month\"].apply(lambda x: 1 if x>=9 and x <=11 else 0)\n",
    "test[\"Summer\"] = test[\"Month\"].apply(lambda x: 1 if x>=12 or x <=2 else 0)\n",
    "\n",
    "test.shape\n",
    "\n",
    "test.head()\n",
    "\n",
    "test = test.drop([\"DayOfWeek\"], axis=1)\n",
    "\n",
    "test = test.drop([\"PdDistrict\",\"Dates\"],axis=1)\n",
    "\n",
    "test.shape\n",
    "\n",
    "test['StreetNo'] = test['StreetNo'].astype(int)\n",
    "\n",
    "test.info()\n",
    "\n",
    "test.shape\n",
    "\n",
    "test_features=[ 'Address', 'X', 'Y', 'Year', 'Month', 'Day', 'Hour',\n",
    "       'Minute', 'BAYVIEW', 'CENTRAL', 'INGLESIDE', 'MISSION', 'NORTHERN',\n",
    "       'PARK', 'RICHMOND', 'SOUTHERN', 'TARAVAL', 'TENDERLOIN', 'Friday',\n",
    "       'Monday', 'Saturday', 'Sunday', 'Thursday', 'Tuesday', 'Wednesday',\n",
    "       'StreetNo', 'Intersection', 'Morning', 'Noon', 'Evening', 'Night',\n",
    "       'Fall', 'Winter', 'Spring', 'Summer']\n",
    "\n",
    "\n",
    "\n",
    "train.columns\n",
    "\n",
    "features = [ 'Address', 'X', 'Y', 'Year', 'Month', 'Day', 'Hour',\n",
    "       'Minute', 'BAYVIEW', 'CENTRAL', 'INGLESIDE', 'MISSION', 'NORTHERN',\n",
    "       'PARK', 'RICHMOND', 'SOUTHERN', 'TARAVAL', 'TENDERLOIN', 'Friday',\n",
    "       'Monday', 'Saturday', 'Sunday', 'Thursday', 'Tuesday', 'Wednesday',\n",
    "       'StreetNo', 'Intersection', 'Morning', 'Noon', 'Evening', 'Night',\n",
    "       'Fall', 'Winter', 'Spring', 'Summer']\n",
    "\n",
    "test_features = [ 'Address', 'X', 'Y', 'Year', 'Month', 'Day', 'Hour',\n",
    "       'Minute', 'BAYVIEW', 'CENTRAL', 'INGLESIDE', 'MISSION', 'NORTHERN',\n",
    "       'PARK', 'RICHMOND', 'SOUTHERN', 'TARAVAL', 'TENDERLOIN', 'Friday',\n",
    "       'Monday', 'Saturday', 'Sunday', 'Thursday', 'Tuesday', 'Wednesday',\n",
    "       'StreetNo', 'Intersection', 'Morning', 'Noon', 'Evening', 'Night',\n",
    "       'Fall', 'Winter', 'Spring', 'Summer']\n",
    "\n",
    "training,validation = train_test_split(train, train_size=0.80,random_state=51)"
   ]
  },
  {
   "cell_type": "code",
   "execution_count": 3,
   "metadata": {},
   "outputs": [],
   "source": [
    "from sklearn.feature_selection import SelectPercentile"
   ]
  },
  {
   "cell_type": "code",
   "execution_count": 5,
   "metadata": {},
   "outputs": [
    {
     "data": {
      "text/html": [
       "<div>\n",
       "<style scoped>\n",
       "    .dataframe tbody tr th:only-of-type {\n",
       "        vertical-align: middle;\n",
       "    }\n",
       "\n",
       "    .dataframe tbody tr th {\n",
       "        vertical-align: top;\n",
       "    }\n",
       "\n",
       "    .dataframe thead th {\n",
       "        text-align: right;\n",
       "    }\n",
       "</style>\n",
       "<table border=\"1\" class=\"dataframe\">\n",
       "  <thead>\n",
       "    <tr style=\"text-align: right;\">\n",
       "      <th></th>\n",
       "      <th>Category</th>\n",
       "      <th>Address</th>\n",
       "      <th>X</th>\n",
       "      <th>Y</th>\n",
       "      <th>Id</th>\n",
       "      <th>Year</th>\n",
       "      <th>Month</th>\n",
       "      <th>Day</th>\n",
       "      <th>Hour</th>\n",
       "      <th>Minute</th>\n",
       "      <th>...</th>\n",
       "      <th>StreetNo</th>\n",
       "      <th>Intersection</th>\n",
       "      <th>Morning</th>\n",
       "      <th>Noon</th>\n",
       "      <th>Evening</th>\n",
       "      <th>Night</th>\n",
       "      <th>Fall</th>\n",
       "      <th>Winter</th>\n",
       "      <th>Spring</th>\n",
       "      <th>Summer</th>\n",
       "    </tr>\n",
       "  </thead>\n",
       "  <tbody>\n",
       "    <tr>\n",
       "      <th>0</th>\n",
       "      <td>27</td>\n",
       "      <td>4423</td>\n",
       "      <td>-122.419331</td>\n",
       "      <td>37.762264</td>\n",
       "      <td>141546</td>\n",
       "      <td>2013</td>\n",
       "      <td>6</td>\n",
       "      <td>28</td>\n",
       "      <td>17</td>\n",
       "      <td>40</td>\n",
       "      <td>...</td>\n",
       "      <td>2100</td>\n",
       "      <td>0</td>\n",
       "      <td>0</td>\n",
       "      <td>0</td>\n",
       "      <td>1</td>\n",
       "      <td>0</td>\n",
       "      <td>0</td>\n",
       "      <td>1</td>\n",
       "      <td>0</td>\n",
       "      <td>0</td>\n",
       "    </tr>\n",
       "    <tr>\n",
       "      <th>1</th>\n",
       "      <td>17</td>\n",
       "      <td>4354</td>\n",
       "      <td>-122.411340</td>\n",
       "      <td>37.781271</td>\n",
       "      <td>794152</td>\n",
       "      <td>2004</td>\n",
       "      <td>2</td>\n",
       "      <td>19</td>\n",
       "      <td>2</td>\n",
       "      <td>46</td>\n",
       "      <td>...</td>\n",
       "      <td>1000</td>\n",
       "      <td>0</td>\n",
       "      <td>0</td>\n",
       "      <td>0</td>\n",
       "      <td>0</td>\n",
       "      <td>1</td>\n",
       "      <td>0</td>\n",
       "      <td>0</td>\n",
       "      <td>0</td>\n",
       "      <td>1</td>\n",
       "    </tr>\n",
       "    <tr>\n",
       "      <th>2</th>\n",
       "      <td>13</td>\n",
       "      <td>3493</td>\n",
       "      <td>-122.403405</td>\n",
       "      <td>37.775421</td>\n",
       "      <td>531205</td>\n",
       "      <td>2007</td>\n",
       "      <td>11</td>\n",
       "      <td>14</td>\n",
       "      <td>0</td>\n",
       "      <td>1</td>\n",
       "      <td>...</td>\n",
       "      <td>800</td>\n",
       "      <td>0</td>\n",
       "      <td>0</td>\n",
       "      <td>0</td>\n",
       "      <td>0</td>\n",
       "      <td>1</td>\n",
       "      <td>0</td>\n",
       "      <td>0</td>\n",
       "      <td>1</td>\n",
       "      <td>0</td>\n",
       "    </tr>\n",
       "    <tr>\n",
       "      <th>3</th>\n",
       "      <td>24</td>\n",
       "      <td>4773</td>\n",
       "      <td>-122.404715</td>\n",
       "      <td>37.730161</td>\n",
       "      <td>523137</td>\n",
       "      <td>2007</td>\n",
       "      <td>12</td>\n",
       "      <td>27</td>\n",
       "      <td>18</td>\n",
       "      <td>30</td>\n",
       "      <td>...</td>\n",
       "      <td>2400</td>\n",
       "      <td>0</td>\n",
       "      <td>0</td>\n",
       "      <td>0</td>\n",
       "      <td>1</td>\n",
       "      <td>0</td>\n",
       "      <td>0</td>\n",
       "      <td>0</td>\n",
       "      <td>0</td>\n",
       "      <td>1</td>\n",
       "    </tr>\n",
       "    <tr>\n",
       "      <th>4</th>\n",
       "      <td>21</td>\n",
       "      <td>1760</td>\n",
       "      <td>-122.405239</td>\n",
       "      <td>37.785265</td>\n",
       "      <td>200968</td>\n",
       "      <td>2012</td>\n",
       "      <td>9</td>\n",
       "      <td>9</td>\n",
       "      <td>17</td>\n",
       "      <td>2</td>\n",
       "      <td>...</td>\n",
       "      <td>0</td>\n",
       "      <td>1</td>\n",
       "      <td>0</td>\n",
       "      <td>0</td>\n",
       "      <td>1</td>\n",
       "      <td>0</td>\n",
       "      <td>0</td>\n",
       "      <td>0</td>\n",
       "      <td>1</td>\n",
       "      <td>0</td>\n",
       "    </tr>\n",
       "  </tbody>\n",
       "</table>\n",
       "<p>5 rows × 37 columns</p>\n",
       "</div>"
      ],
      "text/plain": [
       "   Category  Address           X          Y      Id  Year  Month  Day  Hour  \\\n",
       "0        27     4423 -122.419331  37.762264  141546  2013      6   28    17   \n",
       "1        17     4354 -122.411340  37.781271  794152  2004      2   19     2   \n",
       "2        13     3493 -122.403405  37.775421  531205  2007     11   14     0   \n",
       "3        24     4773 -122.404715  37.730161  523137  2007     12   27    18   \n",
       "4        21     1760 -122.405239  37.785265  200968  2012      9    9    17   \n",
       "\n",
       "   Minute   ...    StreetNo  Intersection  Morning  Noon  Evening  Night  \\\n",
       "0      40   ...        2100             0        0     0        1      0   \n",
       "1      46   ...        1000             0        0     0        0      1   \n",
       "2       1   ...         800             0        0     0        0      1   \n",
       "3      30   ...        2400             0        0     0        1      0   \n",
       "4       2   ...           0             1        0     0        1      0   \n",
       "\n",
       "   Fall  Winter  Spring  Summer  \n",
       "0     0       1       0       0  \n",
       "1     0       0       0       1  \n",
       "2     0       0       1       0  \n",
       "3     0       0       0       1  \n",
       "4     0       0       1       0  \n",
       "\n",
       "[5 rows x 37 columns]"
      ]
     },
     "execution_count": 5,
     "metadata": {},
     "output_type": "execute_result"
    }
   ],
   "source": [
    "train.head()"
   ]
  },
  {
   "cell_type": "code",
   "execution_count": 5,
   "metadata": {},
   "outputs": [],
   "source": [
    "X_train = train[features]\n",
    "Y_train = train['Category']\n"
   ]
  },
  {
   "cell_type": "code",
   "execution_count": 6,
   "metadata": {},
   "outputs": [],
   "source": [
    "sp = SelectPercentile(percentile=70)"
   ]
  },
  {
   "cell_type": "code",
   "execution_count": 7,
   "metadata": {},
   "outputs": [],
   "source": [
    "X_train = sp.fit_transform(X_train, Y_train)"
   ]
  },
  {
   "cell_type": "code",
   "execution_count": 8,
   "metadata": {},
   "outputs": [
    {
     "data": {
      "text/plain": [
       "(867873, 24)"
      ]
     },
     "execution_count": 8,
     "metadata": {},
     "output_type": "execute_result"
    }
   ],
   "source": [
    "X_train.shape"
   ]
  },
  {
   "cell_type": "code",
   "execution_count": 9,
   "metadata": {},
   "outputs": [],
   "source": [
    "from sklearn.linear_model import LogisticRegression"
   ]
  },
  {
   "cell_type": "code",
   "execution_count": 10,
   "metadata": {},
   "outputs": [],
   "source": [
    "lr = LogisticRegression(class_weight='balanced',multi_class='ovr',max_iter=1000)"
   ]
  },
  {
   "cell_type": "code",
   "execution_count": 11,
   "metadata": {},
   "outputs": [],
   "source": [
    "X_train, X_test, Y_train, Y_test = train_test_split(X_train,Y_train,test_size = 0.33)"
   ]
  },
  {
   "cell_type": "code",
   "execution_count": 12,
   "metadata": {},
   "outputs": [
    {
     "name": "stderr",
     "output_type": "stream",
     "text": [
      "C:\\Users\\Dipta\\Anaconda3\\lib\\site-packages\\sklearn\\linear_model\\logistic.py:432: FutureWarning: Default solver will be changed to 'lbfgs' in 0.22. Specify a solver to silence this warning.\n",
      "  FutureWarning)\n"
     ]
    },
    {
     "data": {
      "text/plain": [
       "LogisticRegression(C=1.0, class_weight='balanced', dual=False,\n",
       "          fit_intercept=True, intercept_scaling=1, max_iter=1000,\n",
       "          multi_class='ovr', n_jobs=None, penalty='l2', random_state=None,\n",
       "          solver='warn', tol=0.0001, verbose=0, warm_start=False)"
      ]
     },
     "execution_count": 12,
     "metadata": {},
     "output_type": "execute_result"
    }
   ],
   "source": [
    "lr.fit(X_train,Y_train)"
   ]
  },
  {
   "cell_type": "code",
   "execution_count": 17,
   "metadata": {},
   "outputs": [],
   "source": [
    "Y_pred = lr.predict_proba(X_test)"
   ]
  },
  {
   "cell_type": "code",
   "execution_count": 18,
   "metadata": {},
   "outputs": [],
   "source": [
    "from sklearn.metrics import log_loss"
   ]
  },
  {
   "cell_type": "code",
   "execution_count": 19,
   "metadata": {},
   "outputs": [
    {
     "data": {
      "text/plain": [
       "3.341048138168644"
      ]
     },
     "execution_count": 19,
     "metadata": {},
     "output_type": "execute_result"
    }
   ],
   "source": [
    "log_loss(Y_test,Y_pred)"
   ]
  },
  {
   "cell_type": "code",
   "execution_count": 20,
   "metadata": {},
   "outputs": [],
   "source": [
    "from sklearn.linear_model import SGDClassifier"
   ]
  },
  {
   "cell_type": "code",
   "execution_count": 24,
   "metadata": {},
   "outputs": [],
   "source": [
    "clf = SGDClassifier(class_weight=\"balanced\",loss=\"log\",max_iter=1000,n_jobs=4,n_iter_no_change = 10)"
   ]
  },
  {
   "cell_type": "code",
   "execution_count": 25,
   "metadata": {},
   "outputs": [
    {
     "data": {
      "text/plain": [
       "SGDClassifier(alpha=0.0001, average=False, class_weight='balanced',\n",
       "       early_stopping=False, epsilon=0.1, eta0=0.0, fit_intercept=True,\n",
       "       l1_ratio=0.15, learning_rate='optimal', loss='log', max_iter=1000,\n",
       "       n_iter=None, n_iter_no_change=10, n_jobs=4, penalty='l2',\n",
       "       power_t=0.5, random_state=None, shuffle=True, tol=None,\n",
       "       validation_fraction=0.1, verbose=0, warm_start=False)"
      ]
     },
     "execution_count": 25,
     "metadata": {},
     "output_type": "execute_result"
    }
   ],
   "source": [
    "clf.fit(X_train,Y_train)"
   ]
  },
  {
   "cell_type": "code",
   "execution_count": 30,
   "metadata": {},
   "outputs": [],
   "source": [
    "Y_pred_clf = clf.predict_proba(X_train)"
   ]
  },
  {
   "cell_type": "code",
   "execution_count": 31,
   "metadata": {},
   "outputs": [
    {
     "data": {
      "text/plain": [
       "28.617148048398242"
      ]
     },
     "execution_count": 31,
     "metadata": {},
     "output_type": "execute_result"
    }
   ],
   "source": [
    "log_loss(Y_train,Y_pred_clf)"
   ]
  },
  {
   "cell_type": "code",
   "execution_count": null,
   "metadata": {},
   "outputs": [],
   "source": []
  }
 ],
 "metadata": {
  "kernelspec": {
   "display_name": "Python 3",
   "language": "python",
   "name": "python3"
  },
  "language_info": {
   "codemirror_mode": {
    "name": "ipython",
    "version": 3
   },
   "file_extension": ".py",
   "mimetype": "text/x-python",
   "name": "python",
   "nbconvert_exporter": "python",
   "pygments_lexer": "ipython3",
   "version": "3.6.5"
  }
 },
 "nbformat": 4,
 "nbformat_minor": 2
}
