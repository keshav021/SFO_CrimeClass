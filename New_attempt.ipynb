{
 "cells": [
  {
   "cell_type": "code",
   "execution_count": 224,
   "metadata": {},
   "outputs": [
    {
     "data": {
      "image/png": "[encoded data removed]",
      "text/plain": [
       "<Figure size 432x288 with 1 Axes>"
      ]
     },
     "metadata": {},
     "output_type": "display_data"
    }
   ],
   "source": [
    "import numpy as np\n",
    "import pandas as pd\n",
    "\n",
    "import matplotlib.pyplot as plt\n",
    "import seaborn as sns\n",
    "%matplotlib inline\n",
    "\n",
    "df_train = pd.read_csv(\"train.csv\")\n",
    "df_test = pd.read_csv(\"test.csv\")\n",
    "\n",
    "df_train.columns\n",
    "\n",
    "df_train.drop(columns = \"Id\",axis = 1 ,inplace = True)\n",
    "\n",
    "df_test.drop(columns = \"Id\", axis = 1 , inplace = True)\n",
    "\n",
    "df_train['Category'].unique()\n",
    "\n",
    "df_train[df_train['Category'] == 'SEX OFFENSES FORCIBLE' ]['Resolution'].unique()\n",
    "\n",
    "df_train.drop(columns = 'Descript',axis=1, inplace = True)\n",
    "df_test.drop(columns = 'Descript' , axis = 1, inplace = True)\n",
    "\n",
    "df_train.columns\n",
    "\n",
    "df_train['Dates'].head()\n",
    "\n",
    "df_train['Dates'] = pd.to_datetime(df_train['Dates'])\n",
    "df_test['Dates'] = pd.to_datetime(df_train['Dates'])\n",
    "\n",
    "df_train['Year'] = df_train['Dates'].dt.year\n",
    "df_train['Month'] = df_train['Dates'].dt.month\n",
    "df_train['HourOfDay'] = df_train['Dates'].dt.hour\n",
    "\n",
    "df_train.drop(columns = 'Dates', axis =1 , inplace = True)\n",
    "\n",
    "\n",
    "df_test['Year'] = df_test['Dates'].dt.year\n",
    "df_test['Month'] = df_test['Dates'].dt.month\n",
    "df_test['HourOfDay'] = df_test['Dates'].dt.hour\n",
    "\n",
    "df_test.drop(columns = 'Dates', axis =1 , inplace = True)\n",
    "\n",
    "sns.countplot(df_train['HourOfDay'])\n",
    "\n",
    "df_train['Month']=df_train['Month'].apply(lambda x : 'MonthLow' if x== 12 else ('MonthMed' if x in (2,6,7,8,9,11) else 'MonthHigh'))\n",
    "\n",
    "\n",
    "df_train['HourofDay']=df_train['HourOfDay'].apply(lambda x : 'Morning' if (x >= 1) & (x <=7) else ('Day' if x > 7 & x <=18 else 'Evening'))\n",
    "\n",
    "df_train.head()\n",
    "\n",
    "df_test['Month']=df_test['Month'].apply(lambda x : 'MonthLow' if x== 12 else ('MonthMed' if x in (2,6,7,8,9,11) else 'MonthHigh'))\n",
    "\n",
    "\n",
    "df_test['HourofDay']=df_test['HourOfDay'].apply(lambda x : 'Morning' if (x >= 1) & (x <=7) else ('Day' if x > 7 & x <=18 else 'Evening'))\n",
    "\n",
    "week_dict={\n",
    "    \"Monday\":1,\n",
    "    \"Tuesday\":2,\n",
    "    \"Wednesday\":3,\n",
    "    \"Thursday\":4,\n",
    "    \"Friday\":5,\n",
    "    \"Saturday\":6,\n",
    "    \"Sunday\":7\n",
    "}\n",
    "df_train['DayOfWeek']=df_train['DayOfWeek'].replace(week_dict)\n",
    "df_test['DayOfWeek']=df_test['DayOfWeek'].replace(week_dict)\n",
    "\n",
    "df_train.head()\n",
    "\n",
    "df_train['Intersection']=df_train['Address'].apply(lambda x : 1 if '/' in x else 0)\n",
    "\n",
    "df_train['Block']=df_train['Address'].apply(lambda x : 1 if 'Block' in x else 0)\n",
    "\n",
    "df_train['StreetSuffix']=df_train['Address'].apply(lambda x : x.split(' ')[-1] if len(x.split(' ')[-1])==2 else 0) \n",
    "\n",
    "df_train.head()\n",
    "\n",
    "\n",
    "df_test['Intersection']=df_test['Address'].apply(lambda x : 1 if '/' in x else 0)\n",
    "\n",
    "df_test['Block']=df_test['Address'].apply(lambda x : 1 if 'Block' in x else 0)\n",
    "\n",
    "df_test['StreetSuffix']=df_test['Address'].apply(lambda x : x.split(' ')[-1] if len(x.split(' ')[-1])==2 else 0) \n",
    "\n",
    "df_train=df_train.drop(['Address'],axis=1)\n",
    "df_test=df_test.drop(['Address'],axis=1)\n",
    "\n",
    "df_train.head()\n",
    "\n",
    "df_train['Y']=df_train['Y'].apply(lambda x : x if 37.82 > x else 37.82 )\n",
    "\n",
    "df_train['X']=df_train['X'].apply(lambda x : x if -122.3 > x else -122.3 )\n",
    "\n",
    "df_test['Y']=df_train['Y'].apply(lambda x : x if 37.82 > x else 37.82 )\n",
    "\n",
    "df_test['X']=df_train['X'].apply(lambda x : x if -122.3 > x else -122.3 )"
   ]
  },
  {
   "cell_type": "code",
   "execution_count": 225,
   "metadata": {},
   "outputs": [
    {
     "data": {
      "text/html": [
       "<div>\n",
       "<style scoped>\n",
       "    .dataframe tbody tr th:only-of-type {\n",
       "        vertical-align: middle;\n",
       "    }\n",
       "\n",
       "    .dataframe tbody tr th {\n",
       "        vertical-align: top;\n",
       "    }\n",
       "\n",
       "    .dataframe thead th {\n",
       "        text-align: right;\n",
       "    }\n",
       "</style>\n",
       "<table border=\"1\" class=\"dataframe\">\n",
       "  <thead>\n",
       "    <tr style=\"text-align: right;\">\n",
       "      <th></th>\n",
       "      <th>Category</th>\n",
       "      <th>DayOfWeek</th>\n",
       "      <th>PdDistrict</th>\n",
       "      <th>Resolution</th>\n",
       "      <th>X</th>\n",
       "      <th>Y</th>\n",
       "      <th>Year</th>\n",
       "      <th>Month</th>\n",
       "      <th>HourOfDay</th>\n",
       "      <th>HourofDay</th>\n",
       "      <th>Intersection</th>\n",
       "      <th>Block</th>\n",
       "      <th>StreetSuffix</th>\n",
       "    </tr>\n",
       "  </thead>\n",
       "  <tbody>\n",
       "    <tr>\n",
       "      <th>0</th>\n",
       "      <td>SEX OFFENSES FORCIBLE</td>\n",
       "      <td>5</td>\n",
       "      <td>MISSION</td>\n",
       "      <td>NONE</td>\n",
       "      <td>-122.419331</td>\n",
       "      <td>37.762264</td>\n",
       "      <td>2013</td>\n",
       "      <td>MonthMed</td>\n",
       "      <td>17</td>\n",
       "      <td>Day</td>\n",
       "      <td>0</td>\n",
       "      <td>1</td>\n",
       "      <td>ST</td>\n",
       "    </tr>\n",
       "    <tr>\n",
       "      <th>1</th>\n",
       "      <td>LIQUOR LAWS</td>\n",
       "      <td>4</td>\n",
       "      <td>SOUTHERN</td>\n",
       "      <td>ARREST, BOOKED</td>\n",
       "      <td>-122.411340</td>\n",
       "      <td>37.781271</td>\n",
       "      <td>2004</td>\n",
       "      <td>MonthMed</td>\n",
       "      <td>2</td>\n",
       "      <td>Morning</td>\n",
       "      <td>0</td>\n",
       "      <td>1</td>\n",
       "      <td>ST</td>\n",
       "    </tr>\n",
       "    <tr>\n",
       "      <th>2</th>\n",
       "      <td>FRAUD</td>\n",
       "      <td>3</td>\n",
       "      <td>SOUTHERN</td>\n",
       "      <td>NONE</td>\n",
       "      <td>-122.403405</td>\n",
       "      <td>37.775421</td>\n",
       "      <td>2007</td>\n",
       "      <td>MonthMed</td>\n",
       "      <td>0</td>\n",
       "      <td>Evening</td>\n",
       "      <td>0</td>\n",
       "      <td>1</td>\n",
       "      <td>ST</td>\n",
       "    </tr>\n",
       "    <tr>\n",
       "      <th>3</th>\n",
       "      <td>ROBBERY</td>\n",
       "      <td>4</td>\n",
       "      <td>BAYVIEW</td>\n",
       "      <td>DISTRICT ATTORNEY REFUSES TO PROSECUTE</td>\n",
       "      <td>-122.404715</td>\n",
       "      <td>37.730161</td>\n",
       "      <td>2007</td>\n",
       "      <td>MonthLow</td>\n",
       "      <td>18</td>\n",
       "      <td>Day</td>\n",
       "      <td>0</td>\n",
       "      <td>1</td>\n",
       "      <td>AV</td>\n",
       "    </tr>\n",
       "    <tr>\n",
       "      <th>4</th>\n",
       "      <td>OTHER OFFENSES</td>\n",
       "      <td>7</td>\n",
       "      <td>SOUTHERN</td>\n",
       "      <td>ARREST, BOOKED</td>\n",
       "      <td>-122.405239</td>\n",
       "      <td>37.785265</td>\n",
       "      <td>2012</td>\n",
       "      <td>MonthMed</td>\n",
       "      <td>17</td>\n",
       "      <td>Day</td>\n",
       "      <td>1</td>\n",
       "      <td>0</td>\n",
       "      <td>ST</td>\n",
       "    </tr>\n",
       "  </tbody>\n",
       "</table>\n",
       "</div>"
      ],
      "text/plain": [
       "                Category  DayOfWeek PdDistrict  \\\n",
       "0  SEX OFFENSES FORCIBLE          5    MISSION   \n",
       "1            LIQUOR LAWS          4   SOUTHERN   \n",
       "2                  FRAUD          3   SOUTHERN   \n",
       "3                ROBBERY          4    BAYVIEW   \n",
       "4         OTHER OFFENSES          7   SOUTHERN   \n",
       "\n",
       "                               Resolution           X          Y  Year  \\\n",
       "0                                    NONE -122.419331  37.762264  2013   \n",
       "1                          ARREST, BOOKED -122.411340  37.781271  2004   \n",
       "2                                    NONE -122.403405  37.775421  2007   \n",
       "3  DISTRICT ATTORNEY REFUSES TO PROSECUTE -122.404715  37.730161  2007   \n",
       "4                          ARREST, BOOKED -122.405239  37.785265  2012   \n",
       "\n",
       "      Month  HourOfDay HourofDay  Intersection  Block StreetSuffix  \n",
       "0  MonthMed         17       Day             0      1           ST  \n",
       "1  MonthMed          2   Morning             0      1           ST  \n",
       "2  MonthMed          0   Evening             0      1           ST  \n",
       "3  MonthLow         18       Day             0      1           AV  \n",
       "4  MonthMed         17       Day             1      0           ST  "
      ]
     },
     "execution_count": 225,
     "metadata": {},
     "output_type": "execute_result"
    }
   ],
   "source": [
    "df_train.head()\n"
   ]
  },
  {
   "cell_type": "code",
   "execution_count": 226,
   "metadata": {},
   "outputs": [
    {
     "data": {
      "text/plain": [
       "LARCENY/THEFT     172952\n",
       "OTHER OFFENSES    124736\n",
       "NON-CRIMINAL       91266\n",
       "ASSAULT            75987\n",
       "DRUG/NARCOTIC      53365\n",
       "VEHICLE THEFT      53146\n",
       "VANDALISM          44183\n",
       "WARRANTS           41729\n",
       "BURGLARY           36326\n",
       "SUSPICIOUS OCC     31051\n",
       "Name: Category, dtype: int64"
      ]
     },
     "execution_count": 226,
     "metadata": {},
     "output_type": "execute_result"
    }
   ],
   "source": [
    "df_train['Category'].value_counts().head(10)"
   ]
  },
  {
   "cell_type": "code",
   "execution_count": 227,
   "metadata": {},
   "outputs": [
    {
     "data": {
      "text/plain": [
       "Index(['Category', 'DayOfWeek', 'PdDistrict', 'Resolution', 'X', 'Y', 'Year',\n",
       "       'Month', 'HourOfDay', 'HourofDay', 'Intersection', 'Block',\n",
       "       'StreetSuffix'],\n",
       "      dtype='object')"
      ]
     },
     "execution_count": 227,
     "metadata": {},
     "output_type": "execute_result"
    }
   ],
   "source": [
    "df_train.columns"
   ]
  },
  {
   "cell_type": "code",
   "execution_count": 228,
   "metadata": {},
   "outputs": [
    {
     "data": {
      "text/plain": [
       "(867873, 13)"
      ]
     },
     "execution_count": 228,
     "metadata": {},
     "output_type": "execute_result"
    }
   ],
   "source": [
    "df_train.shape"
   ]
  },
  {
   "cell_type": "code",
   "execution_count": 229,
   "metadata": {},
   "outputs": [],
   "source": [
    "df_train['PartOfDay']=df_train['HourOfDay'].apply(lambda x : 'Morning' if (x >= 5) & (x <=10) else ('Day' if x > 10 & x <=18 else 'Evening'))\n",
    "\n",
    "\n",
    "df_test['PartOfDay']=df_test['HourOfDay'].apply(lambda x : 'Morning' if (x >= 5) & (x <=10) else ('Day' if x > 10 & x <=18 else 'Evening'))\n"
   ]
  },
  {
   "cell_type": "code",
   "execution_count": 230,
   "metadata": {},
   "outputs": [],
   "source": [
    "df_train.drop(columns = 'HourofDay',axis=1, inplace = True)\n",
    "df_test.drop(columns = 'HourofDay' , axis = 1, inplace = True)"
   ]
  },
  {
   "cell_type": "code",
   "execution_count": 231,
   "metadata": {},
   "outputs": [
    {
     "data": {
      "text/html": [
       "<div>\n",
       "<style scoped>\n",
       "    .dataframe tbody tr th:only-of-type {\n",
       "        vertical-align: middle;\n",
       "    }\n",
       "\n",
       "    .dataframe tbody tr th {\n",
       "        vertical-align: top;\n",
       "    }\n",
       "\n",
       "    .dataframe thead th {\n",
       "        text-align: right;\n",
       "    }\n",
       "</style>\n",
       "<table border=\"1\" class=\"dataframe\">\n",
       "  <thead>\n",
       "    <tr style=\"text-align: right;\">\n",
       "      <th></th>\n",
       "      <th>Category</th>\n",
       "      <th>DayOfWeek</th>\n",
       "      <th>PdDistrict</th>\n",
       "      <th>Resolution</th>\n",
       "      <th>X</th>\n",
       "      <th>Y</th>\n",
       "      <th>Year</th>\n",
       "      <th>Month</th>\n",
       "      <th>HourOfDay</th>\n",
       "      <th>Intersection</th>\n",
       "      <th>Block</th>\n",
       "      <th>StreetSuffix</th>\n",
       "      <th>PartOfDay</th>\n",
       "    </tr>\n",
       "  </thead>\n",
       "  <tbody>\n",
       "    <tr>\n",
       "      <th>0</th>\n",
       "      <td>SEX OFFENSES FORCIBLE</td>\n",
       "      <td>5</td>\n",
       "      <td>MISSION</td>\n",
       "      <td>NONE</td>\n",
       "      <td>-122.419331</td>\n",
       "      <td>37.762264</td>\n",
       "      <td>2013</td>\n",
       "      <td>MonthMed</td>\n",
       "      <td>17</td>\n",
       "      <td>0</td>\n",
       "      <td>1</td>\n",
       "      <td>ST</td>\n",
       "      <td>Day</td>\n",
       "    </tr>\n",
       "    <tr>\n",
       "      <th>1</th>\n",
       "      <td>LIQUOR LAWS</td>\n",
       "      <td>4</td>\n",
       "      <td>SOUTHERN</td>\n",
       "      <td>ARREST, BOOKED</td>\n",
       "      <td>-122.411340</td>\n",
       "      <td>37.781271</td>\n",
       "      <td>2004</td>\n",
       "      <td>MonthMed</td>\n",
       "      <td>2</td>\n",
       "      <td>0</td>\n",
       "      <td>1</td>\n",
       "      <td>ST</td>\n",
       "      <td>Evening</td>\n",
       "    </tr>\n",
       "    <tr>\n",
       "      <th>2</th>\n",
       "      <td>FRAUD</td>\n",
       "      <td>3</td>\n",
       "      <td>SOUTHERN</td>\n",
       "      <td>NONE</td>\n",
       "      <td>-122.403405</td>\n",
       "      <td>37.775421</td>\n",
       "      <td>2007</td>\n",
       "      <td>MonthMed</td>\n",
       "      <td>0</td>\n",
       "      <td>0</td>\n",
       "      <td>1</td>\n",
       "      <td>ST</td>\n",
       "      <td>Evening</td>\n",
       "    </tr>\n",
       "    <tr>\n",
       "      <th>3</th>\n",
       "      <td>ROBBERY</td>\n",
       "      <td>4</td>\n",
       "      <td>BAYVIEW</td>\n",
       "      <td>DISTRICT ATTORNEY REFUSES TO PROSECUTE</td>\n",
       "      <td>-122.404715</td>\n",
       "      <td>37.730161</td>\n",
       "      <td>2007</td>\n",
       "      <td>MonthLow</td>\n",
       "      <td>18</td>\n",
       "      <td>0</td>\n",
       "      <td>1</td>\n",
       "      <td>AV</td>\n",
       "      <td>Day</td>\n",
       "    </tr>\n",
       "    <tr>\n",
       "      <th>4</th>\n",
       "      <td>OTHER OFFENSES</td>\n",
       "      <td>7</td>\n",
       "      <td>SOUTHERN</td>\n",
       "      <td>ARREST, BOOKED</td>\n",
       "      <td>-122.405239</td>\n",
       "      <td>37.785265</td>\n",
       "      <td>2012</td>\n",
       "      <td>MonthMed</td>\n",
       "      <td>17</td>\n",
       "      <td>1</td>\n",
       "      <td>0</td>\n",
       "      <td>ST</td>\n",
       "      <td>Day</td>\n",
       "    </tr>\n",
       "  </tbody>\n",
       "</table>\n",
       "</div>"
      ],
      "text/plain": [
       "                Category  DayOfWeek PdDistrict  \\\n",
       "0  SEX OFFENSES FORCIBLE          5    MISSION   \n",
       "1            LIQUOR LAWS          4   SOUTHERN   \n",
       "2                  FRAUD          3   SOUTHERN   \n",
       "3                ROBBERY          4    BAYVIEW   \n",
       "4         OTHER OFFENSES          7   SOUTHERN   \n",
       "\n",
       "                               Resolution           X          Y  Year  \\\n",
       "0                                    NONE -122.419331  37.762264  2013   \n",
       "1                          ARREST, BOOKED -122.411340  37.781271  2004   \n",
       "2                                    NONE -122.403405  37.775421  2007   \n",
       "3  DISTRICT ATTORNEY REFUSES TO PROSECUTE -122.404715  37.730161  2007   \n",
       "4                          ARREST, BOOKED -122.405239  37.785265  2012   \n",
       "\n",
       "      Month  HourOfDay  Intersection  Block StreetSuffix PartOfDay  \n",
       "0  MonthMed         17             0      1           ST       Day  \n",
       "1  MonthMed          2             0      1           ST   Evening  \n",
       "2  MonthMed          0             0      1           ST   Evening  \n",
       "3  MonthLow         18             0      1           AV       Day  \n",
       "4  MonthMed         17             1      0           ST       Day  "
      ]
     },
     "execution_count": 231,
     "metadata": {},
     "output_type": "execute_result"
    }
   ],
   "source": [
    "df_train.head()"
   ]
  },
  {
   "cell_type": "code",
   "execution_count": 232,
   "metadata": {},
   "outputs": [
    {
     "data": {
      "text/plain": [
       "Category        SEX OFFENSES FORCIBLE\n",
       "DayOfWeek                           5\n",
       "PdDistrict                    MISSION\n",
       "Resolution                       NONE\n",
       "X                            -122.419\n",
       "Y                             37.7623\n",
       "Year                             2013\n",
       "Month                        MonthMed\n",
       "HourOfDay                          17\n",
       "Intersection                        0\n",
       "Block                               1\n",
       "StreetSuffix                       ST\n",
       "PartOfDay                         Day\n",
       "Name: 0, dtype: object"
      ]
     },
     "execution_count": 232,
     "metadata": {},
     "output_type": "execute_result"
    }
   ],
   "source": [
    "df_train.loc[0]"
   ]
  },
  {
   "cell_type": "code",
   "execution_count": 233,
   "metadata": {},
   "outputs": [],
   "source": [
    "df_train['WeekEnd']=df_train['DayOfWeek'].apply(lambda x : '1' if (x >= 5) else '0')\n"
   ]
  },
  {
   "cell_type": "code",
   "execution_count": 234,
   "metadata": {},
   "outputs": [],
   "source": [
    "df_test['WeekEnd']=df_train['DayOfWeek'].apply(lambda x : '1' if (x >= 5) else '0')\n"
   ]
  },
  {
   "cell_type": "code",
   "execution_count": 235,
   "metadata": {},
   "outputs": [],
   "source": [
    "df_train.drop(columns = 'Resolution',axis=1, inplace = True)\n",
    "df_test.drop(columns = 'Resolution' , axis = 1, inplace = True)"
   ]
  },
  {
   "cell_type": "code",
   "execution_count": 293,
   "metadata": {},
   "outputs": [],
   "source": [
    "Category_train = pd.read_csv('train.csv')['Category']"
   ]
  },
  {
   "cell_type": "code",
   "execution_count": null,
   "metadata": {},
   "outputs": [],
   "source": []
  },
  {
   "cell_type": "code",
   "execution_count": 294,
   "metadata": {},
   "outputs": [],
   "source": [
    "from sklearn.preprocessing import LabelEncoder\n",
    "le = LabelEncoder()\n",
    "Cat = le.fit_transform(Category_train)"
   ]
  },
  {
   "cell_type": "code",
   "execution_count": 295,
   "metadata": {},
   "outputs": [
    {
     "data": {
      "text/plain": [
       "array(['ARSON', 'ASSAULT', 'BAD CHECKS', 'BRIBERY', 'BURGLARY',\n",
       "       'DISORDERLY CONDUCT', 'DRIVING UNDER THE INFLUENCE',\n",
       "       'DRUG/NARCOTIC', 'DRUNKENNESS', 'EMBEZZLEMENT', 'EXTORTION',\n",
       "       'FAMILY OFFENSES', 'FORGERY/COUNTERFEITING', 'FRAUD', 'GAMBLING',\n",
       "       'KIDNAPPING', 'LARCENY/THEFT', 'LIQUOR LAWS', 'LOITERING',\n",
       "       'MISSING PERSON', 'NON-CRIMINAL', 'OTHER OFFENSES', 'PROSTITUTION',\n",
       "       'RECOVERED VEHICLE', 'ROBBERY', 'RUNAWAY', 'SECONDARY CODES',\n",
       "       'SEX OFFENSES FORCIBLE', 'STOLEN PROPERTY', 'SUICIDE',\n",
       "       'SUSPICIOUS OCC', 'TRESPASS', 'VANDALISM', 'VEHICLE THEFT',\n",
       "       'WARRANTS', 'WEAPON LAWS'], dtype=object)"
      ]
     },
     "execution_count": 295,
     "metadata": {},
     "output_type": "execute_result"
    }
   ],
   "source": [
    "le.classes_"
   ]
  },
  {
   "cell_type": "code",
   "execution_count": 289,
   "metadata": {},
   "outputs": [
    {
     "data": {
      "text/plain": [
       "array([27, 17, 13, ..., 16, 21, 16], dtype=int64)"
      ]
     },
     "execution_count": 289,
     "metadata": {},
     "output_type": "execute_result"
    }
   ],
   "source": [
    "Category_train"
   ]
  },
  {
   "cell_type": "code",
   "execution_count": null,
   "metadata": {},
   "outputs": [],
   "source": []
  },
  {
   "cell_type": "code",
   "execution_count": 238,
   "metadata": {},
   "outputs": [
    {
     "data": {
      "text/plain": [
       "array([0, 0, 1, 2], dtype=int64)"
      ]
     },
     "execution_count": 238,
     "metadata": {},
     "output_type": "execute_result"
    }
   ],
   "source": [
    "Category_train = Cat\n",
    "le.inverse_transform([0, 0, 1, 2])"
   ]
  },
  {
   "cell_type": "code",
   "execution_count": 239,
   "metadata": {},
   "outputs": [],
   "source": [
    "df_train.drop(columns = 'Category',axis=1, inplace = True)"
   ]
  },
  {
   "cell_type": "code",
   "execution_count": 240,
   "metadata": {},
   "outputs": [],
   "source": [
    "df_train = pd.get_dummies(df_train)"
   ]
  },
  {
   "cell_type": "code",
   "execution_count": 241,
   "metadata": {},
   "outputs": [],
   "source": [
    "df_test = pd.get_dummies(df_test)"
   ]
  },
  {
   "cell_type": "code",
   "execution_count": 242,
   "metadata": {},
   "outputs": [
    {
     "data": {
      "text/plain": [
       "(10000, 40)"
      ]
     },
     "execution_count": 242,
     "metadata": {},
     "output_type": "execute_result"
    }
   ],
   "source": [
    "df_test.shape"
   ]
  },
  {
   "cell_type": "code",
   "execution_count": 243,
   "metadata": {},
   "outputs": [
    {
     "data": {
      "text/plain": [
       "(867873, 43)"
      ]
     },
     "execution_count": 243,
     "metadata": {},
     "output_type": "execute_result"
    }
   ],
   "source": [
    "df_train.shape"
   ]
  },
  {
   "cell_type": "code",
   "execution_count": 244,
   "metadata": {},
   "outputs": [
    {
     "data": {
      "text/plain": [
       "Index(['DayOfWeek', 'X', 'Y', 'Year', 'HourOfDay', 'Intersection', 'Block',\n",
       "       'PdDistrict_BAYVIEW', 'PdDistrict_CENTRAL', 'PdDistrict_INGLESIDE',\n",
       "       'PdDistrict_MISSION', 'PdDistrict_NORTHERN', 'PdDistrict_PARK',\n",
       "       'PdDistrict_RICHMOND', 'PdDistrict_SOUTHERN', 'PdDistrict_TARAVAL',\n",
       "       'PdDistrict_TENDERLOIN', 'Month_MonthHigh', 'Month_MonthLow',\n",
       "       'Month_MonthMed', 'StreetSuffix_0', 'StreetSuffix_AL',\n",
       "       'StreetSuffix_AV', 'StreetSuffix_BL', 'StreetSuffix_CR',\n",
       "       'StreetSuffix_CT', 'StreetSuffix_DR', 'StreetSuffix_HY',\n",
       "       'StreetSuffix_LN', 'StreetSuffix_PL', 'StreetSuffix_PZ',\n",
       "       'StreetSuffix_RD', 'StreetSuffix_ST', 'StreetSuffix_TR',\n",
       "       'StreetSuffix_WY', 'PartOfDay_Day', 'PartOfDay_Evening',\n",
       "       'PartOfDay_Morning', 'WeekEnd_0', 'WeekEnd_1'],\n",
       "      dtype='object')"
      ]
     },
     "execution_count": 244,
     "metadata": {},
     "output_type": "execute_result"
    }
   ],
   "source": [
    "df_test.columns"
   ]
  },
  {
   "cell_type": "code",
   "execution_count": 245,
   "metadata": {},
   "outputs": [
    {
     "data": {
      "text/plain": [
       "Index(['DayOfWeek', 'X', 'Y', 'Year', 'HourOfDay', 'Intersection', 'Block',\n",
       "       'PdDistrict_BAYVIEW', 'PdDistrict_CENTRAL', 'PdDistrict_INGLESIDE',\n",
       "       'PdDistrict_MISSION', 'PdDistrict_NORTHERN', 'PdDistrict_PARK',\n",
       "       'PdDistrict_RICHMOND', 'PdDistrict_SOUTHERN', 'PdDistrict_TARAVAL',\n",
       "       'PdDistrict_TENDERLOIN', 'Month_MonthHigh', 'Month_MonthLow',\n",
       "       'Month_MonthMed', 'StreetSuffix_0', 'StreetSuffix_AL',\n",
       "       'StreetSuffix_AV', 'StreetSuffix_BL', 'StreetSuffix_CR',\n",
       "       'StreetSuffix_CT', 'StreetSuffix_DR', 'StreetSuffix_EX',\n",
       "       'StreetSuffix_HY', 'StreetSuffix_LN', 'StreetSuffix_PL',\n",
       "       'StreetSuffix_PZ', 'StreetSuffix_RD', 'StreetSuffix_RW',\n",
       "       'StreetSuffix_ST', 'StreetSuffix_TR', 'StreetSuffix_WK',\n",
       "       'StreetSuffix_WY', 'PartOfDay_Day', 'PartOfDay_Evening',\n",
       "       'PartOfDay_Morning', 'WeekEnd_0', 'WeekEnd_1'],\n",
       "      dtype='object')"
      ]
     },
     "execution_count": 245,
     "metadata": {},
     "output_type": "execute_result"
    }
   ],
   "source": [
    "df_train.columns"
   ]
  },
  {
   "cell_type": "code",
   "execution_count": 246,
   "metadata": {},
   "outputs": [
    {
     "data": {
      "text/plain": [
       "'StreetSuffix_WK'"
      ]
     },
     "execution_count": 246,
     "metadata": {},
     "output_type": "execute_result"
    }
   ],
   "source": [
    "df_train.columns[36]"
   ]
  },
  {
   "cell_type": "code",
   "execution_count": 247,
   "metadata": {},
   "outputs": [],
   "source": [
    "df_test.insert(loc=36,column='StreetSuffix_WK',value = 0)"
   ]
  },
  {
   "cell_type": "code",
   "execution_count": null,
   "metadata": {},
   "outputs": [],
   "source": []
  },
  {
   "cell_type": "code",
   "execution_count": 74,
   "metadata": {},
   "outputs": [],
   "source": [
    "#from sklearn.cross_validation import train_test_split"
   ]
  },
  {
   "cell_type": "code",
   "execution_count": 72,
   "metadata": {},
   "outputs": [],
   "source": [
    "X = df_train"
   ]
  },
  {
   "cell_type": "code",
   "execution_count": 182,
   "metadata": {},
   "outputs": [],
   "source": [
    "#X_train,X_test,Y_train,Y_test = train_test_split(X, Category_train ,test_size=0.2 , random_state=101)"
   ]
  },
  {
   "cell_type": "code",
   "execution_count": 76,
   "metadata": {},
   "outputs": [
    {
     "data": {
      "text/plain": [
       "(694298, 43)"
      ]
     },
     "execution_count": 76,
     "metadata": {},
     "output_type": "execute_result"
    }
   ],
   "source": [
    "#X_train.shape"
   ]
  },
  {
   "cell_type": "code",
   "execution_count": 77,
   "metadata": {},
   "outputs": [
    {
     "data": {
      "text/plain": [
       "(694298,)"
      ]
     },
     "execution_count": 77,
     "metadata": {},
     "output_type": "execute_result"
    }
   ],
   "source": [
    "#Y_train.shape"
   ]
  },
  {
   "cell_type": "code",
   "execution_count": 78,
   "metadata": {},
   "outputs": [
    {
     "data": {
      "text/plain": [
       "(173575, 43)"
      ]
     },
     "execution_count": 78,
     "metadata": {},
     "output_type": "execute_result"
    }
   ],
   "source": [
    "#X_test.shape"
   ]
  },
  {
   "cell_type": "code",
   "execution_count": 80,
   "metadata": {},
   "outputs": [
    {
     "data": {
      "text/plain": [
       "(173575,)"
      ]
     },
     "execution_count": 80,
     "metadata": {},
     "output_type": "execute_result"
    }
   ],
   "source": [
    "#Y_test.shape"
   ]
  },
  {
   "cell_type": "code",
   "execution_count": 248,
   "metadata": {},
   "outputs": [],
   "source": [
    "X = df_train"
   ]
  },
  {
   "cell_type": "code",
   "execution_count": 249,
   "metadata": {},
   "outputs": [],
   "source": [
    "Y = Category_train"
   ]
  },
  {
   "cell_type": "code",
   "execution_count": null,
   "metadata": {},
   "outputs": [],
   "source": []
  },
  {
   "cell_type": "code",
   "execution_count": null,
   "metadata": {},
   "outputs": [],
   "source": []
  },
  {
   "cell_type": "code",
   "execution_count": 311,
   "metadata": {},
   "outputs": [
    {
     "ename": "ModuleNotFoundError",
     "evalue": "No module named 'xgboost'",
     "output_type": "error",
     "traceback": [
      "\u001b[1;31m---------------------------------------------------------------------------\u001b[0m",
      "\u001b[1;31mModuleNotFoundError\u001b[0m                       Traceback (most recent call last)",
      "\u001b[1;32m<ipython-input-311-5943d1bfe3f1>\u001b[0m in \u001b[0;36m<module>\u001b[1;34m()\u001b[0m\n\u001b[1;32m----> 1\u001b[1;33m \u001b[1;32mimport\u001b[0m \u001b[0mxgboost\u001b[0m \u001b[1;32mas\u001b[0m \u001b[0mxgb\u001b[0m\u001b[1;33m\u001b[0m\u001b[0m\n\u001b[0m",
      "\u001b[1;31mModuleNotFoundError\u001b[0m: No module named 'xgboost'"
     ]
    }
   ],
   "source": [
    "import xgboost as xgb"
   ]
  },
  {
   "cell_type": "code",
   "execution_count": 251,
   "metadata": {},
   "outputs": [],
   "source": [
    "XGB = GradientBoostingClassifier()"
   ]
  },
  {
   "cell_type": "code",
   "execution_count": 252,
   "metadata": {},
   "outputs": [
    {
     "data": {
      "text/plain": [
       "GradientBoostingClassifier(criterion='friedman_mse', init=None,\n",
       "              learning_rate=0.1, loss='deviance', max_depth=3,\n",
       "              max_features=None, max_leaf_nodes=None,\n",
       "              min_impurity_decrease=0.0, min_impurity_split=None,\n",
       "              min_samples_leaf=1, min_samples_split=2,\n",
       "              min_weight_fraction_leaf=0.0, n_estimators=100,\n",
       "              presort='auto', random_state=None, subsample=1.0, verbose=0,\n",
       "              warm_start=False)"
      ]
     },
     "execution_count": 252,
     "metadata": {},
     "output_type": "execute_result"
    }
   ],
   "source": [
    "XGB.fit(X,Y)"
   ]
  },
  {
   "cell_type": "code",
   "execution_count": 267,
   "metadata": {},
   "outputs": [
    {
     "data": {
      "text/plain": [
       "Index(['DayOfWeek', 'X', 'Y', 'Year', 'HourOfDay', 'Intersection', 'Block',\n",
       "       'PdDistrict_BAYVIEW', 'PdDistrict_CENTRAL', 'PdDistrict_INGLESIDE',\n",
       "       'PdDistrict_MISSION', 'PdDistrict_NORTHERN', 'PdDistrict_PARK',\n",
       "       'PdDistrict_RICHMOND', 'PdDistrict_SOUTHERN', 'PdDistrict_TARAVAL',\n",
       "       'PdDistrict_TENDERLOIN', 'Month_MonthHigh', 'Month_MonthLow',\n",
       "       'Month_MonthMed', 'StreetSuffix_0', 'StreetSuffix_AL',\n",
       "       'StreetSuffix_AV', 'StreetSuffix_BL', 'StreetSuffix_CR',\n",
       "       'StreetSuffix_CT', 'StreetSuffix_DR', 'StreetSuffix_EX',\n",
       "       'StreetSuffix_HY', 'StreetSuffix_LN', 'StreetSuffix_PL',\n",
       "       'StreetSuffix_PZ', 'StreetSuffix_RD', 'StreetSuffix_RW',\n",
       "       'StreetSuffix_ST', 'StreetSuffix_TR', 'StreetSuffix_WK',\n",
       "       'StreetSuffix_WY', 'PartOfDay_Day', 'PartOfDay_Evening',\n",
       "       'PartOfDay_Morning', 'WeekEnd_0', 'WeekEnd_1'],\n",
       "      dtype='object')"
      ]
     },
     "execution_count": 267,
     "metadata": {},
     "output_type": "execute_result"
    }
   ],
   "source": [
    "X.columns"
   ]
  },
  {
   "cell_type": "code",
   "execution_count": 266,
   "metadata": {},
   "outputs": [
    {
     "data": {
      "text/plain": [
       "Index(['StreetSuffix_EX', 'StreetSuffix_RW'], dtype='object')"
      ]
     },
     "execution_count": 266,
     "metadata": {},
     "output_type": "execute_result"
    }
   ],
   "source": [
    "X"
   ]
  },
  {
   "cell_type": "code",
   "execution_count": 272,
   "metadata": {},
   "outputs": [
    {
     "data": {
      "text/plain": [
       "'StreetSuffix_EX'"
      ]
     },
     "execution_count": 272,
     "metadata": {},
     "output_type": "execute_result"
    }
   ],
   "source": [
    "X.columns[27]"
   ]
  },
  {
   "cell_type": "code",
   "execution_count": 273,
   "metadata": {},
   "outputs": [],
   "source": [
    "df_test.insert(loc=27,column='StreetSuffix_EX',value = 0)"
   ]
  },
  {
   "cell_type": "code",
   "execution_count": 275,
   "metadata": {},
   "outputs": [],
   "source": [
    "Y_pred = XGB.predict_proba(X_test)"
   ]
  },
  {
   "cell_type": "code",
   "execution_count": 274,
   "metadata": {},
   "outputs": [],
   "source": [
    "X_test = df_test"
   ]
  },
  {
   "cell_type": "code",
   "execution_count": null,
   "metadata": {},
   "outputs": [],
   "source": [
    "Y_"
   ]
  },
  {
   "cell_type": "code",
   "execution_count": 254,
   "metadata": {},
   "outputs": [
    {
     "ename": "ValueError",
     "evalue": "Found input variables with inconsistent numbers of samples: [10000, 173575]",
     "output_type": "error",
     "traceback": [
      "\u001b[1;31m---------------------------------------------------------------------------\u001b[0m",
      "\u001b[1;31mValueError\u001b[0m                                Traceback (most recent call last)",
      "\u001b[1;32m<ipython-input-254-432084dfb46f>\u001b[0m in \u001b[0;36m<module>\u001b[1;34m()\u001b[0m\n\u001b[1;32m----> 1\u001b[1;33m \u001b[0mlog_loss\u001b[0m\u001b[1;33m(\u001b[0m\u001b[0mY_test\u001b[0m\u001b[1;33m,\u001b[0m\u001b[0mY_pred\u001b[0m\u001b[1;33m)\u001b[0m\u001b[1;33m\u001b[0m\u001b[0m\n\u001b[0m",
      "\u001b[1;32m~\\Anaconda3\\lib\\site-packages\\sklearn\\metrics\\classification.py\u001b[0m in \u001b[0;36mlog_loss\u001b[1;34m(y_true, y_pred, eps, normalize, sample_weight, labels)\u001b[0m\n\u001b[0;32m   1639\u001b[0m     \"\"\"\n\u001b[0;32m   1640\u001b[0m     \u001b[0my_pred\u001b[0m \u001b[1;33m=\u001b[0m \u001b[0mcheck_array\u001b[0m\u001b[1;33m(\u001b[0m\u001b[0my_pred\u001b[0m\u001b[1;33m,\u001b[0m \u001b[0mensure_2d\u001b[0m\u001b[1;33m=\u001b[0m\u001b[1;32mFalse\u001b[0m\u001b[1;33m)\u001b[0m\u001b[1;33m\u001b[0m\u001b[0m\n\u001b[1;32m-> 1641\u001b[1;33m     \u001b[0mcheck_consistent_length\u001b[0m\u001b[1;33m(\u001b[0m\u001b[0my_pred\u001b[0m\u001b[1;33m,\u001b[0m \u001b[0my_true\u001b[0m\u001b[1;33m)\u001b[0m\u001b[1;33m\u001b[0m\u001b[0m\n\u001b[0m\u001b[0;32m   1642\u001b[0m \u001b[1;33m\u001b[0m\u001b[0m\n\u001b[0;32m   1643\u001b[0m     \u001b[0mlb\u001b[0m \u001b[1;33m=\u001b[0m \u001b[0mLabelBinarizer\u001b[0m\u001b[1;33m(\u001b[0m\u001b[1;33m)\u001b[0m\u001b[1;33m\u001b[0m\u001b[0m\n",
      "\u001b[1;32m~\\Anaconda3\\lib\\site-packages\\sklearn\\utils\\validation.py\u001b[0m in \u001b[0;36mcheck_consistent_length\u001b[1;34m(*arrays)\u001b[0m\n\u001b[0;32m    202\u001b[0m     \u001b[1;32mif\u001b[0m \u001b[0mlen\u001b[0m\u001b[1;33m(\u001b[0m\u001b[0muniques\u001b[0m\u001b[1;33m)\u001b[0m \u001b[1;33m>\u001b[0m \u001b[1;36m1\u001b[0m\u001b[1;33m:\u001b[0m\u001b[1;33m\u001b[0m\u001b[0m\n\u001b[0;32m    203\u001b[0m         raise ValueError(\"Found input variables with inconsistent numbers of\"\n\u001b[1;32m--> 204\u001b[1;33m                          \" samples: %r\" % [int(l) for l in lengths])\n\u001b[0m\u001b[0;32m    205\u001b[0m \u001b[1;33m\u001b[0m\u001b[0m\n\u001b[0;32m    206\u001b[0m \u001b[1;33m\u001b[0m\u001b[0m\n",
      "\u001b[1;31mValueError\u001b[0m: Found input variables with inconsistent numbers of samples: [10000, 173575]"
     ]
    }
   ],
   "source": [
    "log_loss(Y_test,Y_pred)"
   ]
  },
  {
   "cell_type": "code",
   "execution_count": null,
   "metadata": {},
   "outputs": [],
   "source": []
  },
  {
   "cell_type": "code",
   "execution_count": null,
   "metadata": {},
   "outputs": [],
   "source": []
  },
  {
   "cell_type": "code",
   "execution_count": 105,
   "metadata": {},
   "outputs": [
    {
     "data": {
      "text/plain": [
       "(867873, 43)"
      ]
     },
     "execution_count": 105,
     "metadata": {},
     "output_type": "execute_result"
    }
   ],
   "source": [
    "df_train.shape"
   ]
  },
  {
   "cell_type": "code",
   "execution_count": 106,
   "metadata": {},
   "outputs": [
    {
     "data": {
      "text/plain": [
       "(10000, 43)"
      ]
     },
     "execution_count": 106,
     "metadata": {},
     "output_type": "execute_result"
    }
   ],
   "source": [
    "df_test.shape"
   ]
  },
  {
   "cell_type": "code",
   "execution_count": 296,
   "metadata": {},
   "outputs": [],
   "source": [
    "X = df_train"
   ]
  },
  {
   "cell_type": "code",
   "execution_count": 297,
   "metadata": {},
   "outputs": [],
   "source": [
    "Y = Category_train"
   ]
  },
  {
   "cell_type": "code",
   "execution_count": 300,
   "metadata": {},
   "outputs": [
    {
     "data": {
      "text/plain": [
       "GradientBoostingClassifier(criterion='friedman_mse', init=None,\n",
       "              learning_rate=0.1, loss='deviance', max_depth=3,\n",
       "              max_features=None, max_leaf_nodes=None,\n",
       "              min_impurity_decrease=0.0, min_impurity_split=None,\n",
       "              min_samples_leaf=1, min_samples_split=2,\n",
       "              min_weight_fraction_leaf=0.0, n_estimators=100,\n",
       "              presort='auto', random_state=None, subsample=1.0, verbose=0,\n",
       "              warm_start=False)"
      ]
     },
     "execution_count": 300,
     "metadata": {},
     "output_type": "execute_result"
    }
   ],
   "source": [
    "XGB.fit(X,Y)"
   ]
  },
  {
   "cell_type": "code",
   "execution_count": 301,
   "metadata": {},
   "outputs": [
    {
     "data": {
      "text/plain": [
       "0         SEX OFFENSES FORCIBLE\n",
       "1                   LIQUOR LAWS\n",
       "2                         FRAUD\n",
       "3                       ROBBERY\n",
       "4                OTHER OFFENSES\n",
       "5                      WARRANTS\n",
       "6                      BURGLARY\n",
       "7                SUSPICIOUS OCC\n",
       "8                OTHER OFFENSES\n",
       "9                 DRUG/NARCOTIC\n",
       "10                LARCENY/THEFT\n",
       "11               OTHER OFFENSES\n",
       "12                    VANDALISM\n",
       "13                      ASSAULT\n",
       "14                DRUG/NARCOTIC\n",
       "15                LARCENY/THEFT\n",
       "16                DRUG/NARCOTIC\n",
       "17                VEHICLE THEFT\n",
       "18               MISSING PERSON\n",
       "19               OTHER OFFENSES\n",
       "20                 NON-CRIMINAL\n",
       "21                      ASSAULT\n",
       "22                  DRUNKENNESS\n",
       "23                 NON-CRIMINAL\n",
       "24               OTHER OFFENSES\n",
       "25                     WARRANTS\n",
       "26                LARCENY/THEFT\n",
       "27                      ROBBERY\n",
       "28                VEHICLE THEFT\n",
       "29                LARCENY/THEFT\n",
       "                  ...          \n",
       "867843            LARCENY/THEFT\n",
       "867844           OTHER OFFENSES\n",
       "867845            DRUG/NARCOTIC\n",
       "867846           MISSING PERSON\n",
       "867847            LARCENY/THEFT\n",
       "867848            DRUG/NARCOTIC\n",
       "867849            VEHICLE THEFT\n",
       "867850                    FRAUD\n",
       "867851            DRUG/NARCOTIC\n",
       "867852            LARCENY/THEFT\n",
       "867853             NON-CRIMINAL\n",
       "867854             NON-CRIMINAL\n",
       "867855            LARCENY/THEFT\n",
       "867856           SUSPICIOUS OCC\n",
       "867857           OTHER OFFENSES\n",
       "867858               KIDNAPPING\n",
       "867859                VANDALISM\n",
       "867860            LARCENY/THEFT\n",
       "867861           OTHER OFFENSES\n",
       "867862            LARCENY/THEFT\n",
       "867863            LARCENY/THEFT\n",
       "867864           OTHER OFFENSES\n",
       "867865             NON-CRIMINAL\n",
       "867866            LARCENY/THEFT\n",
       "867867            DRUG/NARCOTIC\n",
       "867868            LARCENY/THEFT\n",
       "867869          SECONDARY CODES\n",
       "867870            LARCENY/THEFT\n",
       "867871           OTHER OFFENSES\n",
       "867872            LARCENY/THEFT\n",
       "Name: Category, Length: 867873, dtype: object"
      ]
     },
     "execution_count": 301,
     "metadata": {},
     "output_type": "execute_result"
    }
   ],
   "source": [
    "Y\n"
   ]
  },
  {
   "cell_type": "code",
   "execution_count": 302,
   "metadata": {},
   "outputs": [],
   "source": [
    "X_test = df_test"
   ]
  },
  {
   "cell_type": "code",
   "execution_count": 303,
   "metadata": {},
   "outputs": [],
   "source": [
    "Y_pred = XGB.predict_proba(X_test)"
   ]
  },
  {
   "cell_type": "code",
   "execution_count": 304,
   "metadata": {},
   "outputs": [
    {
     "data": {
      "text/plain": [
       "(10000, 36)"
      ]
     },
     "execution_count": 304,
     "metadata": {},
     "output_type": "execute_result"
    }
   ],
   "source": [
    "Y_pred.shape"
   ]
  },
  {
   "cell_type": "code",
   "execution_count": 306,
   "metadata": {},
   "outputs": [
    {
     "data": {
      "text/plain": [
       "array(['ARSON', 'ASSAULT', 'BAD CHECKS', 'BRIBERY', 'BURGLARY',\n",
       "       'DISORDERLY CONDUCT', 'DRIVING UNDER THE INFLUENCE',\n",
       "       'DRUG/NARCOTIC', 'DRUNKENNESS', 'EMBEZZLEMENT', 'EXTORTION',\n",
       "       'FAMILY OFFENSES', 'FORGERY/COUNTERFEITING', 'FRAUD', 'GAMBLING',\n",
       "       'KIDNAPPING', 'LARCENY/THEFT', 'LIQUOR LAWS', 'LOITERING',\n",
       "       'MISSING PERSON', 'NON-CRIMINAL', 'OTHER OFFENSES', 'PROSTITUTION',\n",
       "       'RECOVERED VEHICLE', 'ROBBERY', 'RUNAWAY', 'SECONDARY CODES',\n",
       "       'SEX OFFENSES FORCIBLE', 'STOLEN PROPERTY', 'SUICIDE',\n",
       "       'SUSPICIOUS OCC', 'TRESPASS', 'VANDALISM', 'VEHICLE THEFT',\n",
       "       'WARRANTS', 'WEAPON LAWS'], dtype=object)"
      ]
     },
     "execution_count": 306,
     "metadata": {},
     "output_type": "execute_result"
    }
   ],
   "source": [
    "le.classes_"
   ]
  },
  {
   "cell_type": "code",
   "execution_count": 307,
   "metadata": {},
   "outputs": [],
   "source": [
    "df = pd.read_csv(\"test.csv\")\n",
    "Idtest = df['Id']\n",
    "submit = pd.DataFrame(Y_pred,columns = le.classes_)\n",
    "submit['Id'] = Idtest"
   ]
  },
  {
   "cell_type": "code",
   "execution_count": 310,
   "metadata": {},
   "outputs": [],
   "source": [
    "submit.to_csv('dipta_result_XGB_FULL.csv', index=False)"
   ]
  },
  {
   "cell_type": "code",
   "execution_count": 308,
   "metadata": {},
   "outputs": [
    {
     "data": {
      "text/plain": [
       "(10000, 37)"
      ]
     },
     "execution_count": 308,
     "metadata": {},
     "output_type": "execute_result"
    }
   ],
   "source": [
    "submit.shape"
   ]
  },
  {
   "cell_type": "code",
   "execution_count": 284,
   "metadata": {},
   "outputs": [],
   "source": [
    "submit = pd.DataFrame(Y_pred,columns = le.classes_)"
   ]
  },
  {
   "cell_type": "code",
   "execution_count": 309,
   "metadata": {},
   "outputs": [
    {
     "data": {
      "text/html": [
       "<div>\n",
       "<style scoped>\n",
       "    .dataframe tbody tr th:only-of-type {\n",
       "        vertical-align: middle;\n",
       "    }\n",
       "\n",
       "    .dataframe tbody tr th {\n",
       "        vertical-align: top;\n",
       "    }\n",
       "\n",
       "    .dataframe thead th {\n",
       "        text-align: right;\n",
       "    }\n",
       "</style>\n",
       "<table border=\"1\" class=\"dataframe\">\n",
       "  <thead>\n",
       "    <tr style=\"text-align: right;\">\n",
       "      <th></th>\n",
       "      <th>ARSON</th>\n",
       "      <th>ASSAULT</th>\n",
       "      <th>BAD CHECKS</th>\n",
       "      <th>BRIBERY</th>\n",
       "      <th>BURGLARY</th>\n",
       "      <th>DISORDERLY CONDUCT</th>\n",
       "      <th>DRIVING UNDER THE INFLUENCE</th>\n",
       "      <th>DRUG/NARCOTIC</th>\n",
       "      <th>DRUNKENNESS</th>\n",
       "      <th>EMBEZZLEMENT</th>\n",
       "      <th>...</th>\n",
       "      <th>SEX OFFENSES FORCIBLE</th>\n",
       "      <th>STOLEN PROPERTY</th>\n",
       "      <th>SUICIDE</th>\n",
       "      <th>SUSPICIOUS OCC</th>\n",
       "      <th>TRESPASS</th>\n",
       "      <th>VANDALISM</th>\n",
       "      <th>VEHICLE THEFT</th>\n",
       "      <th>WARRANTS</th>\n",
       "      <th>WEAPON LAWS</th>\n",
       "      <th>Id</th>\n",
       "    </tr>\n",
       "  </thead>\n",
       "  <tbody>\n",
       "    <tr>\n",
       "      <th>0</th>\n",
       "      <td>0.000573</td>\n",
       "      <td>0.080195</td>\n",
       "      <td>9.528425e-05</td>\n",
       "      <td>0.000244</td>\n",
       "      <td>0.026345</td>\n",
       "      <td>0.002280</td>\n",
       "      <td>0.000955</td>\n",
       "      <td>0.146336</td>\n",
       "      <td>0.003934</td>\n",
       "      <td>4.601931e-04</td>\n",
       "      <td>...</td>\n",
       "      <td>0.003464</td>\n",
       "      <td>0.004381</td>\n",
       "      <td>3.764105e-04</td>\n",
       "      <td>0.030925</td>\n",
       "      <td>0.008443</td>\n",
       "      <td>0.243373</td>\n",
       "      <td>0.018838</td>\n",
       "      <td>0.061651</td>\n",
       "      <td>0.007710</td>\n",
       "      <td>349598</td>\n",
       "    </tr>\n",
       "    <tr>\n",
       "      <th>1</th>\n",
       "      <td>0.003029</td>\n",
       "      <td>0.234093</td>\n",
       "      <td>4.665454e-04</td>\n",
       "      <td>0.000174</td>\n",
       "      <td>0.048528</td>\n",
       "      <td>0.006917</td>\n",
       "      <td>0.015419</td>\n",
       "      <td>0.049427</td>\n",
       "      <td>0.023545</td>\n",
       "      <td>7.346192e-04</td>\n",
       "      <td>...</td>\n",
       "      <td>0.011911</td>\n",
       "      <td>0.003676</td>\n",
       "      <td>8.703528e-04</td>\n",
       "      <td>0.030481</td>\n",
       "      <td>0.008054</td>\n",
       "      <td>0.059256</td>\n",
       "      <td>0.035115</td>\n",
       "      <td>0.073496</td>\n",
       "      <td>0.013586</td>\n",
       "      <td>766313</td>\n",
       "    </tr>\n",
       "    <tr>\n",
       "      <th>2</th>\n",
       "      <td>0.000764</td>\n",
       "      <td>0.055815</td>\n",
       "      <td>1.858810e-04</td>\n",
       "      <td>0.000102</td>\n",
       "      <td>0.001129</td>\n",
       "      <td>0.002228</td>\n",
       "      <td>0.007779</td>\n",
       "      <td>0.018562</td>\n",
       "      <td>0.007907</td>\n",
       "      <td>2.451452e-04</td>\n",
       "      <td>...</td>\n",
       "      <td>0.007322</td>\n",
       "      <td>0.002665</td>\n",
       "      <td>9.781412e-05</td>\n",
       "      <td>0.014557</td>\n",
       "      <td>0.000959</td>\n",
       "      <td>0.284063</td>\n",
       "      <td>0.015463</td>\n",
       "      <td>0.043066</td>\n",
       "      <td>0.005732</td>\n",
       "      <td>169887</td>\n",
       "    </tr>\n",
       "    <tr>\n",
       "      <th>3</th>\n",
       "      <td>0.000002</td>\n",
       "      <td>0.000202</td>\n",
       "      <td>3.675434e-07</td>\n",
       "      <td>0.000001</td>\n",
       "      <td>0.000016</td>\n",
       "      <td>0.000031</td>\n",
       "      <td>0.000012</td>\n",
       "      <td>0.000229</td>\n",
       "      <td>0.000012</td>\n",
       "      <td>7.932013e-07</td>\n",
       "      <td>...</td>\n",
       "      <td>0.000006</td>\n",
       "      <td>0.000012</td>\n",
       "      <td>4.872506e-07</td>\n",
       "      <td>0.000087</td>\n",
       "      <td>0.000007</td>\n",
       "      <td>0.001544</td>\n",
       "      <td>0.000283</td>\n",
       "      <td>0.000162</td>\n",
       "      <td>0.000045</td>\n",
       "      <td>594704</td>\n",
       "    </tr>\n",
       "    <tr>\n",
       "      <th>4</th>\n",
       "      <td>0.000312</td>\n",
       "      <td>0.034517</td>\n",
       "      <td>6.316795e-05</td>\n",
       "      <td>0.000093</td>\n",
       "      <td>0.003995</td>\n",
       "      <td>0.001168</td>\n",
       "      <td>0.007487</td>\n",
       "      <td>0.028424</td>\n",
       "      <td>0.004872</td>\n",
       "      <td>1.415019e-04</td>\n",
       "      <td>...</td>\n",
       "      <td>0.001424</td>\n",
       "      <td>0.003295</td>\n",
       "      <td>8.013639e-05</td>\n",
       "      <td>0.017771</td>\n",
       "      <td>0.000805</td>\n",
       "      <td>0.267589</td>\n",
       "      <td>0.017549</td>\n",
       "      <td>0.038485</td>\n",
       "      <td>0.003870</td>\n",
       "      <td>47900</td>\n",
       "    </tr>\n",
       "  </tbody>\n",
       "</table>\n",
       "<p>5 rows × 37 columns</p>\n",
       "</div>"
      ],
      "text/plain": [
       "      ARSON   ASSAULT    BAD CHECKS   BRIBERY  BURGLARY  DISORDERLY CONDUCT  \\\n",
       "0  0.000573  0.080195  9.528425e-05  0.000244  0.026345            0.002280   \n",
       "1  0.003029  0.234093  4.665454e-04  0.000174  0.048528            0.006917   \n",
       "2  0.000764  0.055815  1.858810e-04  0.000102  0.001129            0.002228   \n",
       "3  0.000002  0.000202  3.675434e-07  0.000001  0.000016            0.000031   \n",
       "4  0.000312  0.034517  6.316795e-05  0.000093  0.003995            0.001168   \n",
       "\n",
       "   DRIVING UNDER THE INFLUENCE  DRUG/NARCOTIC  DRUNKENNESS  EMBEZZLEMENT  \\\n",
       "0                     0.000955       0.146336     0.003934  4.601931e-04   \n",
       "1                     0.015419       0.049427     0.023545  7.346192e-04   \n",
       "2                     0.007779       0.018562     0.007907  2.451452e-04   \n",
       "3                     0.000012       0.000229     0.000012  7.932013e-07   \n",
       "4                     0.007487       0.028424     0.004872  1.415019e-04   \n",
       "\n",
       "    ...    SEX OFFENSES FORCIBLE  STOLEN PROPERTY       SUICIDE  \\\n",
       "0   ...                 0.003464         0.004381  3.764105e-04   \n",
       "1   ...                 0.011911         0.003676  8.703528e-04   \n",
       "2   ...                 0.007322         0.002665  9.781412e-05   \n",
       "3   ...                 0.000006         0.000012  4.872506e-07   \n",
       "4   ...                 0.001424         0.003295  8.013639e-05   \n",
       "\n",
       "   SUSPICIOUS OCC  TRESPASS  VANDALISM  VEHICLE THEFT  WARRANTS  WEAPON LAWS  \\\n",
       "0        0.030925  0.008443   0.243373       0.018838  0.061651     0.007710   \n",
       "1        0.030481  0.008054   0.059256       0.035115  0.073496     0.013586   \n",
       "2        0.014557  0.000959   0.284063       0.015463  0.043066     0.005732   \n",
       "3        0.000087  0.000007   0.001544       0.000283  0.000162     0.000045   \n",
       "4        0.017771  0.000805   0.267589       0.017549  0.038485     0.003870   \n",
       "\n",
       "       Id  \n",
       "0  349598  \n",
       "1  766313  \n",
       "2  169887  \n",
       "3  594704  \n",
       "4   47900  \n",
       "\n",
       "[5 rows x 37 columns]"
      ]
     },
     "execution_count": 309,
     "metadata": {},
     "output_type": "execute_result"
    }
   ],
   "source": [
    "submit.head()"
   ]
  },
  {
   "cell_type": "code",
   "execution_count": 286,
   "metadata": {},
   "outputs": [
    {
     "data": {
      "text/plain": [
       "array([ 0,  1,  2,  3,  4,  5,  6,  7,  8,  9, 10, 11, 12, 13, 14, 15, 16,\n",
       "       17, 18, 19, 20, 21, 22, 23, 24, 25, 26, 27, 28, 29, 30, 31, 32, 33,\n",
       "       34, 35], dtype=int64)"
      ]
     },
     "execution_count": 286,
     "metadata": {},
     "output_type": "execute_result"
    }
   ],
   "source": [
    "le.classes_"
   ]
  },
  {
   "cell_type": "code",
   "execution_count": null,
   "metadata": {},
   "outputs": [],
   "source": []
  }
 ],
 "metadata": {
  "kernelspec": {
   "display_name": "Python 3",
   "language": "python",
   "name": "python3"
  },
  "language_info": {
   "codemirror_mode": {
    "name": "ipython",
    "version": 3
   },
   "file_extension": ".py",
   "mimetype": "text/x-python",
   "name": "python",
   "nbconvert_exporter": "python",
   "pygments_lexer": "ipython3",
   "version": "3.6.5"
  }
 },
 "nbformat": 4,
 "nbformat_minor": 2
}
