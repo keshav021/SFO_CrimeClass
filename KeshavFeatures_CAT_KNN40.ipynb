{
 "cells": [
  {
   "cell_type": "code",
   "execution_count": 224,
   "metadata": {
    "_uuid": "236c905acc1ddc76d6ffeb14a4df33f89fba1dbd"
   },
   "outputs": [],
   "source": [
    "import numpy as np\n",
    "import pandas as pd\n",
    "from sklearn.preprocessing import LabelEncoder, label_binarize, StandardScaler\n",
    "from sklearn.cross_validation import train_test_split\n",
    "from sklearn.metrics import log_loss"
   ]
  },
  {
   "cell_type": "code",
   "execution_count": 225,
   "metadata": {
    "_uuid": "4c255a07722bcdd9f9450ace97d878897cb2af0f"
   },
   "outputs": [],
   "source": [
    "train= pd.read_csv(\"train.csv\",parse_dates=[\"Dates\"],index_col=False)"
   ]
  },
  {
   "cell_type": "code",
   "execution_count": 226,
   "metadata": {
    "_uuid": "7d481adafe8069b6c43bd8b042fb42ce1ad9f1e3"
   },
   "outputs": [
    {
     "data": {
      "text/html": [
       "<div>\n",
       "<style scoped>\n",
       "    .dataframe tbody tr th:only-of-type {\n",
       "        vertical-align: middle;\n",
       "    }\n",
       "\n",
       "    .dataframe tbody tr th {\n",
       "        vertical-align: top;\n",
       "    }\n",
       "\n",
       "    .dataframe thead th {\n",
       "        text-align: right;\n",
       "    }\n",
       "</style>\n",
       "<table border=\"1\" class=\"dataframe\">\n",
       "  <thead>\n",
       "    <tr style=\"text-align: right;\">\n",
       "      <th></th>\n",
       "      <th>Dates</th>\n",
       "      <th>Category</th>\n",
       "      <th>Descript</th>\n",
       "      <th>DayOfWeek</th>\n",
       "      <th>PdDistrict</th>\n",
       "      <th>Resolution</th>\n",
       "      <th>Address</th>\n",
       "      <th>X</th>\n",
       "      <th>Y</th>\n",
       "      <th>Id</th>\n",
       "    </tr>\n",
       "  </thead>\n",
       "  <tbody>\n",
       "    <tr>\n",
       "      <th>0</th>\n",
       "      <td>2013-06-28 17:40:00</td>\n",
       "      <td>SEX OFFENSES FORCIBLE</td>\n",
       "      <td>FORCIBLE RAPE, BODILY FORCE</td>\n",
       "      <td>Friday</td>\n",
       "      <td>MISSION</td>\n",
       "      <td>NONE</td>\n",
       "      <td>2100 Block of MISSION ST</td>\n",
       "      <td>-122.419331</td>\n",
       "      <td>37.762264</td>\n",
       "      <td>141546</td>\n",
       "    </tr>\n",
       "    <tr>\n",
       "      <th>1</th>\n",
       "      <td>2004-02-19 02:46:00</td>\n",
       "      <td>LIQUOR LAWS</td>\n",
       "      <td>CONSUMING ALCOHOL IN PUBLIC VIEW</td>\n",
       "      <td>Thursday</td>\n",
       "      <td>SOUTHERN</td>\n",
       "      <td>ARREST, BOOKED</td>\n",
       "      <td>1000 Block of MARKET ST</td>\n",
       "      <td>-122.411340</td>\n",
       "      <td>37.781271</td>\n",
       "      <td>794152</td>\n",
       "    </tr>\n",
       "    <tr>\n",
       "      <th>2</th>\n",
       "      <td>2007-11-14 00:01:00</td>\n",
       "      <td>FRAUD</td>\n",
       "      <td>CREDIT CARD, THEFT BY USE OF</td>\n",
       "      <td>Wednesday</td>\n",
       "      <td>SOUTHERN</td>\n",
       "      <td>NONE</td>\n",
       "      <td>800 Block of BRYANT ST</td>\n",
       "      <td>-122.403405</td>\n",
       "      <td>37.775421</td>\n",
       "      <td>531205</td>\n",
       "    </tr>\n",
       "    <tr>\n",
       "      <th>3</th>\n",
       "      <td>2007-12-27 18:30:00</td>\n",
       "      <td>ROBBERY</td>\n",
       "      <td>ROBBERY OF A CHAIN STORE WITH A GUN</td>\n",
       "      <td>Thursday</td>\n",
       "      <td>BAYVIEW</td>\n",
       "      <td>DISTRICT ATTORNEY REFUSES TO PROSECUTE</td>\n",
       "      <td>2400 Block of SAN BRUNO AV</td>\n",
       "      <td>-122.404715</td>\n",
       "      <td>37.730161</td>\n",
       "      <td>523137</td>\n",
       "    </tr>\n",
       "    <tr>\n",
       "      <th>4</th>\n",
       "      <td>2012-09-09 17:02:00</td>\n",
       "      <td>OTHER OFFENSES</td>\n",
       "      <td>PROBATION VIOLATION</td>\n",
       "      <td>Sunday</td>\n",
       "      <td>SOUTHERN</td>\n",
       "      <td>ARREST, BOOKED</td>\n",
       "      <td>4TH ST / STEVENSON ST</td>\n",
       "      <td>-122.405239</td>\n",
       "      <td>37.785265</td>\n",
       "      <td>200968</td>\n",
       "    </tr>\n",
       "  </tbody>\n",
       "</table>\n",
       "</div>"
      ],
      "text/plain": [
       "                Dates               Category  \\\n",
       "0 2013-06-28 17:40:00  SEX OFFENSES FORCIBLE   \n",
       "1 2004-02-19 02:46:00            LIQUOR LAWS   \n",
       "2 2007-11-14 00:01:00                  FRAUD   \n",
       "3 2007-12-27 18:30:00                ROBBERY   \n",
       "4 2012-09-09 17:02:00         OTHER OFFENSES   \n",
       "\n",
       "                              Descript  DayOfWeek PdDistrict  \\\n",
       "0          FORCIBLE RAPE, BODILY FORCE     Friday    MISSION   \n",
       "1     CONSUMING ALCOHOL IN PUBLIC VIEW   Thursday   SOUTHERN   \n",
       "2         CREDIT CARD, THEFT BY USE OF  Wednesday   SOUTHERN   \n",
       "3  ROBBERY OF A CHAIN STORE WITH A GUN   Thursday    BAYVIEW   \n",
       "4                  PROBATION VIOLATION     Sunday   SOUTHERN   \n",
       "\n",
       "                               Resolution                     Address  \\\n",
       "0                                    NONE    2100 Block of MISSION ST   \n",
       "1                          ARREST, BOOKED     1000 Block of MARKET ST   \n",
       "2                                    NONE      800 Block of BRYANT ST   \n",
       "3  DISTRICT ATTORNEY REFUSES TO PROSECUTE  2400 Block of SAN BRUNO AV   \n",
       "4                          ARREST, BOOKED       4TH ST / STEVENSON ST   \n",
       "\n",
       "            X          Y      Id  \n",
       "0 -122.419331  37.762264  141546  \n",
       "1 -122.411340  37.781271  794152  \n",
       "2 -122.403405  37.775421  531205  \n",
       "3 -122.404715  37.730161  523137  \n",
       "4 -122.405239  37.785265  200968  "
      ]
     },
     "execution_count": 226,
     "metadata": {},
     "output_type": "execute_result"
    }
   ],
   "source": [
    "train.head()"
   ]
  },
  {
   "cell_type": "code",
   "execution_count": 227,
   "metadata": {
    "_uuid": "8ef396a3c80a542f24d77d8def43e11cada0b9f5"
   },
   "outputs": [],
   "source": [
    "train = train.drop([\"Descript\",\"Resolution\"],axis=1)"
   ]
  },
  {
   "cell_type": "code",
   "execution_count": 228,
   "metadata": {
    "_uuid": "acf7e519b9c6c0e3a23b2295ee29209bc24be500"
   },
   "outputs": [],
   "source": [
    "def datesplit(data):\n",
    "    data[\"Year\"] = data[\"Dates\"].dt.year\n",
    "    data[\"Month\"] = data[\"Dates\"].dt.month\n",
    "    data[\"Day\"] = data[\"Dates\"].dt.day\n",
    "    data[\"Hour\"] = data[\"Dates\"].dt.hour\n",
    "    data[\"Minute\"] = data[\"Dates\"].dt.minute\n",
    "    return data"
   ]
  },
  {
   "cell_type": "code",
   "execution_count": 229,
   "metadata": {
    "_uuid": "beb085e46d0d9f68575e9ae7508766ee4d300937"
   },
   "outputs": [],
   "source": [
    "train= datesplit(train)"
   ]
  },
  {
   "cell_type": "code",
   "execution_count": 230,
   "metadata": {
    "_uuid": "b4c1a3bddbfecc6b8e82e37a89a2f1fa38feb9bf"
   },
   "outputs": [
    {
     "data": {
      "text/html": [
       "<div>\n",
       "<style scoped>\n",
       "    .dataframe tbody tr th:only-of-type {\n",
       "        vertical-align: middle;\n",
       "    }\n",
       "\n",
       "    .dataframe tbody tr th {\n",
       "        vertical-align: top;\n",
       "    }\n",
       "\n",
       "    .dataframe thead th {\n",
       "        text-align: right;\n",
       "    }\n",
       "</style>\n",
       "<table border=\"1\" class=\"dataframe\">\n",
       "  <thead>\n",
       "    <tr style=\"text-align: right;\">\n",
       "      <th></th>\n",
       "      <th>Dates</th>\n",
       "      <th>Category</th>\n",
       "      <th>DayOfWeek</th>\n",
       "      <th>PdDistrict</th>\n",
       "      <th>Address</th>\n",
       "      <th>X</th>\n",
       "      <th>Y</th>\n",
       "      <th>Id</th>\n",
       "      <th>Year</th>\n",
       "      <th>Month</th>\n",
       "      <th>Day</th>\n",
       "      <th>Hour</th>\n",
       "      <th>Minute</th>\n",
       "    </tr>\n",
       "  </thead>\n",
       "  <tbody>\n",
       "    <tr>\n",
       "      <th>0</th>\n",
       "      <td>2013-06-28 17:40:00</td>\n",
       "      <td>SEX OFFENSES FORCIBLE</td>\n",
       "      <td>Friday</td>\n",
       "      <td>MISSION</td>\n",
       "      <td>2100 Block of MISSION ST</td>\n",
       "      <td>-122.419331</td>\n",
       "      <td>37.762264</td>\n",
       "      <td>141546</td>\n",
       "      <td>2013</td>\n",
       "      <td>6</td>\n",
       "      <td>28</td>\n",
       "      <td>17</td>\n",
       "      <td>40</td>\n",
       "    </tr>\n",
       "    <tr>\n",
       "      <th>1</th>\n",
       "      <td>2004-02-19 02:46:00</td>\n",
       "      <td>LIQUOR LAWS</td>\n",
       "      <td>Thursday</td>\n",
       "      <td>SOUTHERN</td>\n",
       "      <td>1000 Block of MARKET ST</td>\n",
       "      <td>-122.411340</td>\n",
       "      <td>37.781271</td>\n",
       "      <td>794152</td>\n",
       "      <td>2004</td>\n",
       "      <td>2</td>\n",
       "      <td>19</td>\n",
       "      <td>2</td>\n",
       "      <td>46</td>\n",
       "    </tr>\n",
       "    <tr>\n",
       "      <th>2</th>\n",
       "      <td>2007-11-14 00:01:00</td>\n",
       "      <td>FRAUD</td>\n",
       "      <td>Wednesday</td>\n",
       "      <td>SOUTHERN</td>\n",
       "      <td>800 Block of BRYANT ST</td>\n",
       "      <td>-122.403405</td>\n",
       "      <td>37.775421</td>\n",
       "      <td>531205</td>\n",
       "      <td>2007</td>\n",
       "      <td>11</td>\n",
       "      <td>14</td>\n",
       "      <td>0</td>\n",
       "      <td>1</td>\n",
       "    </tr>\n",
       "    <tr>\n",
       "      <th>3</th>\n",
       "      <td>2007-12-27 18:30:00</td>\n",
       "      <td>ROBBERY</td>\n",
       "      <td>Thursday</td>\n",
       "      <td>BAYVIEW</td>\n",
       "      <td>2400 Block of SAN BRUNO AV</td>\n",
       "      <td>-122.404715</td>\n",
       "      <td>37.730161</td>\n",
       "      <td>523137</td>\n",
       "      <td>2007</td>\n",
       "      <td>12</td>\n",
       "      <td>27</td>\n",
       "      <td>18</td>\n",
       "      <td>30</td>\n",
       "    </tr>\n",
       "    <tr>\n",
       "      <th>4</th>\n",
       "      <td>2012-09-09 17:02:00</td>\n",
       "      <td>OTHER OFFENSES</td>\n",
       "      <td>Sunday</td>\n",
       "      <td>SOUTHERN</td>\n",
       "      <td>4TH ST / STEVENSON ST</td>\n",
       "      <td>-122.405239</td>\n",
       "      <td>37.785265</td>\n",
       "      <td>200968</td>\n",
       "      <td>2012</td>\n",
       "      <td>9</td>\n",
       "      <td>9</td>\n",
       "      <td>17</td>\n",
       "      <td>2</td>\n",
       "    </tr>\n",
       "  </tbody>\n",
       "</table>\n",
       "</div>"
      ],
      "text/plain": [
       "                Dates               Category  DayOfWeek PdDistrict  \\\n",
       "0 2013-06-28 17:40:00  SEX OFFENSES FORCIBLE     Friday    MISSION   \n",
       "1 2004-02-19 02:46:00            LIQUOR LAWS   Thursday   SOUTHERN   \n",
       "2 2007-11-14 00:01:00                  FRAUD  Wednesday   SOUTHERN   \n",
       "3 2007-12-27 18:30:00                ROBBERY   Thursday    BAYVIEW   \n",
       "4 2012-09-09 17:02:00         OTHER OFFENSES     Sunday   SOUTHERN   \n",
       "\n",
       "                      Address           X          Y      Id  Year  Month  \\\n",
       "0    2100 Block of MISSION ST -122.419331  37.762264  141546  2013      6   \n",
       "1     1000 Block of MARKET ST -122.411340  37.781271  794152  2004      2   \n",
       "2      800 Block of BRYANT ST -122.403405  37.775421  531205  2007     11   \n",
       "3  2400 Block of SAN BRUNO AV -122.404715  37.730161  523137  2007     12   \n",
       "4       4TH ST / STEVENSON ST -122.405239  37.785265  200968  2012      9   \n",
       "\n",
       "   Day  Hour  Minute  \n",
       "0   28    17      40  \n",
       "1   19     2      46  \n",
       "2   14     0       1  \n",
       "3   27    18      30  \n",
       "4    9    17       2  "
      ]
     },
     "execution_count": 230,
     "metadata": {},
     "output_type": "execute_result"
    }
   ],
   "source": [
    "train.head()"
   ]
  },
  {
   "cell_type": "code",
   "execution_count": 231,
   "metadata": {
    "_uuid": "4f41257c23ec52d40eca6ab306b471c55f119599"
   },
   "outputs": [],
   "source": [
    "#train = pd.concat([train,pd.get_dummies(train.Category)], axis=1)"
   ]
  },
  {
   "cell_type": "code",
   "execution_count": 232,
   "metadata": {
    "_uuid": "2d734ef0b37da9d2fc14ecd41d8c2c572c140317"
   },
   "outputs": [
    {
     "data": {
      "text/plain": [
       "(36,)"
      ]
     },
     "execution_count": 232,
     "metadata": {},
     "output_type": "execute_result"
    }
   ],
   "source": [
    "cat_encoder=LabelEncoder()\n",
    "cat_encoder.fit(train[\"Category\"])\n",
    "cat_encoder.classes_.shape"
   ]
  },
  {
   "cell_type": "code",
   "execution_count": 233,
   "metadata": {
    "_uuid": "0a91ba32385e2f91600b4f279bc65346c993fff1"
   },
   "outputs": [],
   "source": [
    "train[\"CategoryEncoded\"] = cat_encoder.transform(train[\"Category\"])"
   ]
  },
  {
   "cell_type": "code",
   "execution_count": 234,
   "metadata": {
    "_uuid": "c817d956b28ba038fb289fcb98d826ef39b29a8a"
   },
   "outputs": [
    {
     "data": {
      "text/plain": [
       "0    27\n",
       "1    17\n",
       "2    13\n",
       "3    24\n",
       "4    21\n",
       "Name: CategoryEncoded, dtype: int64"
      ]
     },
     "execution_count": 234,
     "metadata": {},
     "output_type": "execute_result"
    }
   ],
   "source": [
    "train[\"CategoryEncoded\"].head()"
   ]
  },
  {
   "cell_type": "code",
   "execution_count": 235,
   "metadata": {
    "_uuid": "92683df4f4e2884261871aaedc8ed5962daf5076"
   },
   "outputs": [],
   "source": [
    "train[\"Category\"] = train[\"CategoryEncoded\"]"
   ]
  },
  {
   "cell_type": "code",
   "execution_count": 236,
   "metadata": {
    "_uuid": "20bda17db0c88fc5e2758d432ea8b86777db4167"
   },
   "outputs": [],
   "source": [
    "train = pd.concat([train,pd.get_dummies(train.PdDistrict)], axis=1)\n",
    "train = pd.concat([train,pd.get_dummies(train.DayOfWeek)], axis=1)"
   ]
  },
  {
   "cell_type": "code",
   "execution_count": 237,
   "metadata": {
    "_uuid": "3354b32d8d64fe5bb8d5f7e4ca21e31433f40be4"
   },
   "outputs": [],
   "source": [
    "add_encoder = LabelEncoder()"
   ]
  },
  {
   "cell_type": "code",
   "execution_count": 238,
   "metadata": {
    "_uuid": "9d4f33fae128473e13e35178a0a4828b273e8859"
   },
   "outputs": [],
   "source": [
    "train['StreetNo'] = train['Address'].apply(lambda x: x.split(' ', 1)[0] if x.split(' ', 1)[0].isdigit() else 0)\n",
    "train[\"Intersection\"]= train[\"Address\"].apply(lambda x: 1 if \"/\" in x else 0)\n",
    "train['Address'] = train['Address'].apply(lambda x: x.split(' ', 1)[1] if x.split(' ', 1)[0].isdigit() else x)\n",
    "add_encoder.fit(train[\"Address\"])\n",
    "train[\"Address\"]= add_encoder.transform(train[\"Address\"])"
   ]
  },
  {
   "cell_type": "code",
   "execution_count": 239,
   "metadata": {
    "_uuid": "d6acb381108e414aa3b6adc225d77205cf10ecc5"
   },
   "outputs": [],
   "source": [
    "train[\"Morning\"] = train[\"Hour\"].apply(lambda x: 1 if x>= 6 and x < 12 else 0)\n",
    "train[\"Noon\"] = train[\"Hour\"].apply(lambda x: 1 if x>= 12 and x < 17 else 0)\n",
    "train[\"Evening\"] = train[\"Hour\"].apply(lambda x: 1 if x>= 17 and x < 20 else 0)\n",
    "train[\"Night\"] = train[\"Hour\"].apply(lambda x: 1 if x >= 20 or x < 6 else 0)\n",
    "train[\"Fall\"] = train[\"Month\"].apply(lambda x: 1 if x>=3 and x <=5 else 0)\n",
    "train[\"Winter\"] = train[\"Month\"].apply(lambda x: 1 if x>=6 and x <=8 else 0)\n",
    "train[\"Spring\"] = train[\"Month\"].apply(lambda x: 1 if x>=9 and x <=11 else 0)\n",
    "train[\"Summer\"] = train[\"Month\"].apply(lambda x: 1 if x>=12 or x <=2 else 0)"
   ]
  },
  {
   "cell_type": "code",
   "execution_count": 240,
   "metadata": {
    "_uuid": "801edce4e06482302d8f7e18ee33e7acc3ae8c88"
   },
   "outputs": [
    {
     "data": {
      "text/plain": [
       "(867873, 41)"
      ]
     },
     "execution_count": 240,
     "metadata": {},
     "output_type": "execute_result"
    }
   ],
   "source": [
    "train.shape"
   ]
  },
  {
   "cell_type": "code",
   "execution_count": 241,
   "metadata": {
    "_uuid": "575bdc004fbe415b4026e3d43001f1c966dc87ac",
    "scrolled": true
   },
   "outputs": [
    {
     "name": "stdout",
     "output_type": "stream",
     "text": [
      "['Dates', 'Category', 'DayOfWeek', 'PdDistrict', 'Address', 'X', 'Y', 'Id', 'Year', 'Month', 'Day', 'Hour', 'Minute', 'CategoryEncoded', 'BAYVIEW', 'CENTRAL', 'INGLESIDE', 'MISSION', 'NORTHERN', 'PARK', 'RICHMOND', 'SOUTHERN', 'TARAVAL', 'TENDERLOIN', 'Friday', 'Monday', 'Saturday', 'Sunday', 'Thursday', 'Tuesday', 'Wednesday', 'StreetNo', 'Intersection', 'Morning', 'Noon', 'Evening', 'Night', 'Fall', 'Winter', 'Spring', 'Summer']\n"
     ]
    }
   ],
   "source": [
    "train_columns = list(train.columns.values)\n",
    "print(train_columns)"
   ]
  },
  {
   "cell_type": "code",
   "execution_count": 242,
   "metadata": {
    "_uuid": "1782ee8bdd890b22382dfdcf784561590a38ef33"
   },
   "outputs": [],
   "source": [
    "train = train.drop([\"CategoryEncoded\",\"DayOfWeek\"], axis=1)"
   ]
  },
  {
   "cell_type": "code",
   "execution_count": 243,
   "metadata": {
    "_uuid": "463984beb9b9493c5dd551dcfc15b3b3ad1f6d2e"
   },
   "outputs": [],
   "source": [
    "train = train.drop([\"PdDistrict\"],axis=1)"
   ]
  },
  {
   "cell_type": "code",
   "execution_count": 244,
   "metadata": {
    "_uuid": "e58e7881d187566d3d45aab043a8cd300f204a52"
   },
   "outputs": [],
   "source": [
    "train = train.drop([\"Dates\"],axis=1)"
   ]
  },
  {
   "cell_type": "code",
   "execution_count": 245,
   "metadata": {
    "_uuid": "60675ee192fae065d319802cb716116930ef679e"
   },
   "outputs": [],
   "source": [
    "train['StreetNo'] = train['StreetNo'].astype(int)"
   ]
  },
  {
   "cell_type": "code",
   "execution_count": 246,
   "metadata": {
    "_uuid": "13eaa04d2801df42f4071fd5bb0e0cb175b88c8c"
   },
   "outputs": [
    {
     "name": "stdout",
     "output_type": "stream",
     "text": [
      "<class 'pandas.core.frame.DataFrame'>\n",
      "RangeIndex: 867873 entries, 0 to 867872\n",
      "Data columns (total 37 columns):\n",
      "Category        867873 non-null int64\n",
      "Address         867873 non-null int64\n",
      "X               867873 non-null float64\n",
      "Y               867873 non-null float64\n",
      "Id              867873 non-null int64\n",
      "Year            867873 non-null int64\n",
      "Month           867873 non-null int64\n",
      "Day             867873 non-null int64\n",
      "Hour            867873 non-null int64\n",
      "Minute          867873 non-null int64\n",
      "BAYVIEW         867873 non-null uint8\n",
      "CENTRAL         867873 non-null uint8\n",
      "INGLESIDE       867873 non-null uint8\n",
      "MISSION         867873 non-null uint8\n",
      "NORTHERN        867873 non-null uint8\n",
      "PARK            867873 non-null uint8\n",
      "RICHMOND        867873 non-null uint8\n",
      "SOUTHERN        867873 non-null uint8\n",
      "TARAVAL         867873 non-null uint8\n",
      "TENDERLOIN      867873 non-null uint8\n",
      "Friday          867873 non-null uint8\n",
      "Monday          867873 non-null uint8\n",
      "Saturday        867873 non-null uint8\n",
      "Sunday          867873 non-null uint8\n",
      "Thursday        867873 non-null uint8\n",
      "Tuesday         867873 non-null uint8\n",
      "Wednesday       867873 non-null uint8\n",
      "StreetNo        867873 non-null int32\n",
      "Intersection    867873 non-null int64\n",
      "Morning         867873 non-null int64\n",
      "Noon            867873 non-null int64\n",
      "Evening         867873 non-null int64\n",
      "Night           867873 non-null int64\n",
      "Fall            867873 non-null int64\n",
      "Winter          867873 non-null int64\n",
      "Spring          867873 non-null int64\n",
      "Summer          867873 non-null int64\n",
      "dtypes: float64(2), int32(1), int64(17), uint8(17)\n",
      "memory usage: 143.2 MB\n"
     ]
    }
   ],
   "source": [
    "train.info()"
   ]
  },
  {
   "cell_type": "code",
   "execution_count": 247,
   "metadata": {
    "_uuid": "7a7613858e9f4dc3c4871c3e5dad4a74d24ec5b7"
   },
   "outputs": [],
   "source": [
    "training,validation = train_test_split(train, train_size=0.80,random_state=51)"
   ]
  },
  {
   "cell_type": "code",
   "execution_count": 248,
   "metadata": {
    "_uuid": "af5e6224cc29cd2b0ad63ae23b20235954c50d5a"
   },
   "outputs": [],
   "source": [
    "#train = train.drop([\"Category\"],axis=1)"
   ]
  },
  {
   "cell_type": "code",
   "execution_count": 249,
   "metadata": {
    "_uuid": "12cc4f9aa835495335c65c4f4156629fd5878adb"
   },
   "outputs": [],
   "source": [
    "from catboost import CatBoostClassifier"
   ]
  },
  {
   "cell_type": "code",
   "execution_count": 250,
   "metadata": {
    "_uuid": "5b7bc805bce0774fdf427e1168b228522f5f4f3e"
   },
   "outputs": [],
   "source": [
    "model=CatBoostClassifier(iterations=100, depth=5, learning_rate=0.01, loss_function='MultiClass')"
   ]
  },
  {
   "cell_type": "code",
   "execution_count": 251,
   "metadata": {
    "_uuid": "bcee044b138ac42c08b108e40f1241774341f311"
   },
   "outputs": [
    {
     "data": {
      "text/html": [
       "<div>\n",
       "<style scoped>\n",
       "    .dataframe tbody tr th:only-of-type {\n",
       "        vertical-align: middle;\n",
       "    }\n",
       "\n",
       "    .dataframe tbody tr th {\n",
       "        vertical-align: top;\n",
       "    }\n",
       "\n",
       "    .dataframe thead th {\n",
       "        text-align: right;\n",
       "    }\n",
       "</style>\n",
       "<table border=\"1\" class=\"dataframe\">\n",
       "  <thead>\n",
       "    <tr style=\"text-align: right;\">\n",
       "      <th></th>\n",
       "      <th>Category</th>\n",
       "      <th>Address</th>\n",
       "      <th>X</th>\n",
       "      <th>Y</th>\n",
       "      <th>Id</th>\n",
       "      <th>Year</th>\n",
       "      <th>Month</th>\n",
       "      <th>Day</th>\n",
       "      <th>Hour</th>\n",
       "      <th>Minute</th>\n",
       "      <th>...</th>\n",
       "      <th>StreetNo</th>\n",
       "      <th>Intersection</th>\n",
       "      <th>Morning</th>\n",
       "      <th>Noon</th>\n",
       "      <th>Evening</th>\n",
       "      <th>Night</th>\n",
       "      <th>Fall</th>\n",
       "      <th>Winter</th>\n",
       "      <th>Spring</th>\n",
       "      <th>Summer</th>\n",
       "    </tr>\n",
       "  </thead>\n",
       "  <tbody>\n",
       "    <tr>\n",
       "      <th>0</th>\n",
       "      <td>27</td>\n",
       "      <td>4423</td>\n",
       "      <td>-122.419331</td>\n",
       "      <td>37.762264</td>\n",
       "      <td>141546</td>\n",
       "      <td>2013</td>\n",
       "      <td>6</td>\n",
       "      <td>28</td>\n",
       "      <td>17</td>\n",
       "      <td>40</td>\n",
       "      <td>...</td>\n",
       "      <td>2100</td>\n",
       "      <td>0</td>\n",
       "      <td>0</td>\n",
       "      <td>0</td>\n",
       "      <td>1</td>\n",
       "      <td>0</td>\n",
       "      <td>0</td>\n",
       "      <td>1</td>\n",
       "      <td>0</td>\n",
       "      <td>0</td>\n",
       "    </tr>\n",
       "    <tr>\n",
       "      <th>1</th>\n",
       "      <td>17</td>\n",
       "      <td>4354</td>\n",
       "      <td>-122.411340</td>\n",
       "      <td>37.781271</td>\n",
       "      <td>794152</td>\n",
       "      <td>2004</td>\n",
       "      <td>2</td>\n",
       "      <td>19</td>\n",
       "      <td>2</td>\n",
       "      <td>46</td>\n",
       "      <td>...</td>\n",
       "      <td>1000</td>\n",
       "      <td>0</td>\n",
       "      <td>0</td>\n",
       "      <td>0</td>\n",
       "      <td>0</td>\n",
       "      <td>1</td>\n",
       "      <td>0</td>\n",
       "      <td>0</td>\n",
       "      <td>0</td>\n",
       "      <td>1</td>\n",
       "    </tr>\n",
       "    <tr>\n",
       "      <th>2</th>\n",
       "      <td>13</td>\n",
       "      <td>3493</td>\n",
       "      <td>-122.403405</td>\n",
       "      <td>37.775421</td>\n",
       "      <td>531205</td>\n",
       "      <td>2007</td>\n",
       "      <td>11</td>\n",
       "      <td>14</td>\n",
       "      <td>0</td>\n",
       "      <td>1</td>\n",
       "      <td>...</td>\n",
       "      <td>800</td>\n",
       "      <td>0</td>\n",
       "      <td>0</td>\n",
       "      <td>0</td>\n",
       "      <td>0</td>\n",
       "      <td>1</td>\n",
       "      <td>0</td>\n",
       "      <td>0</td>\n",
       "      <td>1</td>\n",
       "      <td>0</td>\n",
       "    </tr>\n",
       "    <tr>\n",
       "      <th>3</th>\n",
       "      <td>24</td>\n",
       "      <td>4773</td>\n",
       "      <td>-122.404715</td>\n",
       "      <td>37.730161</td>\n",
       "      <td>523137</td>\n",
       "      <td>2007</td>\n",
       "      <td>12</td>\n",
       "      <td>27</td>\n",
       "      <td>18</td>\n",
       "      <td>30</td>\n",
       "      <td>...</td>\n",
       "      <td>2400</td>\n",
       "      <td>0</td>\n",
       "      <td>0</td>\n",
       "      <td>0</td>\n",
       "      <td>1</td>\n",
       "      <td>0</td>\n",
       "      <td>0</td>\n",
       "      <td>0</td>\n",
       "      <td>0</td>\n",
       "      <td>1</td>\n",
       "    </tr>\n",
       "    <tr>\n",
       "      <th>4</th>\n",
       "      <td>21</td>\n",
       "      <td>1760</td>\n",
       "      <td>-122.405239</td>\n",
       "      <td>37.785265</td>\n",
       "      <td>200968</td>\n",
       "      <td>2012</td>\n",
       "      <td>9</td>\n",
       "      <td>9</td>\n",
       "      <td>17</td>\n",
       "      <td>2</td>\n",
       "      <td>...</td>\n",
       "      <td>0</td>\n",
       "      <td>1</td>\n",
       "      <td>0</td>\n",
       "      <td>0</td>\n",
       "      <td>1</td>\n",
       "      <td>0</td>\n",
       "      <td>0</td>\n",
       "      <td>0</td>\n",
       "      <td>1</td>\n",
       "      <td>0</td>\n",
       "    </tr>\n",
       "  </tbody>\n",
       "</table>\n",
       "<p>5 rows × 37 columns</p>\n",
       "</div>"
      ],
      "text/plain": [
       "   Category  Address           X          Y      Id  Year  Month  Day  Hour  \\\n",
       "0        27     4423 -122.419331  37.762264  141546  2013      6   28    17   \n",
       "1        17     4354 -122.411340  37.781271  794152  2004      2   19     2   \n",
       "2        13     3493 -122.403405  37.775421  531205  2007     11   14     0   \n",
       "3        24     4773 -122.404715  37.730161  523137  2007     12   27    18   \n",
       "4        21     1760 -122.405239  37.785265  200968  2012      9    9    17   \n",
       "\n",
       "   Minute   ...    StreetNo  Intersection  Morning  Noon  Evening  Night  \\\n",
       "0      40   ...        2100             0        0     0        1      0   \n",
       "1      46   ...        1000             0        0     0        0      1   \n",
       "2       1   ...         800             0        0     0        0      1   \n",
       "3      30   ...        2400             0        0     0        1      0   \n",
       "4       2   ...           0             1        0     0        1      0   \n",
       "\n",
       "   Fall  Winter  Spring  Summer  \n",
       "0     0       1       0       0  \n",
       "1     0       0       0       1  \n",
       "2     0       0       1       0  \n",
       "3     0       0       0       1  \n",
       "4     0       0       1       0  \n",
       "\n",
       "[5 rows x 37 columns]"
      ]
     },
     "execution_count": 251,
     "metadata": {},
     "output_type": "execute_result"
    }
   ],
   "source": [
    "train.head()"
   ]
  },
  {
   "cell_type": "code",
   "execution_count": 252,
   "metadata": {
    "_uuid": "b5b05f1d877da70ace305bb092a5cc11ea230d06"
   },
   "outputs": [],
   "source": [
    "train.columns\n",
    "features=[ 'Address', 'X', 'Y', 'Year', 'Month', 'Day', 'Hour',\n",
    "       'Minute', 'BAYVIEW', 'CENTRAL', 'INGLESIDE', 'MISSION', 'NORTHERN',\n",
    "       'PARK', 'RICHMOND', 'SOUTHERN', 'TARAVAL', 'TENDERLOIN', 'Friday',\n",
    "       'Monday', 'Saturday', 'Sunday', 'Thursday', 'Tuesday', 'Wednesday',\n",
    "       'StreetNo', 'Intersection', 'Morning', 'Noon', 'Evening', 'Night',\n",
    "       'Fall', 'Winter', 'Spring', 'Summer']\n"
   ]
  },
  {
   "cell_type": "code",
   "execution_count": 253,
   "metadata": {
    "_uuid": "b0f0e71d27bb8e6526773341472caae72016cfb4"
   },
   "outputs": [],
   "source": [
    "test=pd.read_csv(\"test.csv\",parse_dates=[\"Dates\"],index_col=False)"
   ]
  },
  {
   "cell_type": "code",
   "execution_count": 254,
   "metadata": {
    "_uuid": "cde7fa788046a47000186320b7784e6191b7bfcd"
   },
   "outputs": [
    {
     "data": {
      "text/html": [
       "<div>\n",
       "<style scoped>\n",
       "    .dataframe tbody tr th:only-of-type {\n",
       "        vertical-align: middle;\n",
       "    }\n",
       "\n",
       "    .dataframe tbody tr th {\n",
       "        vertical-align: top;\n",
       "    }\n",
       "\n",
       "    .dataframe thead th {\n",
       "        text-align: right;\n",
       "    }\n",
       "</style>\n",
       "<table border=\"1\" class=\"dataframe\">\n",
       "  <thead>\n",
       "    <tr style=\"text-align: right;\">\n",
       "      <th></th>\n",
       "      <th>Dates</th>\n",
       "      <th>Descript</th>\n",
       "      <th>DayOfWeek</th>\n",
       "      <th>PdDistrict</th>\n",
       "      <th>Resolution</th>\n",
       "      <th>Address</th>\n",
       "      <th>X</th>\n",
       "      <th>Y</th>\n",
       "      <th>Id</th>\n",
       "    </tr>\n",
       "  </thead>\n",
       "  <tbody>\n",
       "    <tr>\n",
       "      <th>0</th>\n",
       "      <td>2010-07-04 23:00:00</td>\n",
       "      <td>ATTEMPTED GRAND THEFT FROM PERSON</td>\n",
       "      <td>Sunday</td>\n",
       "      <td>TENDERLOIN</td>\n",
       "      <td>NONE</td>\n",
       "      <td>100 Block of POWELL ST</td>\n",
       "      <td>-122.407878</td>\n",
       "      <td>37.785968</td>\n",
       "      <td>349598</td>\n",
       "    </tr>\n",
       "    <tr>\n",
       "      <th>1</th>\n",
       "      <td>2004-06-26 22:43:00</td>\n",
       "      <td>BATTERY OF A POLICE OFFICER</td>\n",
       "      <td>Saturday</td>\n",
       "      <td>PARK</td>\n",
       "      <td>ARREST, BOOKED</td>\n",
       "      <td>2400 Block of GEARY BL</td>\n",
       "      <td>-122.443597</td>\n",
       "      <td>37.782644</td>\n",
       "      <td>766313</td>\n",
       "    </tr>\n",
       "    <tr>\n",
       "      <th>2</th>\n",
       "      <td>2013-02-09 21:26:00</td>\n",
       "      <td>VIOLATION OF MUNICIPAL CODE</td>\n",
       "      <td>Saturday</td>\n",
       "      <td>SOUTHERN</td>\n",
       "      <td>ARREST, CITED</td>\n",
       "      <td>HOWARD ST / 3RD ST</td>\n",
       "      <td>-122.400474</td>\n",
       "      <td>37.785029</td>\n",
       "      <td>169887</td>\n",
       "    </tr>\n",
       "    <tr>\n",
       "      <th>3</th>\n",
       "      <td>2006-12-03 22:30:00</td>\n",
       "      <td>POSS OF PROHIBITED WEAPON</td>\n",
       "      <td>Sunday</td>\n",
       "      <td>NORTHERN</td>\n",
       "      <td>ARREST, CITED</td>\n",
       "      <td>VANNESS AV / HAYES ST</td>\n",
       "      <td>-122.419698</td>\n",
       "      <td>37.777301</td>\n",
       "      <td>594704</td>\n",
       "    </tr>\n",
       "    <tr>\n",
       "      <th>4</th>\n",
       "      <td>2014-09-21 08:45:00</td>\n",
       "      <td>PETTY THEFT FROM UNLOCKED AUTO</td>\n",
       "      <td>Sunday</td>\n",
       "      <td>PARK</td>\n",
       "      <td>NONE</td>\n",
       "      <td>BEULAH ST / SHRADER ST</td>\n",
       "      <td>-122.451488</td>\n",
       "      <td>37.767516</td>\n",
       "      <td>47900</td>\n",
       "    </tr>\n",
       "  </tbody>\n",
       "</table>\n",
       "</div>"
      ],
      "text/plain": [
       "                Dates                           Descript DayOfWeek  \\\n",
       "0 2010-07-04 23:00:00  ATTEMPTED GRAND THEFT FROM PERSON    Sunday   \n",
       "1 2004-06-26 22:43:00        BATTERY OF A POLICE OFFICER  Saturday   \n",
       "2 2013-02-09 21:26:00        VIOLATION OF MUNICIPAL CODE  Saturday   \n",
       "3 2006-12-03 22:30:00          POSS OF PROHIBITED WEAPON    Sunday   \n",
       "4 2014-09-21 08:45:00     PETTY THEFT FROM UNLOCKED AUTO    Sunday   \n",
       "\n",
       "   PdDistrict      Resolution                 Address           X          Y  \\\n",
       "0  TENDERLOIN            NONE  100 Block of POWELL ST -122.407878  37.785968   \n",
       "1        PARK  ARREST, BOOKED  2400 Block of GEARY BL -122.443597  37.782644   \n",
       "2    SOUTHERN   ARREST, CITED      HOWARD ST / 3RD ST -122.400474  37.785029   \n",
       "3    NORTHERN   ARREST, CITED   VANNESS AV / HAYES ST -122.419698  37.777301   \n",
       "4        PARK            NONE  BEULAH ST / SHRADER ST -122.451488  37.767516   \n",
       "\n",
       "       Id  \n",
       "0  349598  \n",
       "1  766313  \n",
       "2  169887  \n",
       "3  594704  \n",
       "4   47900  "
      ]
     },
     "execution_count": 254,
     "metadata": {},
     "output_type": "execute_result"
    }
   ],
   "source": [
    "test.head()"
   ]
  },
  {
   "cell_type": "code",
   "execution_count": 255,
   "metadata": {
    "_uuid": "a14c885451b1f69773f25e01a7815f493a297fd6"
   },
   "outputs": [],
   "source": [
    "test = test.drop([\"Descript\",\"Resolution\"],axis=1)"
   ]
  },
  {
   "cell_type": "code",
   "execution_count": 256,
   "metadata": {
    "_uuid": "621f43a6cc2cdec42674453564f38ffc6f55b872"
   },
   "outputs": [],
   "source": [
    "def datesplit(data):\n",
    "    data[\"Year\"] = data[\"Dates\"].dt.year\n",
    "    data[\"Month\"] = data[\"Dates\"].dt.month\n",
    "    data[\"Day\"] = data[\"Dates\"].dt.day\n",
    "    data[\"Hour\"] = data[\"Dates\"].dt.hour\n",
    "    data[\"Minute\"] = data[\"Dates\"].dt.minute\n",
    "    return data"
   ]
  },
  {
   "cell_type": "code",
   "execution_count": 257,
   "metadata": {
    "_uuid": "b4d408ecd64b685b059dd8a783680e0569635187"
   },
   "outputs": [],
   "source": [
    "test= datesplit(test)"
   ]
  },
  {
   "cell_type": "code",
   "execution_count": 258,
   "metadata": {
    "_uuid": "2c39bd0cbaa0a7bf46e7dc59f40eb4d37235248d"
   },
   "outputs": [],
   "source": [
    "test = pd.concat([test,pd.get_dummies(test.PdDistrict)], axis=1)\n",
    "test = pd.concat([test,pd.get_dummies(test.DayOfWeek)], axis=1)"
   ]
  },
  {
   "cell_type": "code",
   "execution_count": 259,
   "metadata": {
    "_uuid": "119516b6728f90788ad41460f36aebf87cfbc0f8"
   },
   "outputs": [],
   "source": [
    "add_encoder = LabelEncoder()"
   ]
  },
  {
   "cell_type": "code",
   "execution_count": 260,
   "metadata": {
    "_uuid": "bbf40c5e41db42777e1ec0a261d3e4794f369406"
   },
   "outputs": [],
   "source": [
    "test['StreetNo'] = test['Address'].apply(lambda x: x.split(' ', 1)[0] if x.split(' ', 1)[0].isdigit() else 0)\n",
    "test[\"Intersection\"]= test[\"Address\"].apply(lambda x: 1 if \"/\" in x else 0)\n",
    "test['Address'] = test['Address'].apply(lambda x: x.split(' ', 1)[1] if x.split(' ', 1)[0].isdigit() else x)\n",
    "add_encoder.fit(test[\"Address\"])\n",
    "test[\"Address\"]= add_encoder.transform(test[\"Address\"])"
   ]
  },
  {
   "cell_type": "code",
   "execution_count": 261,
   "metadata": {
    "_uuid": "ee2c435cee8bba19d669398f1e5b28ce08acd622"
   },
   "outputs": [],
   "source": [
    "test[\"Morning\"] = test[\"Hour\"].apply(lambda x: 1 if x>= 6 and x < 12 else 0)\n",
    "test[\"Noon\"] = test[\"Hour\"].apply(lambda x: 1 if x>= 12 and x < 17 else 0)\n",
    "test[\"Evening\"] = test[\"Hour\"].apply(lambda x: 1 if x>= 17 and x < 20 else 0)\n",
    "test[\"Night\"] = test[\"Hour\"].apply(lambda x: 1 if x >= 20 or x < 6 else 0)\n",
    "test[\"Fall\"] = test[\"Month\"].apply(lambda x: 1 if x>=3 and x <=5 else 0)\n",
    "test[\"Winter\"] = test[\"Month\"].apply(lambda x: 1 if x>=6 and x <=8 else 0)\n",
    "test[\"Spring\"] = test[\"Month\"].apply(lambda x: 1 if x>=9 and x <=11 else 0)\n",
    "test[\"Summer\"] = test[\"Month\"].apply(lambda x: 1 if x>=12 or x <=2 else 0)"
   ]
  },
  {
   "cell_type": "code",
   "execution_count": 262,
   "metadata": {
    "_uuid": "9b246a5bba193580e71a9e9ba4fb20d70daf3066"
   },
   "outputs": [
    {
     "data": {
      "text/plain": [
       "(10000, 39)"
      ]
     },
     "execution_count": 262,
     "metadata": {},
     "output_type": "execute_result"
    }
   ],
   "source": [
    "test.shape"
   ]
  },
  {
   "cell_type": "code",
   "execution_count": 263,
   "metadata": {
    "_uuid": "565ab8f223e9a2c0776fabfd8b075de9a1e35c4f"
   },
   "outputs": [
    {
     "data": {
      "text/html": [
       "<div>\n",
       "<style scoped>\n",
       "    .dataframe tbody tr th:only-of-type {\n",
       "        vertical-align: middle;\n",
       "    }\n",
       "\n",
       "    .dataframe tbody tr th {\n",
       "        vertical-align: top;\n",
       "    }\n",
       "\n",
       "    .dataframe thead th {\n",
       "        text-align: right;\n",
       "    }\n",
       "</style>\n",
       "<table border=\"1\" class=\"dataframe\">\n",
       "  <thead>\n",
       "    <tr style=\"text-align: right;\">\n",
       "      <th></th>\n",
       "      <th>Dates</th>\n",
       "      <th>DayOfWeek</th>\n",
       "      <th>PdDistrict</th>\n",
       "      <th>Address</th>\n",
       "      <th>X</th>\n",
       "      <th>Y</th>\n",
       "      <th>Id</th>\n",
       "      <th>Year</th>\n",
       "      <th>Month</th>\n",
       "      <th>Day</th>\n",
       "      <th>...</th>\n",
       "      <th>StreetNo</th>\n",
       "      <th>Intersection</th>\n",
       "      <th>Morning</th>\n",
       "      <th>Noon</th>\n",
       "      <th>Evening</th>\n",
       "      <th>Night</th>\n",
       "      <th>Fall</th>\n",
       "      <th>Winter</th>\n",
       "      <th>Spring</th>\n",
       "      <th>Summer</th>\n",
       "    </tr>\n",
       "  </thead>\n",
       "  <tbody>\n",
       "    <tr>\n",
       "      <th>0</th>\n",
       "      <td>2010-07-04 23:00:00</td>\n",
       "      <td>Sunday</td>\n",
       "      <td>TENDERLOIN</td>\n",
       "      <td>1187</td>\n",
       "      <td>-122.407878</td>\n",
       "      <td>37.785968</td>\n",
       "      <td>349598</td>\n",
       "      <td>2010</td>\n",
       "      <td>7</td>\n",
       "      <td>4</td>\n",
       "      <td>...</td>\n",
       "      <td>100</td>\n",
       "      <td>0</td>\n",
       "      <td>0</td>\n",
       "      <td>0</td>\n",
       "      <td>0</td>\n",
       "      <td>1</td>\n",
       "      <td>0</td>\n",
       "      <td>1</td>\n",
       "      <td>0</td>\n",
       "      <td>0</td>\n",
       "    </tr>\n",
       "    <tr>\n",
       "      <th>1</th>\n",
       "      <td>2004-06-26 22:43:00</td>\n",
       "      <td>Saturday</td>\n",
       "      <td>PARK</td>\n",
       "      <td>875</td>\n",
       "      <td>-122.443597</td>\n",
       "      <td>37.782644</td>\n",
       "      <td>766313</td>\n",
       "      <td>2004</td>\n",
       "      <td>6</td>\n",
       "      <td>26</td>\n",
       "      <td>...</td>\n",
       "      <td>2400</td>\n",
       "      <td>0</td>\n",
       "      <td>0</td>\n",
       "      <td>0</td>\n",
       "      <td>0</td>\n",
       "      <td>1</td>\n",
       "      <td>0</td>\n",
       "      <td>1</td>\n",
       "      <td>0</td>\n",
       "      <td>0</td>\n",
       "    </tr>\n",
       "    <tr>\n",
       "      <th>2</th>\n",
       "      <td>2013-02-09 21:26:00</td>\n",
       "      <td>Saturday</td>\n",
       "      <td>SOUTHERN</td>\n",
       "      <td>1864</td>\n",
       "      <td>-122.400474</td>\n",
       "      <td>37.785029</td>\n",
       "      <td>169887</td>\n",
       "      <td>2013</td>\n",
       "      <td>2</td>\n",
       "      <td>9</td>\n",
       "      <td>...</td>\n",
       "      <td>0</td>\n",
       "      <td>1</td>\n",
       "      <td>0</td>\n",
       "      <td>0</td>\n",
       "      <td>0</td>\n",
       "      <td>1</td>\n",
       "      <td>0</td>\n",
       "      <td>0</td>\n",
       "      <td>0</td>\n",
       "      <td>1</td>\n",
       "    </tr>\n",
       "    <tr>\n",
       "      <th>3</th>\n",
       "      <td>2006-12-03 22:30:00</td>\n",
       "      <td>Sunday</td>\n",
       "      <td>NORTHERN</td>\n",
       "      <td>2672</td>\n",
       "      <td>-122.419698</td>\n",
       "      <td>37.777301</td>\n",
       "      <td>594704</td>\n",
       "      <td>2006</td>\n",
       "      <td>12</td>\n",
       "      <td>3</td>\n",
       "      <td>...</td>\n",
       "      <td>0</td>\n",
       "      <td>1</td>\n",
       "      <td>0</td>\n",
       "      <td>0</td>\n",
       "      <td>0</td>\n",
       "      <td>1</td>\n",
       "      <td>0</td>\n",
       "      <td>0</td>\n",
       "      <td>0</td>\n",
       "      <td>1</td>\n",
       "    </tr>\n",
       "    <tr>\n",
       "      <th>4</th>\n",
       "      <td>2014-09-21 08:45:00</td>\n",
       "      <td>Sunday</td>\n",
       "      <td>PARK</td>\n",
       "      <td>455</td>\n",
       "      <td>-122.451488</td>\n",
       "      <td>37.767516</td>\n",
       "      <td>47900</td>\n",
       "      <td>2014</td>\n",
       "      <td>9</td>\n",
       "      <td>21</td>\n",
       "      <td>...</td>\n",
       "      <td>0</td>\n",
       "      <td>1</td>\n",
       "      <td>1</td>\n",
       "      <td>0</td>\n",
       "      <td>0</td>\n",
       "      <td>0</td>\n",
       "      <td>0</td>\n",
       "      <td>0</td>\n",
       "      <td>1</td>\n",
       "      <td>0</td>\n",
       "    </tr>\n",
       "  </tbody>\n",
       "</table>\n",
       "<p>5 rows × 39 columns</p>\n",
       "</div>"
      ],
      "text/plain": [
       "                Dates DayOfWeek  PdDistrict  Address           X          Y  \\\n",
       "0 2010-07-04 23:00:00    Sunday  TENDERLOIN     1187 -122.407878  37.785968   \n",
       "1 2004-06-26 22:43:00  Saturday        PARK      875 -122.443597  37.782644   \n",
       "2 2013-02-09 21:26:00  Saturday    SOUTHERN     1864 -122.400474  37.785029   \n",
       "3 2006-12-03 22:30:00    Sunday    NORTHERN     2672 -122.419698  37.777301   \n",
       "4 2014-09-21 08:45:00    Sunday        PARK      455 -122.451488  37.767516   \n",
       "\n",
       "       Id  Year  Month  Day   ...    StreetNo  Intersection  Morning  Noon  \\\n",
       "0  349598  2010      7    4   ...         100             0        0     0   \n",
       "1  766313  2004      6   26   ...        2400             0        0     0   \n",
       "2  169887  2013      2    9   ...           0             1        0     0   \n",
       "3  594704  2006     12    3   ...           0             1        0     0   \n",
       "4   47900  2014      9   21   ...           0             1        1     0   \n",
       "\n",
       "   Evening  Night  Fall  Winter  Spring  Summer  \n",
       "0        0      1     0       1       0       0  \n",
       "1        0      1     0       1       0       0  \n",
       "2        0      1     0       0       0       1  \n",
       "3        0      1     0       0       0       1  \n",
       "4        0      0     0       0       1       0  \n",
       "\n",
       "[5 rows x 39 columns]"
      ]
     },
     "execution_count": 263,
     "metadata": {},
     "output_type": "execute_result"
    }
   ],
   "source": [
    "test.head()"
   ]
  },
  {
   "cell_type": "code",
   "execution_count": 264,
   "metadata": {
    "_uuid": "22e4f7cd794f069bc56146fcde65ec2ec570fbd2"
   },
   "outputs": [],
   "source": [
    "test = test.drop([\"DayOfWeek\"], axis=1)"
   ]
  },
  {
   "cell_type": "code",
   "execution_count": 265,
   "metadata": {
    "_uuid": "1976d054409b982c967544ff1c5ffddce059b0f4"
   },
   "outputs": [],
   "source": [
    "test = test.drop([\"PdDistrict\",\"Dates\"],axis=1)"
   ]
  },
  {
   "cell_type": "code",
   "execution_count": 266,
   "metadata": {
    "_uuid": "b07f63186125b6900f74ed98ac19c5119cfb028f"
   },
   "outputs": [
    {
     "data": {
      "text/plain": [
       "(10000, 36)"
      ]
     },
     "execution_count": 266,
     "metadata": {},
     "output_type": "execute_result"
    }
   ],
   "source": [
    "test.shape"
   ]
  },
  {
   "cell_type": "code",
   "execution_count": 267,
   "metadata": {
    "_uuid": "0c70164ded1f8a912231b49eb2be1b51b2295bc7"
   },
   "outputs": [],
   "source": [
    "test['StreetNo'] = test['StreetNo'].astype(int)"
   ]
  },
  {
   "cell_type": "code",
   "execution_count": 268,
   "metadata": {
    "_uuid": "ac066f73b7ab481f9fcedf82405ad5008aa389af"
   },
   "outputs": [
    {
     "name": "stdout",
     "output_type": "stream",
     "text": [
      "<class 'pandas.core.frame.DataFrame'>\n",
      "RangeIndex: 10000 entries, 0 to 9999\n",
      "Data columns (total 36 columns):\n",
      "Address         10000 non-null int64\n",
      "X               10000 non-null float64\n",
      "Y               10000 non-null float64\n",
      "Id              10000 non-null int64\n",
      "Year            10000 non-null int64\n",
      "Month           10000 non-null int64\n",
      "Day             10000 non-null int64\n",
      "Hour            10000 non-null int64\n",
      "Minute          10000 non-null int64\n",
      "BAYVIEW         10000 non-null uint8\n",
      "CENTRAL         10000 non-null uint8\n",
      "INGLESIDE       10000 non-null uint8\n",
      "MISSION         10000 non-null uint8\n",
      "NORTHERN        10000 non-null uint8\n",
      "PARK            10000 non-null uint8\n",
      "RICHMOND        10000 non-null uint8\n",
      "SOUTHERN        10000 non-null uint8\n",
      "TARAVAL         10000 non-null uint8\n",
      "TENDERLOIN      10000 non-null uint8\n",
      "Friday          10000 non-null uint8\n",
      "Monday          10000 non-null uint8\n",
      "Saturday        10000 non-null uint8\n",
      "Sunday          10000 non-null uint8\n",
      "Thursday        10000 non-null uint8\n",
      "Tuesday         10000 non-null uint8\n",
      "Wednesday       10000 non-null uint8\n",
      "StreetNo        10000 non-null int32\n",
      "Intersection    10000 non-null int64\n",
      "Morning         10000 non-null int64\n",
      "Noon            10000 non-null int64\n",
      "Evening         10000 non-null int64\n",
      "Night           10000 non-null int64\n",
      "Fall            10000 non-null int64\n",
      "Winter          10000 non-null int64\n",
      "Spring          10000 non-null int64\n",
      "Summer          10000 non-null int64\n",
      "dtypes: float64(2), int32(1), int64(16), uint8(17)\n",
      "memory usage: 1.6 MB\n"
     ]
    }
   ],
   "source": [
    "test.info()"
   ]
  },
  {
   "cell_type": "code",
   "execution_count": 269,
   "metadata": {
    "_uuid": "482faeebb67e2d700569c4c7b553c389c6ff085f"
   },
   "outputs": [
    {
     "data": {
      "text/plain": [
       "(10000, 36)"
      ]
     },
     "execution_count": 269,
     "metadata": {},
     "output_type": "execute_result"
    }
   ],
   "source": [
    "test.shape"
   ]
  },
  {
   "cell_type": "code",
   "execution_count": 270,
   "metadata": {
    "_uuid": "8542b96829d33927f8d7f3e875bdec00088e02b3"
   },
   "outputs": [],
   "source": [
    "test_features=[ 'Address', 'X', 'Y', 'Year', 'Month', 'Day', 'Hour',\n",
    "       'Minute', 'BAYVIEW', 'CENTRAL', 'INGLESIDE', 'MISSION', 'NORTHERN',\n",
    "       'PARK', 'RICHMOND', 'SOUTHERN', 'TARAVAL', 'TENDERLOIN', 'Friday',\n",
    "       'Monday', 'Saturday', 'Sunday', 'Thursday', 'Tuesday', 'Wednesday',\n",
    "       'StreetNo', 'Intersection', 'Morning', 'Noon', 'Evening', 'Night',\n",
    "       'Fall', 'Winter', 'Spring', 'Summer']\n"
   ]
  },
  {
   "cell_type": "code",
   "execution_count": 271,
   "metadata": {},
   "outputs": [],
   "source": [
    "from sklearn.cluster import KMeans"
   ]
  },
  {
   "cell_type": "code",
   "execution_count": 272,
   "metadata": {},
   "outputs": [],
   "source": [
    "dataXY_train = train[['X','Y']]\n",
    "dataXY_test = test[['X','Y']]\n",
    "\n",
    "kmeans=KMeans(n_clusters=2)\n",
    "\n",
    "kmeans.fit(dataXY_train)\n",
    "train['LocCluster']=kmeans.labels_\n",
    "\n",
    "kmeans.fit(dataXY_test)\n",
    "\n",
    "\n",
    "test['LocCluster'] = kmeans.labels_\n",
    "\n",
    "train = train.drop(['X','Y'], axis=1)\n",
    "test = test.drop(['X','Y'], axis=1)"
   ]
  },
  {
   "cell_type": "code",
   "execution_count": 273,
   "metadata": {},
   "outputs": [
    {
     "data": {
      "text/plain": [
       "Index(['Category', 'Address', 'Id', 'Year', 'Month', 'Day', 'Hour', 'Minute',\n",
       "       'BAYVIEW', 'CENTRAL', 'INGLESIDE', 'MISSION', 'NORTHERN', 'PARK',\n",
       "       'RICHMOND', 'SOUTHERN', 'TARAVAL', 'TENDERLOIN', 'Friday', 'Monday',\n",
       "       'Saturday', 'Sunday', 'Thursday', 'Tuesday', 'Wednesday', 'StreetNo',\n",
       "       'Intersection', 'Morning', 'Noon', 'Evening', 'Night', 'Fall', 'Winter',\n",
       "       'Spring', 'Summer', 'LocCluster'],\n",
       "      dtype='object')"
      ]
     },
     "execution_count": 273,
     "metadata": {},
     "output_type": "execute_result"
    }
   ],
   "source": [
    "train.columns"
   ]
  },
  {
   "cell_type": "code",
   "execution_count": 274,
   "metadata": {},
   "outputs": [],
   "source": [
    "features = ['Address', 'Year', 'Month', 'Day', 'Hour', 'Minute',\n",
    "       'BAYVIEW', 'CENTRAL', 'INGLESIDE', 'MISSION', 'NORTHERN', 'PARK',\n",
    "       'RICHMOND', 'SOUTHERN', 'TARAVAL', 'TENDERLOIN', 'Friday', 'Monday',\n",
    "       'Saturday', 'Sunday', 'Thursday', 'Tuesday', 'Wednesday', 'StreetNo',\n",
    "       'Intersection', 'Morning', 'Noon', 'Evening', 'Night', 'Fall', 'Winter',\n",
    "       'Spring', 'Summer', 'LocCluster']\n",
    "\n",
    "test_features = ['Address', 'Year', 'Month', 'Day', 'Hour', 'Minute',\n",
    "       'BAYVIEW', 'CENTRAL', 'INGLESIDE', 'MISSION', 'NORTHERN', 'PARK',\n",
    "       'RICHMOND', 'SOUTHERN', 'TARAVAL', 'TENDERLOIN', 'Friday', 'Monday',\n",
    "       'Saturday', 'Sunday', 'Thursday', 'Tuesday', 'Wednesday', 'StreetNo',\n",
    "       'Intersection', 'Morning', 'Noon', 'Evening', 'Night', 'Fall', 'Winter',\n",
    "       'Spring', 'Summer', 'LocCluster']"
   ]
  },
  {
   "cell_type": "code",
   "execution_count": 275,
   "metadata": {},
   "outputs": [],
   "source": [
    "training,validation = train_test_split(train, train_size=0.80,random_state=51)"
   ]
  },
  {
   "cell_type": "code",
   "execution_count": 276,
   "metadata": {
    "_uuid": "b29f63ed6369cbe597e9fbc225934f7f6f94492d"
   },
   "outputs": [
    {
     "name": "stdout",
     "output_type": "stream",
     "text": [
      "0:\tlearn: -3.5503541\ttotal: 7.52s\tremaining: 12m 24s\n",
      "1:\tlearn: -3.5196886\ttotal: 14s\tremaining: 11m 24s\n",
      "2:\tlearn: -3.4911373\ttotal: 20.4s\tremaining: 10m 58s\n",
      "3:\tlearn: -3.4643379\ttotal: 26.8s\tremaining: 10m 42s\n",
      "4:\tlearn: -3.4390727\ttotal: 33.2s\tremaining: 10m 30s\n",
      "5:\tlearn: -3.4152065\ttotal: 41.2s\tremaining: 10m 45s\n",
      "6:\tlearn: -3.3923921\ttotal: 48.7s\tremaining: 10m 46s\n",
      "7:\tlearn: -3.3706830\ttotal: 55.2s\tremaining: 10m 35s\n",
      "8:\tlearn: -3.3499987\ttotal: 1m 1s\tremaining: 10m 25s\n",
      "9:\tlearn: -3.3302908\ttotal: 1m 8s\tremaining: 10m 14s\n",
      "10:\tlearn: -3.3115041\ttotal: 1m 14s\tremaining: 10m 4s\n",
      "11:\tlearn: -3.2933014\ttotal: 1m 21s\tremaining: 9m 55s\n",
      "12:\tlearn: -3.2758054\ttotal: 1m 29s\tremaining: 9m 58s\n",
      "13:\tlearn: -3.2589873\ttotal: 1m 35s\tremaining: 9m 49s\n",
      "14:\tlearn: -3.2427534\ttotal: 1m 44s\tremaining: 9m 49s\n",
      "15:\tlearn: -3.2271562\ttotal: 1m 51s\tremaining: 9m 44s\n",
      "16:\tlearn: -3.2120803\ttotal: 1m 59s\tremaining: 9m 43s\n",
      "17:\tlearn: -3.1976410\ttotal: 2m 5s\tremaining: 9m 33s\n",
      "18:\tlearn: -3.1836712\ttotal: 2m 12s\tremaining: 9m 24s\n",
      "19:\tlearn: -3.1700504\ttotal: 2m 19s\tremaining: 9m 16s\n",
      "20:\tlearn: -3.1568725\ttotal: 2m 25s\tremaining: 9m 7s\n",
      "21:\tlearn: -3.1440475\ttotal: 2m 32s\tremaining: 8m 59s\n",
      "22:\tlearn: -3.1315746\ttotal: 2m 38s\tremaining: 8m 51s\n",
      "23:\tlearn: -3.1196257\ttotal: 2m 45s\tremaining: 8m 43s\n",
      "24:\tlearn: -3.1078959\ttotal: 2m 51s\tremaining: 8m 35s\n",
      "25:\tlearn: -3.0966253\ttotal: 2m 58s\tremaining: 8m 27s\n",
      "26:\tlearn: -3.0854552\ttotal: 3m 5s\tremaining: 8m 20s\n",
      "27:\tlearn: -3.0746085\ttotal: 3m 11s\tremaining: 8m 12s\n",
      "28:\tlearn: -3.0640503\ttotal: 3m 19s\tremaining: 8m 7s\n",
      "29:\tlearn: -3.0537416\ttotal: 3m 25s\tremaining: 8m\n",
      "30:\tlearn: -3.0429433\ttotal: 3m 33s\tremaining: 7m 54s\n",
      "31:\tlearn: -3.0332367\ttotal: 3m 39s\tremaining: 7m 46s\n",
      "32:\tlearn: -3.0230047\ttotal: 3m 46s\tremaining: 7m 39s\n",
      "33:\tlearn: -3.0137141\ttotal: 3m 53s\tremaining: 7m 33s\n",
      "34:\tlearn: -3.0046587\ttotal: 4m\tremaining: 7m 26s\n",
      "35:\tlearn: -2.9957377\ttotal: 4m 7s\tremaining: 7m 19s\n",
      "36:\tlearn: -2.9864530\ttotal: 4m 14s\tremaining: 7m 13s\n",
      "37:\tlearn: -2.9779882\ttotal: 4m 22s\tremaining: 7m 8s\n",
      "38:\tlearn: -2.9697451\ttotal: 4m 29s\tremaining: 7m 1s\n",
      "39:\tlearn: -2.9610941\ttotal: 4m 36s\tremaining: 6m 54s\n",
      "40:\tlearn: -2.9532684\ttotal: 4m 42s\tremaining: 6m 46s\n",
      "41:\tlearn: -2.9455483\ttotal: 4m 50s\tremaining: 6m 41s\n",
      "42:\tlearn: -2.9379959\ttotal: 4m 57s\tremaining: 6m 34s\n",
      "43:\tlearn: -2.9306498\ttotal: 5m 3s\tremaining: 6m 26s\n",
      "44:\tlearn: -2.9234251\ttotal: 5m 10s\tremaining: 6m 19s\n",
      "45:\tlearn: -2.9163535\ttotal: 5m 17s\tremaining: 6m 13s\n",
      "46:\tlearn: -2.9093666\ttotal: 5m 24s\tremaining: 6m 5s\n",
      "47:\tlearn: -2.9026245\ttotal: 5m 31s\tremaining: 5m 58s\n",
      "48:\tlearn: -2.8959925\ttotal: 5m 37s\tremaining: 5m 51s\n",
      "49:\tlearn: -2.8894871\ttotal: 5m 44s\tremaining: 5m 44s\n",
      "50:\tlearn: -2.8830923\ttotal: 5m 50s\tremaining: 5m 37s\n",
      "51:\tlearn: -2.8768578\ttotal: 5m 58s\tremaining: 5m 31s\n",
      "52:\tlearn: -2.8707369\ttotal: 6m 5s\tremaining: 5m 24s\n",
      "53:\tlearn: -2.8640775\ttotal: 6m 12s\tremaining: 5m 17s\n",
      "54:\tlearn: -2.8582415\ttotal: 6m 18s\tremaining: 5m 9s\n",
      "55:\tlearn: -2.8519142\ttotal: 6m 25s\tremaining: 5m 2s\n",
      "56:\tlearn: -2.8456403\ttotal: 6m 32s\tremaining: 4m 55s\n",
      "57:\tlearn: -2.8400599\ttotal: 6m 40s\tremaining: 4m 49s\n",
      "58:\tlearn: -2.8345224\ttotal: 6m 46s\tremaining: 4m 42s\n",
      "59:\tlearn: -2.8285702\ttotal: 6m 54s\tremaining: 4m 36s\n",
      "60:\tlearn: -2.8233276\ttotal: 7m 1s\tremaining: 4m 29s\n",
      "61:\tlearn: -2.8176975\ttotal: 7m 8s\tremaining: 4m 22s\n",
      "62:\tlearn: -2.8125004\ttotal: 7m 15s\tremaining: 4m 15s\n",
      "63:\tlearn: -2.8069871\ttotal: 7m 21s\tremaining: 4m 8s\n",
      "64:\tlearn: -2.8020333\ttotal: 7m 30s\tremaining: 4m 2s\n",
      "65:\tlearn: -2.7971177\ttotal: 7m 36s\tremaining: 3m 55s\n",
      "66:\tlearn: -2.7919122\ttotal: 7m 43s\tremaining: 3m 48s\n",
      "67:\tlearn: -2.7871775\ttotal: 7m 50s\tremaining: 3m 41s\n",
      "68:\tlearn: -2.7825783\ttotal: 7m 56s\tremaining: 3m 34s\n",
      "69:\tlearn: -2.7780715\ttotal: 8m 3s\tremaining: 3m 27s\n",
      "70:\tlearn: -2.7732126\ttotal: 8m 10s\tremaining: 3m 20s\n",
      "71:\tlearn: -2.7688631\ttotal: 8m 16s\tremaining: 3m 13s\n",
      "72:\tlearn: -2.7641946\ttotal: 8m 23s\tremaining: 3m 6s\n",
      "73:\tlearn: -2.7599836\ttotal: 8m 30s\tremaining: 2m 59s\n",
      "74:\tlearn: -2.7558578\ttotal: 8m 38s\tremaining: 2m 52s\n",
      "75:\tlearn: -2.7514025\ttotal: 8m 45s\tremaining: 2m 46s\n",
      "76:\tlearn: -2.7470518\ttotal: 8m 52s\tremaining: 2m 39s\n",
      "77:\tlearn: -2.7427769\ttotal: 8m 59s\tremaining: 2m 32s\n",
      "78:\tlearn: -2.7385611\ttotal: 9m 6s\tremaining: 2m 25s\n",
      "79:\tlearn: -2.7344264\ttotal: 9m 14s\tremaining: 2m 18s\n",
      "80:\tlearn: -2.7303873\ttotal: 9m 21s\tremaining: 2m 11s\n",
      "81:\tlearn: -2.7264054\ttotal: 9m 28s\tremaining: 2m 4s\n",
      "82:\tlearn: -2.7225146\ttotal: 9m 35s\tremaining: 1m 57s\n",
      "83:\tlearn: -2.7186937\ttotal: 9m 41s\tremaining: 1m 50s\n",
      "84:\tlearn: -2.7149435\ttotal: 9m 48s\tremaining: 1m 43s\n",
      "85:\tlearn: -2.7112626\ttotal: 9m 55s\tremaining: 1m 36s\n",
      "86:\tlearn: -2.7076258\ttotal: 10m 3s\tremaining: 1m 30s\n",
      "87:\tlearn: -2.7040564\ttotal: 10m 10s\tremaining: 1m 23s\n",
      "88:\tlearn: -2.7005688\ttotal: 10m 17s\tremaining: 1m 16s\n",
      "89:\tlearn: -2.6971204\ttotal: 10m 24s\tremaining: 1m 9s\n",
      "90:\tlearn: -2.6937359\ttotal: 10m 31s\tremaining: 1m 2s\n",
      "91:\tlearn: -2.6903536\ttotal: 10m 38s\tremaining: 55.5s\n",
      "92:\tlearn: -2.6871024\ttotal: 10m 46s\tremaining: 48.7s\n",
      "93:\tlearn: -2.6838903\ttotal: 10m 53s\tremaining: 41.7s\n",
      "94:\tlearn: -2.6806770\ttotal: 11m\tremaining: 34.7s\n",
      "95:\tlearn: -2.6775901\ttotal: 11m 6s\tremaining: 27.8s\n",
      "96:\tlearn: -2.6745391\ttotal: 11m 13s\tremaining: 20.8s\n",
      "97:\tlearn: -2.6714840\ttotal: 11m 20s\tremaining: 13.9s\n",
      "98:\tlearn: -2.6685353\ttotal: 11m 27s\tremaining: 6.94s\n",
      "99:\tlearn: -2.6656504\ttotal: 11m 34s\tremaining: 0us\n"
     ]
    }
   ],
   "source": [
    "model_catBoost = model.fit(training[features],training['Category'])"
   ]
  },
  {
   "cell_type": "code",
   "execution_count": 277,
   "metadata": {
    "_uuid": "f30f15b50cb58fc39eefa4cfde31a434373a01d0"
   },
   "outputs": [],
   "source": [
    "ypredict=model_catBoost.predict_proba(validation[features])"
   ]
  },
  {
   "cell_type": "code",
   "execution_count": 278,
   "metadata": {
    "_uuid": "5bac14c7302bd3abc818fe55f04f07b564718130"
   },
   "outputs": [
    {
     "data": {
      "text/plain": [
       "(173575, 36)"
      ]
     },
     "execution_count": 278,
     "metadata": {},
     "output_type": "execute_result"
    }
   ],
   "source": [
    "ypredict.shape"
   ]
  },
  {
   "cell_type": "code",
   "execution_count": 279,
   "metadata": {
    "_uuid": "d9513aea00643069fd704b8fd491fcb4e695da25"
   },
   "outputs": [
    {
     "name": "stdout",
     "output_type": "stream",
     "text": [
      "2.6664504383393197\n"
     ]
    }
   ],
   "source": [
    "print(log_loss(validation['Category'],ypredict))"
   ]
  },
  {
   "cell_type": "code",
   "execution_count": 280,
   "metadata": {
    "_uuid": "1ad5c07722ceb7bdcda12a84849e8fc0de2b6a4d"
   },
   "outputs": [],
   "source": [
    "ypredict=model_catBoost.predict_proba(test[test_features])"
   ]
  },
  {
   "cell_type": "code",
   "execution_count": 281,
   "metadata": {
    "_uuid": "69eb636ac027c67b0cd327965adad30893661c29"
   },
   "outputs": [
    {
     "data": {
      "text/plain": [
       "(10000, 36)"
      ]
     },
     "execution_count": 281,
     "metadata": {},
     "output_type": "execute_result"
    }
   ],
   "source": [
    "ypredict.shape"
   ]
  },
  {
   "cell_type": "code",
   "execution_count": 282,
   "metadata": {
    "_uuid": "40317852c57dd582c5f07aa0b7abc3731c735728"
   },
   "outputs": [],
   "source": [
    "result=pd.DataFrame(ypredict,columns=cat_encoder.classes_)\n",
    "result['Id']=test['Id']"
   ]
  },
  {
   "cell_type": "code",
   "execution_count": 283,
   "metadata": {
    "_uuid": "81aab9edf8518f10e4ca46f29c99317033ac437e"
   },
   "outputs": [],
   "source": [
    "result.to_csv('predProbCatBoost26Oct.csv',index=False,index_label='Id')"
   ]
  },
  {
   "cell_type": "code",
   "execution_count": 284,
   "metadata": {
    "_uuid": "d14c579cd616b492e4fe71233b3223a4330601aa"
   },
   "outputs": [
    {
     "data": {
      "text/html": [
       "<div>\n",
       "<style scoped>\n",
       "    .dataframe tbody tr th:only-of-type {\n",
       "        vertical-align: middle;\n",
       "    }\n",
       "\n",
       "    .dataframe tbody tr th {\n",
       "        vertical-align: top;\n",
       "    }\n",
       "\n",
       "    .dataframe thead th {\n",
       "        text-align: right;\n",
       "    }\n",
       "</style>\n",
       "<table border=\"1\" class=\"dataframe\">\n",
       "  <thead>\n",
       "    <tr style=\"text-align: right;\">\n",
       "      <th></th>\n",
       "      <th>ARSON</th>\n",
       "      <th>ASSAULT</th>\n",
       "      <th>BAD CHECKS</th>\n",
       "      <th>BRIBERY</th>\n",
       "      <th>BURGLARY</th>\n",
       "      <th>DISORDERLY CONDUCT</th>\n",
       "      <th>DRIVING UNDER THE INFLUENCE</th>\n",
       "      <th>DRUG/NARCOTIC</th>\n",
       "      <th>DRUNKENNESS</th>\n",
       "      <th>EMBEZZLEMENT</th>\n",
       "      <th>...</th>\n",
       "      <th>SEX OFFENSES FORCIBLE</th>\n",
       "      <th>STOLEN PROPERTY</th>\n",
       "      <th>SUICIDE</th>\n",
       "      <th>SUSPICIOUS OCC</th>\n",
       "      <th>TRESPASS</th>\n",
       "      <th>VANDALISM</th>\n",
       "      <th>VEHICLE THEFT</th>\n",
       "      <th>WARRANTS</th>\n",
       "      <th>WEAPON LAWS</th>\n",
       "      <th>Id</th>\n",
       "    </tr>\n",
       "  </thead>\n",
       "  <tbody>\n",
       "    <tr>\n",
       "      <th>0</th>\n",
       "      <td>0.011435</td>\n",
       "      <td>0.084476</td>\n",
       "      <td>0.011180</td>\n",
       "      <td>0.010814</td>\n",
       "      <td>0.046688</td>\n",
       "      <td>0.012908</td>\n",
       "      <td>0.010931</td>\n",
       "      <td>0.043209</td>\n",
       "      <td>0.011852</td>\n",
       "      <td>0.012028</td>\n",
       "      <td>...</td>\n",
       "      <td>0.017382</td>\n",
       "      <td>0.012501</td>\n",
       "      <td>0.011176</td>\n",
       "      <td>0.038195</td>\n",
       "      <td>0.015110</td>\n",
       "      <td>0.039221</td>\n",
       "      <td>0.034283</td>\n",
       "      <td>0.027079</td>\n",
       "      <td>0.013246</td>\n",
       "      <td>349598</td>\n",
       "    </tr>\n",
       "    <tr>\n",
       "      <th>1</th>\n",
       "      <td>0.012227</td>\n",
       "      <td>0.093174</td>\n",
       "      <td>0.010465</td>\n",
       "      <td>0.010564</td>\n",
       "      <td>0.039209</td>\n",
       "      <td>0.014175</td>\n",
       "      <td>0.011969</td>\n",
       "      <td>0.053393</td>\n",
       "      <td>0.015843</td>\n",
       "      <td>0.010815</td>\n",
       "      <td>...</td>\n",
       "      <td>0.013107</td>\n",
       "      <td>0.014668</td>\n",
       "      <td>0.010966</td>\n",
       "      <td>0.035481</td>\n",
       "      <td>0.018744</td>\n",
       "      <td>0.046722</td>\n",
       "      <td>0.044241</td>\n",
       "      <td>0.049689</td>\n",
       "      <td>0.019656</td>\n",
       "      <td>766313</td>\n",
       "    </tr>\n",
       "    <tr>\n",
       "      <th>2</th>\n",
       "      <td>0.011021</td>\n",
       "      <td>0.050343</td>\n",
       "      <td>0.010236</td>\n",
       "      <td>0.010330</td>\n",
       "      <td>0.011634</td>\n",
       "      <td>0.012950</td>\n",
       "      <td>0.016088</td>\n",
       "      <td>0.060123</td>\n",
       "      <td>0.015655</td>\n",
       "      <td>0.010286</td>\n",
       "      <td>...</td>\n",
       "      <td>0.011636</td>\n",
       "      <td>0.014680</td>\n",
       "      <td>0.010292</td>\n",
       "      <td>0.027283</td>\n",
       "      <td>0.011233</td>\n",
       "      <td>0.030803</td>\n",
       "      <td>0.025625</td>\n",
       "      <td>0.051423</td>\n",
       "      <td>0.018632</td>\n",
       "      <td>169887</td>\n",
       "    </tr>\n",
       "    <tr>\n",
       "      <th>3</th>\n",
       "      <td>0.010843</td>\n",
       "      <td>0.046989</td>\n",
       "      <td>0.010248</td>\n",
       "      <td>0.010279</td>\n",
       "      <td>0.011365</td>\n",
       "      <td>0.013175</td>\n",
       "      <td>0.013716</td>\n",
       "      <td>0.041470</td>\n",
       "      <td>0.013147</td>\n",
       "      <td>0.010313</td>\n",
       "      <td>...</td>\n",
       "      <td>0.012195</td>\n",
       "      <td>0.012819</td>\n",
       "      <td>0.010268</td>\n",
       "      <td>0.022007</td>\n",
       "      <td>0.010766</td>\n",
       "      <td>0.039318</td>\n",
       "      <td>0.069453</td>\n",
       "      <td>0.035048</td>\n",
       "      <td>0.015317</td>\n",
       "      <td>594704</td>\n",
       "    </tr>\n",
       "    <tr>\n",
       "      <th>4</th>\n",
       "      <td>0.010959</td>\n",
       "      <td>0.053090</td>\n",
       "      <td>0.010266</td>\n",
       "      <td>0.010385</td>\n",
       "      <td>0.011693</td>\n",
       "      <td>0.014573</td>\n",
       "      <td>0.015275</td>\n",
       "      <td>0.059020</td>\n",
       "      <td>0.015023</td>\n",
       "      <td>0.010305</td>\n",
       "      <td>...</td>\n",
       "      <td>0.011829</td>\n",
       "      <td>0.014362</td>\n",
       "      <td>0.010315</td>\n",
       "      <td>0.029190</td>\n",
       "      <td>0.011432</td>\n",
       "      <td>0.028503</td>\n",
       "      <td>0.026618</td>\n",
       "      <td>0.056235</td>\n",
       "      <td>0.018231</td>\n",
       "      <td>47900</td>\n",
       "    </tr>\n",
       "  </tbody>\n",
       "</table>\n",
       "<p>5 rows × 37 columns</p>\n",
       "</div>"
      ],
      "text/plain": [
       "      ARSON   ASSAULT  BAD CHECKS   BRIBERY  BURGLARY  DISORDERLY CONDUCT  \\\n",
       "0  0.011435  0.084476    0.011180  0.010814  0.046688            0.012908   \n",
       "1  0.012227  0.093174    0.010465  0.010564  0.039209            0.014175   \n",
       "2  0.011021  0.050343    0.010236  0.010330  0.011634            0.012950   \n",
       "3  0.010843  0.046989    0.010248  0.010279  0.011365            0.013175   \n",
       "4  0.010959  0.053090    0.010266  0.010385  0.011693            0.014573   \n",
       "\n",
       "   DRIVING UNDER THE INFLUENCE  DRUG/NARCOTIC  DRUNKENNESS  EMBEZZLEMENT  \\\n",
       "0                     0.010931       0.043209     0.011852      0.012028   \n",
       "1                     0.011969       0.053393     0.015843      0.010815   \n",
       "2                     0.016088       0.060123     0.015655      0.010286   \n",
       "3                     0.013716       0.041470     0.013147      0.010313   \n",
       "4                     0.015275       0.059020     0.015023      0.010305   \n",
       "\n",
       "    ...    SEX OFFENSES FORCIBLE  STOLEN PROPERTY   SUICIDE  SUSPICIOUS OCC  \\\n",
       "0   ...                 0.017382         0.012501  0.011176        0.038195   \n",
       "1   ...                 0.013107         0.014668  0.010966        0.035481   \n",
       "2   ...                 0.011636         0.014680  0.010292        0.027283   \n",
       "3   ...                 0.012195         0.012819  0.010268        0.022007   \n",
       "4   ...                 0.011829         0.014362  0.010315        0.029190   \n",
       "\n",
       "   TRESPASS  VANDALISM  VEHICLE THEFT  WARRANTS  WEAPON LAWS      Id  \n",
       "0  0.015110   0.039221       0.034283  0.027079     0.013246  349598  \n",
       "1  0.018744   0.046722       0.044241  0.049689     0.019656  766313  \n",
       "2  0.011233   0.030803       0.025625  0.051423     0.018632  169887  \n",
       "3  0.010766   0.039318       0.069453  0.035048     0.015317  594704  \n",
       "4  0.011432   0.028503       0.026618  0.056235     0.018231   47900  \n",
       "\n",
       "[5 rows x 37 columns]"
      ]
     },
     "execution_count": 284,
     "metadata": {},
     "output_type": "execute_result"
    }
   ],
   "source": [
    "result.head()"
   ]
  },
  {
   "cell_type": "code",
   "execution_count": null,
   "metadata": {},
   "outputs": [],
   "source": []
  }
 ],
 "metadata": {
  "kernelspec": {
   "display_name": "Python 3",
   "language": "python",
   "name": "python3"
  },
  "language_info": {
   "codemirror_mode": {
    "name": "ipython",
    "version": 3
   },
   "file_extension": ".py",
   "mimetype": "text/x-python",
   "name": "python",
   "nbconvert_exporter": "python",
   "pygments_lexer": "ipython3",
   "version": "3.6.5"
  }
 },
 "nbformat": 4,
 "nbformat_minor": 1
}
